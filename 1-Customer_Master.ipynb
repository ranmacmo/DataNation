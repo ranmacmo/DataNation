{
 "cells": [
  {
   "cell_type": "code",
   "execution_count": 7,
   "metadata": {
    "collapsed": true
   },
   "outputs": [],
   "source": [
    "from sklearn.model_selection import train_test_split\n",
    "from sklearn.preprocessing import StandardScaler,OneHotEncoder\n",
    "import pandas as pd\n",
    "import numpy as np\n",
    "import matplotlib.pyplot as plt\n",
    "import io"
   ]
  },
  {
   "cell_type": "markdown",
   "source": [
    "## Load the customer sales dataset\n"
   ],
   "metadata": {
    "collapsed": false
   }
  },
  {
   "cell_type": "code",
   "execution_count": 8,
   "outputs": [
    {
     "data": {
      "text/plain": "        CustomerID BillPostalCode BillStateProvCode BillCountryCode  \\\n0            10012          49649                MI              US   \n1            10012          49649                MI              US   \n2            10012          49649                MI              US   \n3            10012          49649                MI              US   \n4            24012          68713                NE              US   \n...            ...            ...               ...             ...   \n238353   375213012          68701                NE              US   \n238354   375214012          70094                LA              US   \n238355   375215012          77990                TX              US   \n238356   375216012          42437                KY              US   \n238357   375217012          36116                AL              US   \n\n                      LOB   Market  ChannelOrderID   OrderDate  Quantity  \\\n0                 Salvage     eBay         4468548  2021-04-29         1   \n1                 Salvage     eBay         4468548  2021-04-29         1   \n2                 Salvage     eBay         4468639  2021-04-29         1   \n3                 Salvage     eBay         4471261  2021-04-30         1   \n4                 Salvage  Website         4758999  2021-09-07         1   \n...                   ...      ...             ...         ...       ...   \n238353            Salvage  Website         5623912  2023-01-25         1   \n238354            Salvage     eBay         5623899  2023-01-25         1   \n238355            Salvage     eBay         5623884  2023-01-25         1   \n238356  NOS-Rebuilt-Parts  Website         5623898  2023-01-25         1   \n238357            Salvage  Website         5623885  2023-01-25         1   \n\n        UnitPrice  Total          SKU  \\\n0           25.00  25.00       883562   \n1           45.00  45.00       983570   \n2           31.99  31.99      1219950   \n3           19.99  19.99      1054150   \n4           69.99  69.99      1302547   \n...           ...    ...          ...   \n238353      25.00  25.00       Custom   \n238354      60.00  60.00      1412157   \n238355      16.99  16.99      1485347   \n238356      24.94  24.94  PSN-3022897   \n238357       9.99   9.99      1573174   \n\n                                                    Title        Brand  \n0       Can-Am Commander 1000 XT 14 Fender Left Front ...       Can-Am  \n1       Can-Am Commander 800R XT 12 Fender Right Front...       Can-Am  \n2       Can-Am Commander 1000 XT 14 Fender Flare Left ...       Can-Am  \n3       Can-Am Commander 1000 XT 11 Lateral Panel Righ...       Can-Am  \n4       Polaris Sportsman 90 02 Footrest Left 0450616 ...      Polaris  \n...                                                   ...          ...  \n238353                                   1 tire from rack  Other-Brand  \n238354  Honda Foreman 400 FW 98 Recoil Starter 28400-H...        Honda  \n238355  Suzuki Vinson 500 03 Battery Positive Cable 33...       Suzuki  \n238356  Polaris General RZR ACE Ranger 900 1000 XP Tur...      Polaris  \n238357  Honda Recon 250 TM 02 Ignition Coil 30510-HN6-...        Honda  \n\n[238358 rows x 14 columns]",
      "text/html": "<div>\n<style scoped>\n    .dataframe tbody tr th:only-of-type {\n        vertical-align: middle;\n    }\n\n    .dataframe tbody tr th {\n        vertical-align: top;\n    }\n\n    .dataframe thead th {\n        text-align: right;\n    }\n</style>\n<table border=\"1\" class=\"dataframe\">\n  <thead>\n    <tr style=\"text-align: right;\">\n      <th></th>\n      <th>CustomerID</th>\n      <th>BillPostalCode</th>\n      <th>BillStateProvCode</th>\n      <th>BillCountryCode</th>\n      <th>LOB</th>\n      <th>Market</th>\n      <th>ChannelOrderID</th>\n      <th>OrderDate</th>\n      <th>Quantity</th>\n      <th>UnitPrice</th>\n      <th>Total</th>\n      <th>SKU</th>\n      <th>Title</th>\n      <th>Brand</th>\n    </tr>\n  </thead>\n  <tbody>\n    <tr>\n      <th>0</th>\n      <td>10012</td>\n      <td>49649</td>\n      <td>MI</td>\n      <td>US</td>\n      <td>Salvage</td>\n      <td>eBay</td>\n      <td>4468548</td>\n      <td>2021-04-29</td>\n      <td>1</td>\n      <td>25.00</td>\n      <td>25.00</td>\n      <td>883562</td>\n      <td>Can-Am Commander 1000 XT 14 Fender Left Front ...</td>\n      <td>Can-Am</td>\n    </tr>\n    <tr>\n      <th>1</th>\n      <td>10012</td>\n      <td>49649</td>\n      <td>MI</td>\n      <td>US</td>\n      <td>Salvage</td>\n      <td>eBay</td>\n      <td>4468548</td>\n      <td>2021-04-29</td>\n      <td>1</td>\n      <td>45.00</td>\n      <td>45.00</td>\n      <td>983570</td>\n      <td>Can-Am Commander 800R XT 12 Fender Right Front...</td>\n      <td>Can-Am</td>\n    </tr>\n    <tr>\n      <th>2</th>\n      <td>10012</td>\n      <td>49649</td>\n      <td>MI</td>\n      <td>US</td>\n      <td>Salvage</td>\n      <td>eBay</td>\n      <td>4468639</td>\n      <td>2021-04-29</td>\n      <td>1</td>\n      <td>31.99</td>\n      <td>31.99</td>\n      <td>1219950</td>\n      <td>Can-Am Commander 1000 XT 14 Fender Flare Left ...</td>\n      <td>Can-Am</td>\n    </tr>\n    <tr>\n      <th>3</th>\n      <td>10012</td>\n      <td>49649</td>\n      <td>MI</td>\n      <td>US</td>\n      <td>Salvage</td>\n      <td>eBay</td>\n      <td>4471261</td>\n      <td>2021-04-30</td>\n      <td>1</td>\n      <td>19.99</td>\n      <td>19.99</td>\n      <td>1054150</td>\n      <td>Can-Am Commander 1000 XT 11 Lateral Panel Righ...</td>\n      <td>Can-Am</td>\n    </tr>\n    <tr>\n      <th>4</th>\n      <td>24012</td>\n      <td>68713</td>\n      <td>NE</td>\n      <td>US</td>\n      <td>Salvage</td>\n      <td>Website</td>\n      <td>4758999</td>\n      <td>2021-09-07</td>\n      <td>1</td>\n      <td>69.99</td>\n      <td>69.99</td>\n      <td>1302547</td>\n      <td>Polaris Sportsman 90 02 Footrest Left 0450616 ...</td>\n      <td>Polaris</td>\n    </tr>\n    <tr>\n      <th>...</th>\n      <td>...</td>\n      <td>...</td>\n      <td>...</td>\n      <td>...</td>\n      <td>...</td>\n      <td>...</td>\n      <td>...</td>\n      <td>...</td>\n      <td>...</td>\n      <td>...</td>\n      <td>...</td>\n      <td>...</td>\n      <td>...</td>\n      <td>...</td>\n    </tr>\n    <tr>\n      <th>238353</th>\n      <td>375213012</td>\n      <td>68701</td>\n      <td>NE</td>\n      <td>US</td>\n      <td>Salvage</td>\n      <td>Website</td>\n      <td>5623912</td>\n      <td>2023-01-25</td>\n      <td>1</td>\n      <td>25.00</td>\n      <td>25.00</td>\n      <td>Custom</td>\n      <td>1 tire from rack</td>\n      <td>Other-Brand</td>\n    </tr>\n    <tr>\n      <th>238354</th>\n      <td>375214012</td>\n      <td>70094</td>\n      <td>LA</td>\n      <td>US</td>\n      <td>Salvage</td>\n      <td>eBay</td>\n      <td>5623899</td>\n      <td>2023-01-25</td>\n      <td>1</td>\n      <td>60.00</td>\n      <td>60.00</td>\n      <td>1412157</td>\n      <td>Honda Foreman 400 FW 98 Recoil Starter 28400-H...</td>\n      <td>Honda</td>\n    </tr>\n    <tr>\n      <th>238355</th>\n      <td>375215012</td>\n      <td>77990</td>\n      <td>TX</td>\n      <td>US</td>\n      <td>Salvage</td>\n      <td>eBay</td>\n      <td>5623884</td>\n      <td>2023-01-25</td>\n      <td>1</td>\n      <td>16.99</td>\n      <td>16.99</td>\n      <td>1485347</td>\n      <td>Suzuki Vinson 500 03 Battery Positive Cable 33...</td>\n      <td>Suzuki</td>\n    </tr>\n    <tr>\n      <th>238356</th>\n      <td>375216012</td>\n      <td>42437</td>\n      <td>KY</td>\n      <td>US</td>\n      <td>NOS-Rebuilt-Parts</td>\n      <td>Website</td>\n      <td>5623898</td>\n      <td>2023-01-25</td>\n      <td>1</td>\n      <td>24.94</td>\n      <td>24.94</td>\n      <td>PSN-3022897</td>\n      <td>Polaris General RZR ACE Ranger 900 1000 XP Tur...</td>\n      <td>Polaris</td>\n    </tr>\n    <tr>\n      <th>238357</th>\n      <td>375217012</td>\n      <td>36116</td>\n      <td>AL</td>\n      <td>US</td>\n      <td>Salvage</td>\n      <td>Website</td>\n      <td>5623885</td>\n      <td>2023-01-25</td>\n      <td>1</td>\n      <td>9.99</td>\n      <td>9.99</td>\n      <td>1573174</td>\n      <td>Honda Recon 250 TM 02 Ignition Coil 30510-HN6-...</td>\n      <td>Honda</td>\n    </tr>\n  </tbody>\n</table>\n<p>238358 rows × 14 columns</p>\n</div>"
     },
     "execution_count": 8,
     "metadata": {},
     "output_type": "execute_result"
    }
   ],
   "source": [
    "# Load the customer dataset\n",
    "file_path = \"data/Customer_sales.csv\"\n",
    "df_customer_sales = pd.read_csv(file_path,dtype={\"BillPostalCode\":\"string\"} )\n",
    "df_customer_sales"
   ],
   "metadata": {
    "collapsed": false
   }
  },
  {
   "cell_type": "code",
   "execution_count": 9,
   "outputs": [
    {
     "data": {
      "text/plain": "        CustomerID BillPostalCode BillStateProvCode\n0            10012          49649                MI\n1            10012          49649                MI\n2            10012          49649                MI\n3            10012          49649                MI\n4            24012          68713                NE\n...            ...            ...               ...\n238353   375213012          68701                NE\n238354   375214012          70094                LA\n238355   375215012          77990                TX\n238356   375216012          42437                KY\n238357   375217012          36116                AL\n\n[238358 rows x 3 columns]",
      "text/html": "<div>\n<style scoped>\n    .dataframe tbody tr th:only-of-type {\n        vertical-align: middle;\n    }\n\n    .dataframe tbody tr th {\n        vertical-align: top;\n    }\n\n    .dataframe thead th {\n        text-align: right;\n    }\n</style>\n<table border=\"1\" class=\"dataframe\">\n  <thead>\n    <tr style=\"text-align: right;\">\n      <th></th>\n      <th>CustomerID</th>\n      <th>BillPostalCode</th>\n      <th>BillStateProvCode</th>\n    </tr>\n  </thead>\n  <tbody>\n    <tr>\n      <th>0</th>\n      <td>10012</td>\n      <td>49649</td>\n      <td>MI</td>\n    </tr>\n    <tr>\n      <th>1</th>\n      <td>10012</td>\n      <td>49649</td>\n      <td>MI</td>\n    </tr>\n    <tr>\n      <th>2</th>\n      <td>10012</td>\n      <td>49649</td>\n      <td>MI</td>\n    </tr>\n    <tr>\n      <th>3</th>\n      <td>10012</td>\n      <td>49649</td>\n      <td>MI</td>\n    </tr>\n    <tr>\n      <th>4</th>\n      <td>24012</td>\n      <td>68713</td>\n      <td>NE</td>\n    </tr>\n    <tr>\n      <th>...</th>\n      <td>...</td>\n      <td>...</td>\n      <td>...</td>\n    </tr>\n    <tr>\n      <th>238353</th>\n      <td>375213012</td>\n      <td>68701</td>\n      <td>NE</td>\n    </tr>\n    <tr>\n      <th>238354</th>\n      <td>375214012</td>\n      <td>70094</td>\n      <td>LA</td>\n    </tr>\n    <tr>\n      <th>238355</th>\n      <td>375215012</td>\n      <td>77990</td>\n      <td>TX</td>\n    </tr>\n    <tr>\n      <th>238356</th>\n      <td>375216012</td>\n      <td>42437</td>\n      <td>KY</td>\n    </tr>\n    <tr>\n      <th>238357</th>\n      <td>375217012</td>\n      <td>36116</td>\n      <td>AL</td>\n    </tr>\n  </tbody>\n</table>\n<p>238358 rows × 3 columns</p>\n</div>"
     },
     "execution_count": 9,
     "metadata": {},
     "output_type": "execute_result"
    }
   ],
   "source": [
    "# Drop columns related to orders\n",
    "df_customer_sales = df_customer_sales[['CustomerID', 'BillPostalCode', 'BillStateProvCode']]\n",
    "df_customer_sales"
   ],
   "metadata": {
    "collapsed": false
   }
  },
  {
   "cell_type": "code",
   "execution_count": 10,
   "outputs": [
    {
     "data": {
      "text/plain": "        CustomerID BillPostalCode BillStateProvCode\n0            10012          49649                MI\n4            24012          68713                NE\n16           36012          54460                WI\n23           48012          91331                CA\n95           49012          52070                IA\n...            ...            ...               ...\n238353   375213012          68701                NE\n238354   375214012          70094                LA\n238355   375215012          77990                TX\n238356   375216012          42437                KY\n238357   375217012          36116                AL\n\n[141461 rows x 3 columns]",
      "text/html": "<div>\n<style scoped>\n    .dataframe tbody tr th:only-of-type {\n        vertical-align: middle;\n    }\n\n    .dataframe tbody tr th {\n        vertical-align: top;\n    }\n\n    .dataframe thead th {\n        text-align: right;\n    }\n</style>\n<table border=\"1\" class=\"dataframe\">\n  <thead>\n    <tr style=\"text-align: right;\">\n      <th></th>\n      <th>CustomerID</th>\n      <th>BillPostalCode</th>\n      <th>BillStateProvCode</th>\n    </tr>\n  </thead>\n  <tbody>\n    <tr>\n      <th>0</th>\n      <td>10012</td>\n      <td>49649</td>\n      <td>MI</td>\n    </tr>\n    <tr>\n      <th>4</th>\n      <td>24012</td>\n      <td>68713</td>\n      <td>NE</td>\n    </tr>\n    <tr>\n      <th>16</th>\n      <td>36012</td>\n      <td>54460</td>\n      <td>WI</td>\n    </tr>\n    <tr>\n      <th>23</th>\n      <td>48012</td>\n      <td>91331</td>\n      <td>CA</td>\n    </tr>\n    <tr>\n      <th>95</th>\n      <td>49012</td>\n      <td>52070</td>\n      <td>IA</td>\n    </tr>\n    <tr>\n      <th>...</th>\n      <td>...</td>\n      <td>...</td>\n      <td>...</td>\n    </tr>\n    <tr>\n      <th>238353</th>\n      <td>375213012</td>\n      <td>68701</td>\n      <td>NE</td>\n    </tr>\n    <tr>\n      <th>238354</th>\n      <td>375214012</td>\n      <td>70094</td>\n      <td>LA</td>\n    </tr>\n    <tr>\n      <th>238355</th>\n      <td>375215012</td>\n      <td>77990</td>\n      <td>TX</td>\n    </tr>\n    <tr>\n      <th>238356</th>\n      <td>375216012</td>\n      <td>42437</td>\n      <td>KY</td>\n    </tr>\n    <tr>\n      <th>238357</th>\n      <td>375217012</td>\n      <td>36116</td>\n      <td>AL</td>\n    </tr>\n  </tbody>\n</table>\n<p>141461 rows × 3 columns</p>\n</div>"
     },
     "execution_count": 10,
     "metadata": {},
     "output_type": "execute_result"
    }
   ],
   "source": [
    "# Get rid of duplicates\n",
    "df_customers = df_customer_sales.drop_duplicates()\n",
    "df_customers"
   ],
   "metadata": {
    "collapsed": false
   }
  },
  {
   "cell_type": "code",
   "execution_count": 11,
   "outputs": [
    {
     "data": {
      "text/plain": "    CustomerID ZipCode State\n0        10012   49649    MI\n4        24012   68713    NE\n16       36012   54460    WI\n23       48012   91331    CA\n95       49012   52070    IA",
      "text/html": "<div>\n<style scoped>\n    .dataframe tbody tr th:only-of-type {\n        vertical-align: middle;\n    }\n\n    .dataframe tbody tr th {\n        vertical-align: top;\n    }\n\n    .dataframe thead th {\n        text-align: right;\n    }\n</style>\n<table border=\"1\" class=\"dataframe\">\n  <thead>\n    <tr style=\"text-align: right;\">\n      <th></th>\n      <th>CustomerID</th>\n      <th>ZipCode</th>\n      <th>State</th>\n    </tr>\n  </thead>\n  <tbody>\n    <tr>\n      <th>0</th>\n      <td>10012</td>\n      <td>49649</td>\n      <td>MI</td>\n    </tr>\n    <tr>\n      <th>4</th>\n      <td>24012</td>\n      <td>68713</td>\n      <td>NE</td>\n    </tr>\n    <tr>\n      <th>16</th>\n      <td>36012</td>\n      <td>54460</td>\n      <td>WI</td>\n    </tr>\n    <tr>\n      <th>23</th>\n      <td>48012</td>\n      <td>91331</td>\n      <td>CA</td>\n    </tr>\n    <tr>\n      <th>95</th>\n      <td>49012</td>\n      <td>52070</td>\n      <td>IA</td>\n    </tr>\n  </tbody>\n</table>\n</div>"
     },
     "execution_count": 11,
     "metadata": {},
     "output_type": "execute_result"
    }
   ],
   "source": [
    "# Rename column titles\n",
    "df_customers= df_customers.rename(columns={'BillPostalCode': 'ZipCode', 'BillStateProvCode': 'State'})\n",
    "df_customers.head(5)"
   ],
   "metadata": {
    "collapsed": false
   }
  },
  {
   "cell_type": "code",
   "execution_count": 12,
   "outputs": [],
   "source": [
    "# Output to CSV file\n",
    "df_customers.to_csv('data/Customers.csv', index=False)"
   ],
   "metadata": {
    "collapsed": false
   }
  },
  {
   "cell_type": "code",
   "execution_count": null,
   "outputs": [],
   "source": [],
   "metadata": {
    "collapsed": false
   }
  }
 ],
 "metadata": {
  "kernelspec": {
   "display_name": "Python 3",
   "language": "python",
   "name": "python3"
  },
  "language_info": {
   "codemirror_mode": {
    "name": "ipython",
    "version": 2
   },
   "file_extension": ".py",
   "mimetype": "text/x-python",
   "name": "python",
   "nbconvert_exporter": "python",
   "pygments_lexer": "ipython2",
   "version": "2.7.6"
  }
 },
 "nbformat": 4,
 "nbformat_minor": 0
}
