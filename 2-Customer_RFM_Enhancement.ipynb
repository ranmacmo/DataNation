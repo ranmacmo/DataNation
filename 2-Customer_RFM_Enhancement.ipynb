{
 "cells": [
  {
   "cell_type": "code",
   "execution_count": 1,
   "metadata": {
    "collapsed": true
   },
   "outputs": [],
   "source": [
    "import pandas as pd\n",
    "from datetime import timedelta\n",
    "import numpy as np"
   ]
  },
  {
   "cell_type": "markdown",
   "source": [
    "# Read datasets in\n",
    "> Ensure that zipcdes are read as strings and not numeric"
   ],
   "metadata": {
    "collapsed": false
   }
  },
  {
   "cell_type": "code",
   "execution_count": 2,
   "outputs": [
    {
     "data": {
      "text/plain": "141461"
     },
     "execution_count": 2,
     "metadata": {},
     "output_type": "execute_result"
    }
   ],
   "source": [
    "# Load the customer dataset\n",
    "file_path = \"data/Customer_sales.csv\"\n",
    "df_customer_sales = pd.read_csv(file_path,dtype={\"BillPostalCode\":\"string\"} )\n",
    "df_customer_sales\n",
    "df_customer_sales[\"CustomerID\"].nunique()"
   ],
   "metadata": {
    "collapsed": false
   }
  },
  {
   "cell_type": "code",
   "execution_count": 3,
   "outputs": [
    {
     "data": {
      "text/plain": "        ChannelOrderID   OrderDate  CustomerID    Total\n0              4196075  2020-12-31   240414012    39.99\n1              4196093  2020-12-31   240413012   250.00\n2              4196116  2020-12-31   240411012    19.99\n3              4196117  2020-12-31   229366012    49.98\n4              4196129  2020-12-31   240475012   129.99\n...                ...         ...         ...      ...\n205376         5623963  2023-01-25   375206012    16.99\n205377         5623964  2023-01-25   375205012     4.99\n205378         5623979  2023-01-25   375204012  3299.99\n205379         5623980  2023-01-25   375203012    48.99\n205380         5623981  2023-01-25   330631012    30.99\n\n[205381 rows x 4 columns]",
      "text/html": "<div>\n<style scoped>\n    .dataframe tbody tr th:only-of-type {\n        vertical-align: middle;\n    }\n\n    .dataframe tbody tr th {\n        vertical-align: top;\n    }\n\n    .dataframe thead th {\n        text-align: right;\n    }\n</style>\n<table border=\"1\" class=\"dataframe\">\n  <thead>\n    <tr style=\"text-align: right;\">\n      <th></th>\n      <th>ChannelOrderID</th>\n      <th>OrderDate</th>\n      <th>CustomerID</th>\n      <th>Total</th>\n    </tr>\n  </thead>\n  <tbody>\n    <tr>\n      <th>0</th>\n      <td>4196075</td>\n      <td>2020-12-31</td>\n      <td>240414012</td>\n      <td>39.99</td>\n    </tr>\n    <tr>\n      <th>1</th>\n      <td>4196093</td>\n      <td>2020-12-31</td>\n      <td>240413012</td>\n      <td>250.00</td>\n    </tr>\n    <tr>\n      <th>2</th>\n      <td>4196116</td>\n      <td>2020-12-31</td>\n      <td>240411012</td>\n      <td>19.99</td>\n    </tr>\n    <tr>\n      <th>3</th>\n      <td>4196117</td>\n      <td>2020-12-31</td>\n      <td>229366012</td>\n      <td>49.98</td>\n    </tr>\n    <tr>\n      <th>4</th>\n      <td>4196129</td>\n      <td>2020-12-31</td>\n      <td>240475012</td>\n      <td>129.99</td>\n    </tr>\n    <tr>\n      <th>...</th>\n      <td>...</td>\n      <td>...</td>\n      <td>...</td>\n      <td>...</td>\n    </tr>\n    <tr>\n      <th>205376</th>\n      <td>5623963</td>\n      <td>2023-01-25</td>\n      <td>375206012</td>\n      <td>16.99</td>\n    </tr>\n    <tr>\n      <th>205377</th>\n      <td>5623964</td>\n      <td>2023-01-25</td>\n      <td>375205012</td>\n      <td>4.99</td>\n    </tr>\n    <tr>\n      <th>205378</th>\n      <td>5623979</td>\n      <td>2023-01-25</td>\n      <td>375204012</td>\n      <td>3299.99</td>\n    </tr>\n    <tr>\n      <th>205379</th>\n      <td>5623980</td>\n      <td>2023-01-25</td>\n      <td>375203012</td>\n      <td>48.99</td>\n    </tr>\n    <tr>\n      <th>205380</th>\n      <td>5623981</td>\n      <td>2023-01-25</td>\n      <td>330631012</td>\n      <td>30.99</td>\n    </tr>\n  </tbody>\n</table>\n<p>205381 rows × 4 columns</p>\n</div>"
     },
     "execution_count": 3,
     "metadata": {},
     "output_type": "execute_result"
    }
   ],
   "source": [
    "# Group by order and customer - total sales\n",
    "Orders_df = df_customer_sales.groupby(['ChannelOrderID','OrderDate','CustomerID']).agg({'Total': lambda x:x.sum()}).reset_index()\n",
    "Orders_df"
   ],
   "metadata": {
    "collapsed": false
   }
  },
  {
   "cell_type": "code",
   "execution_count": 4,
   "outputs": [],
   "source": [
    "# Convert orderdate to datetime type so calculations can be done\n",
    "Orders_df['OrderDate'] = Orders_df['OrderDate'].astype('datetime64[ns]')"
   ],
   "metadata": {
    "collapsed": false
   }
  },
  {
   "cell_type": "code",
   "execution_count": 5,
   "outputs": [
    {
     "data": {
      "text/plain": "ChannelOrderID             int64\nOrderDate         datetime64[ns]\nCustomerID                 int64\nTotal                    float64\ndtype: object"
     },
     "execution_count": 5,
     "metadata": {},
     "output_type": "execute_result"
    }
   ],
   "source": [
    "Orders_df.dtypes"
   ],
   "metadata": {
    "collapsed": false
   }
  },
  {
   "cell_type": "code",
   "execution_count": 6,
   "outputs": [
    {
     "data": {
      "text/plain": "Timestamp('2023-01-26 00:00:00')"
     },
     "execution_count": 6,
     "metadata": {},
     "output_type": "execute_result"
    }
   ],
   "source": [
    "# Set variables for NOW and and period\n",
    "NOW = Orders_df['OrderDate'].max() + timedelta(days=1)\n",
    "NOW"
   ],
   "metadata": {
    "collapsed": false
   }
  },
  {
   "cell_type": "code",
   "execution_count": 7,
   "outputs": [],
   "source": [
    "# Data is for a two year period\n",
    "period = 730"
   ],
   "metadata": {
    "collapsed": false
   }
  },
  {
   "cell_type": "code",
   "execution_count": 8,
   "outputs": [],
   "source": [
    "# Add column for Days since order to aid with calcuation\n",
    "Orders_df['DaysSinceOrder'] = Orders_df['OrderDate'].apply(lambda  x: (NOW -x).days)"
   ],
   "metadata": {
    "collapsed": false
   }
  },
  {
   "cell_type": "code",
   "execution_count": 9,
   "outputs": [
    {
     "data": {
      "text/plain": "        CustomerID  Recency  Frequency\n0            10012      636          3\n1            24012       50         11\n2            36012       48          7\n3            48012       15         42\n4            49012       43         14\n...            ...      ...        ...\n141456   375213012        1          1\n141457   375214012        1          1\n141458   375215012        1          1\n141459   375216012        1          1\n141460   375217012        1          1\n\n[141461 rows x 3 columns]",
      "text/html": "<div>\n<style scoped>\n    .dataframe tbody tr th:only-of-type {\n        vertical-align: middle;\n    }\n\n    .dataframe tbody tr th {\n        vertical-align: top;\n    }\n\n    .dataframe thead th {\n        text-align: right;\n    }\n</style>\n<table border=\"1\" class=\"dataframe\">\n  <thead>\n    <tr style=\"text-align: right;\">\n      <th></th>\n      <th>CustomerID</th>\n      <th>Recency</th>\n      <th>Frequency</th>\n    </tr>\n  </thead>\n  <tbody>\n    <tr>\n      <th>0</th>\n      <td>10012</td>\n      <td>636</td>\n      <td>3</td>\n    </tr>\n    <tr>\n      <th>1</th>\n      <td>24012</td>\n      <td>50</td>\n      <td>11</td>\n    </tr>\n    <tr>\n      <th>2</th>\n      <td>36012</td>\n      <td>48</td>\n      <td>7</td>\n    </tr>\n    <tr>\n      <th>3</th>\n      <td>48012</td>\n      <td>15</td>\n      <td>42</td>\n    </tr>\n    <tr>\n      <th>4</th>\n      <td>49012</td>\n      <td>43</td>\n      <td>14</td>\n    </tr>\n    <tr>\n      <th>...</th>\n      <td>...</td>\n      <td>...</td>\n      <td>...</td>\n    </tr>\n    <tr>\n      <th>141456</th>\n      <td>375213012</td>\n      <td>1</td>\n      <td>1</td>\n    </tr>\n    <tr>\n      <th>141457</th>\n      <td>375214012</td>\n      <td>1</td>\n      <td>1</td>\n    </tr>\n    <tr>\n      <th>141458</th>\n      <td>375215012</td>\n      <td>1</td>\n      <td>1</td>\n    </tr>\n    <tr>\n      <th>141459</th>\n      <td>375216012</td>\n      <td>1</td>\n      <td>1</td>\n    </tr>\n    <tr>\n      <th>141460</th>\n      <td>375217012</td>\n      <td>1</td>\n      <td>1</td>\n    </tr>\n  </tbody>\n</table>\n<p>141461 rows × 3 columns</p>\n</div>"
     },
     "execution_count": 9,
     "metadata": {},
     "output_type": "execute_result"
    }
   ],
   "source": [
    "aggr = {\n",
    "    'DaysSinceOrder' : lambda x : x.min(),\n",
    "    'OrderDate' : lambda x: len([d for d in x if d>=NOW - timedelta(days=period)])\n",
    "}\n",
    "\n",
    "rfm_df = Orders_df.groupby('CustomerID').agg(aggr).reset_index()\n",
    "rfm_df.rename(columns={'DaysSinceOrder' : 'Recency', 'OrderDate' : 'Frequency'}, inplace=True)\n",
    "rfm_df"
   ],
   "metadata": {
    "collapsed": false
   }
  },
  {
   "cell_type": "code",
   "execution_count": 10,
   "outputs": [
    {
     "data": {
      "text/plain": "        CustomerID  Recency  Frequency  Monetary\n0            10012      636          3    121.98\n1            24012       50         11   1152.57\n2            36012       48          7    268.83\n3            48012       15         42   7014.86\n4            49012       43         14   2460.47\n...            ...      ...        ...       ...\n141456   375213012        1          1     25.00\n141457   375214012        1          1     60.00\n141458   375215012        1          1     16.99\n141459   375216012        1          1     24.94\n141460   375217012        1          1      9.99\n\n[141461 rows x 4 columns]",
      "text/html": "<div>\n<style scoped>\n    .dataframe tbody tr th:only-of-type {\n        vertical-align: middle;\n    }\n\n    .dataframe tbody tr th {\n        vertical-align: top;\n    }\n\n    .dataframe thead th {\n        text-align: right;\n    }\n</style>\n<table border=\"1\" class=\"dataframe\">\n  <thead>\n    <tr style=\"text-align: right;\">\n      <th></th>\n      <th>CustomerID</th>\n      <th>Recency</th>\n      <th>Frequency</th>\n      <th>Monetary</th>\n    </tr>\n  </thead>\n  <tbody>\n    <tr>\n      <th>0</th>\n      <td>10012</td>\n      <td>636</td>\n      <td>3</td>\n      <td>121.98</td>\n    </tr>\n    <tr>\n      <th>1</th>\n      <td>24012</td>\n      <td>50</td>\n      <td>11</td>\n      <td>1152.57</td>\n    </tr>\n    <tr>\n      <th>2</th>\n      <td>36012</td>\n      <td>48</td>\n      <td>7</td>\n      <td>268.83</td>\n    </tr>\n    <tr>\n      <th>3</th>\n      <td>48012</td>\n      <td>15</td>\n      <td>42</td>\n      <td>7014.86</td>\n    </tr>\n    <tr>\n      <th>4</th>\n      <td>49012</td>\n      <td>43</td>\n      <td>14</td>\n      <td>2460.47</td>\n    </tr>\n    <tr>\n      <th>...</th>\n      <td>...</td>\n      <td>...</td>\n      <td>...</td>\n      <td>...</td>\n    </tr>\n    <tr>\n      <th>141456</th>\n      <td>375213012</td>\n      <td>1</td>\n      <td>1</td>\n      <td>25.00</td>\n    </tr>\n    <tr>\n      <th>141457</th>\n      <td>375214012</td>\n      <td>1</td>\n      <td>1</td>\n      <td>60.00</td>\n    </tr>\n    <tr>\n      <th>141458</th>\n      <td>375215012</td>\n      <td>1</td>\n      <td>1</td>\n      <td>16.99</td>\n    </tr>\n    <tr>\n      <th>141459</th>\n      <td>375216012</td>\n      <td>1</td>\n      <td>1</td>\n      <td>24.94</td>\n    </tr>\n    <tr>\n      <th>141460</th>\n      <td>375217012</td>\n      <td>1</td>\n      <td>1</td>\n      <td>9.99</td>\n    </tr>\n  </tbody>\n</table>\n<p>141461 rows × 4 columns</p>\n</div>"
     },
     "execution_count": 10,
     "metadata": {},
     "output_type": "execute_result"
    }
   ],
   "source": [
    "# rfm_df['Monetary'] = rfm_df['CustomerID'].apply(lambda x: Orders_df[('CustomerID'] == x) & Orders_df\n",
    "# ['OrderDate'] >= NOW - timedelta(days=period)['Total'].sum())\n",
    "\n",
    "\n",
    "\n",
    "\n",
    "rfm_df['Monetary'] = rfm_df['CustomerID'].apply(lambda x: Orders_df[(Orders_df['CustomerID'] == x) &\n",
    "                                                           (Orders_df['OrderDate'] >= NOW - timedelta(days=period))]\n",
    "                                                           ['Total'].sum())\n",
    "\n",
    "rfm_df"
   ],
   "metadata": {
    "collapsed": false
   }
  },
  {
   "cell_type": "code",
   "execution_count": 11,
   "outputs": [
    {
     "data": {
      "text/plain": "{'Recency': {0.2: 142.0, 0.4: 285.0, 0.6: 449.0, 0.8: 598.0},\n 'Frequency': {0.2: 1.0, 0.4: 1.0, 0.6: 1.0, 0.8: 1.0},\n 'Monetary': {0.2: 18.99, 0.4: 36.99, 0.6: 71.99, 0.8: 172.94}}"
     },
     "execution_count": 11,
     "metadata": {},
     "output_type": "execute_result"
    }
   ],
   "source": [
    "quintiles = rfm_df[['Recency', 'Frequency', 'Monetary']].quantile([.2, .4, .6, .8]).to_dict()\n",
    "quintiles"
   ],
   "metadata": {
    "collapsed": false
   }
  },
  {
   "cell_type": "code",
   "execution_count": 12,
   "outputs": [],
   "source": [
    "def r_score(x):\n",
    "    if x <= quintiles['Recency'][.2]:\n",
    "        return 5\n",
    "    elif x <= quintiles['Recency'][.4]:\n",
    "        return 4\n",
    "    elif x <= quintiles['Recency'][.6]:\n",
    "        return 3\n",
    "    elif x <= quintiles['Recency'][.8]:\n",
    "        return 2\n",
    "    else:\n",
    "        return 1\n",
    "\n",
    "def fm_score(x, c):\n",
    "    if x <= quintiles[c][.2]:\n",
    "        return 1\n",
    "    elif x <= quintiles[c][.4]:\n",
    "        return 2\n",
    "    elif x <= quintiles[c][.6]:\n",
    "        return 3\n",
    "    elif x <= quintiles[c][.8]:\n",
    "        return 4\n",
    "    else:\n",
    "        return 5"
   ],
   "metadata": {
    "collapsed": false
   }
  },
  {
   "cell_type": "code",
   "execution_count": 13,
   "outputs": [
    {
     "data": {
      "text/plain": "        CustomerID  Recency  Frequency  Monetary  R  F  M\n0            10012      636          3    121.98  1  5  4\n1            24012       50         11   1152.57  5  5  5\n2            36012       48          7    268.83  5  5  5\n3            48012       15         42   7014.86  5  5  5\n4            49012       43         14   2460.47  5  5  5\n...            ...      ...        ...       ... .. .. ..\n141456   375213012        1          1     25.00  5  1  2\n141457   375214012        1          1     60.00  5  1  3\n141458   375215012        1          1     16.99  5  1  1\n141459   375216012        1          1     24.94  5  1  2\n141460   375217012        1          1      9.99  5  1  1\n\n[141461 rows x 7 columns]",
      "text/html": "<div>\n<style scoped>\n    .dataframe tbody tr th:only-of-type {\n        vertical-align: middle;\n    }\n\n    .dataframe tbody tr th {\n        vertical-align: top;\n    }\n\n    .dataframe thead th {\n        text-align: right;\n    }\n</style>\n<table border=\"1\" class=\"dataframe\">\n  <thead>\n    <tr style=\"text-align: right;\">\n      <th></th>\n      <th>CustomerID</th>\n      <th>Recency</th>\n      <th>Frequency</th>\n      <th>Monetary</th>\n      <th>R</th>\n      <th>F</th>\n      <th>M</th>\n    </tr>\n  </thead>\n  <tbody>\n    <tr>\n      <th>0</th>\n      <td>10012</td>\n      <td>636</td>\n      <td>3</td>\n      <td>121.98</td>\n      <td>1</td>\n      <td>5</td>\n      <td>4</td>\n    </tr>\n    <tr>\n      <th>1</th>\n      <td>24012</td>\n      <td>50</td>\n      <td>11</td>\n      <td>1152.57</td>\n      <td>5</td>\n      <td>5</td>\n      <td>5</td>\n    </tr>\n    <tr>\n      <th>2</th>\n      <td>36012</td>\n      <td>48</td>\n      <td>7</td>\n      <td>268.83</td>\n      <td>5</td>\n      <td>5</td>\n      <td>5</td>\n    </tr>\n    <tr>\n      <th>3</th>\n      <td>48012</td>\n      <td>15</td>\n      <td>42</td>\n      <td>7014.86</td>\n      <td>5</td>\n      <td>5</td>\n      <td>5</td>\n    </tr>\n    <tr>\n      <th>4</th>\n      <td>49012</td>\n      <td>43</td>\n      <td>14</td>\n      <td>2460.47</td>\n      <td>5</td>\n      <td>5</td>\n      <td>5</td>\n    </tr>\n    <tr>\n      <th>...</th>\n      <td>...</td>\n      <td>...</td>\n      <td>...</td>\n      <td>...</td>\n      <td>...</td>\n      <td>...</td>\n      <td>...</td>\n    </tr>\n    <tr>\n      <th>141456</th>\n      <td>375213012</td>\n      <td>1</td>\n      <td>1</td>\n      <td>25.00</td>\n      <td>5</td>\n      <td>1</td>\n      <td>2</td>\n    </tr>\n    <tr>\n      <th>141457</th>\n      <td>375214012</td>\n      <td>1</td>\n      <td>1</td>\n      <td>60.00</td>\n      <td>5</td>\n      <td>1</td>\n      <td>3</td>\n    </tr>\n    <tr>\n      <th>141458</th>\n      <td>375215012</td>\n      <td>1</td>\n      <td>1</td>\n      <td>16.99</td>\n      <td>5</td>\n      <td>1</td>\n      <td>1</td>\n    </tr>\n    <tr>\n      <th>141459</th>\n      <td>375216012</td>\n      <td>1</td>\n      <td>1</td>\n      <td>24.94</td>\n      <td>5</td>\n      <td>1</td>\n      <td>2</td>\n    </tr>\n    <tr>\n      <th>141460</th>\n      <td>375217012</td>\n      <td>1</td>\n      <td>1</td>\n      <td>9.99</td>\n      <td>5</td>\n      <td>1</td>\n      <td>1</td>\n    </tr>\n  </tbody>\n</table>\n<p>141461 rows × 7 columns</p>\n</div>"
     },
     "execution_count": 13,
     "metadata": {},
     "output_type": "execute_result"
    }
   ],
   "source": [
    "rfm_df['R'] = rfm_df['Recency'].apply(lambda x: r_score(x))\n",
    "rfm_df['F'] = rfm_df['Frequency'].apply(lambda x: fm_score(x, 'Frequency'))\n",
    "rfm_df['M'] = rfm_df['Monetary'].apply(lambda x: fm_score(x, 'Monetary'))\n",
    "\n",
    "rfm_df"
   ],
   "metadata": {
    "collapsed": false
   }
  },
  {
   "cell_type": "code",
   "execution_count": 14,
   "outputs": [
    {
     "data": {
      "text/plain": "   CustomerID  Recency  Frequency  Monetary  R  F  M RFM Score\n0       10012      636          3    121.98  1  5  4       154\n1       24012       50         11   1152.57  5  5  5       555\n2       36012       48          7    268.83  5  5  5       555\n3       48012       15         42   7014.86  5  5  5       555\n4       49012       43         14   2460.47  5  5  5       555",
      "text/html": "<div>\n<style scoped>\n    .dataframe tbody tr th:only-of-type {\n        vertical-align: middle;\n    }\n\n    .dataframe tbody tr th {\n        vertical-align: top;\n    }\n\n    .dataframe thead th {\n        text-align: right;\n    }\n</style>\n<table border=\"1\" class=\"dataframe\">\n  <thead>\n    <tr style=\"text-align: right;\">\n      <th></th>\n      <th>CustomerID</th>\n      <th>Recency</th>\n      <th>Frequency</th>\n      <th>Monetary</th>\n      <th>R</th>\n      <th>F</th>\n      <th>M</th>\n      <th>RFM Score</th>\n    </tr>\n  </thead>\n  <tbody>\n    <tr>\n      <th>0</th>\n      <td>10012</td>\n      <td>636</td>\n      <td>3</td>\n      <td>121.98</td>\n      <td>1</td>\n      <td>5</td>\n      <td>4</td>\n      <td>154</td>\n    </tr>\n    <tr>\n      <th>1</th>\n      <td>24012</td>\n      <td>50</td>\n      <td>11</td>\n      <td>1152.57</td>\n      <td>5</td>\n      <td>5</td>\n      <td>5</td>\n      <td>555</td>\n    </tr>\n    <tr>\n      <th>2</th>\n      <td>36012</td>\n      <td>48</td>\n      <td>7</td>\n      <td>268.83</td>\n      <td>5</td>\n      <td>5</td>\n      <td>5</td>\n      <td>555</td>\n    </tr>\n    <tr>\n      <th>3</th>\n      <td>48012</td>\n      <td>15</td>\n      <td>42</td>\n      <td>7014.86</td>\n      <td>5</td>\n      <td>5</td>\n      <td>5</td>\n      <td>555</td>\n    </tr>\n    <tr>\n      <th>4</th>\n      <td>49012</td>\n      <td>43</td>\n      <td>14</td>\n      <td>2460.47</td>\n      <td>5</td>\n      <td>5</td>\n      <td>5</td>\n      <td>555</td>\n    </tr>\n  </tbody>\n</table>\n</div>"
     },
     "execution_count": 14,
     "metadata": {},
     "output_type": "execute_result"
    }
   ],
   "source": [
    "rfm_df['RFM Score'] = rfm_df['R'].map(str) + rfm_df['F'].map(str) + rfm_df['M'].map(str)\n",
    "rfm_df.head()"
   ],
   "metadata": {
    "collapsed": false
   }
  },
  {
   "cell_type": "code",
   "execution_count": 15,
   "outputs": [
    {
     "data": {
      "text/plain": "        CustomerID  Recency  Frequency  Monetary  R  F  M RFM Score  \\\n0            10012      636          3    121.98  1  5  4       154   \n1            24012       50         11   1152.57  5  5  5       555   \n2            36012       48          7    268.83  5  5  5       555   \n3            48012       15         42   7014.86  5  5  5       555   \n4            49012       43         14   2460.47  5  5  5       555   \n...            ...      ...        ...       ... .. .. ..       ...   \n141456   375213012        1          1     25.00  5  1  2       512   \n141457   375214012        1          1     60.00  5  1  3       513   \n141458   375215012        1          1     16.99  5  1  1       511   \n141459   375216012        1          1     24.94  5  1  2       512   \n141460   375217012        1          1      9.99  5  1  1       511   \n\n              Segment  \n0         can't loose  \n1           champions  \n2           champions  \n3           champions  \n4           champions  \n...               ...  \n141456  new customers  \n141457  new customers  \n141458  new customers  \n141459  new customers  \n141460  new customers  \n\n[141461 rows x 9 columns]",
      "text/html": "<div>\n<style scoped>\n    .dataframe tbody tr th:only-of-type {\n        vertical-align: middle;\n    }\n\n    .dataframe tbody tr th {\n        vertical-align: top;\n    }\n\n    .dataframe thead th {\n        text-align: right;\n    }\n</style>\n<table border=\"1\" class=\"dataframe\">\n  <thead>\n    <tr style=\"text-align: right;\">\n      <th></th>\n      <th>CustomerID</th>\n      <th>Recency</th>\n      <th>Frequency</th>\n      <th>Monetary</th>\n      <th>R</th>\n      <th>F</th>\n      <th>M</th>\n      <th>RFM Score</th>\n      <th>Segment</th>\n    </tr>\n  </thead>\n  <tbody>\n    <tr>\n      <th>0</th>\n      <td>10012</td>\n      <td>636</td>\n      <td>3</td>\n      <td>121.98</td>\n      <td>1</td>\n      <td>5</td>\n      <td>4</td>\n      <td>154</td>\n      <td>can't loose</td>\n    </tr>\n    <tr>\n      <th>1</th>\n      <td>24012</td>\n      <td>50</td>\n      <td>11</td>\n      <td>1152.57</td>\n      <td>5</td>\n      <td>5</td>\n      <td>5</td>\n      <td>555</td>\n      <td>champions</td>\n    </tr>\n    <tr>\n      <th>2</th>\n      <td>36012</td>\n      <td>48</td>\n      <td>7</td>\n      <td>268.83</td>\n      <td>5</td>\n      <td>5</td>\n      <td>5</td>\n      <td>555</td>\n      <td>champions</td>\n    </tr>\n    <tr>\n      <th>3</th>\n      <td>48012</td>\n      <td>15</td>\n      <td>42</td>\n      <td>7014.86</td>\n      <td>5</td>\n      <td>5</td>\n      <td>5</td>\n      <td>555</td>\n      <td>champions</td>\n    </tr>\n    <tr>\n      <th>4</th>\n      <td>49012</td>\n      <td>43</td>\n      <td>14</td>\n      <td>2460.47</td>\n      <td>5</td>\n      <td>5</td>\n      <td>5</td>\n      <td>555</td>\n      <td>champions</td>\n    </tr>\n    <tr>\n      <th>...</th>\n      <td>...</td>\n      <td>...</td>\n      <td>...</td>\n      <td>...</td>\n      <td>...</td>\n      <td>...</td>\n      <td>...</td>\n      <td>...</td>\n      <td>...</td>\n    </tr>\n    <tr>\n      <th>141456</th>\n      <td>375213012</td>\n      <td>1</td>\n      <td>1</td>\n      <td>25.00</td>\n      <td>5</td>\n      <td>1</td>\n      <td>2</td>\n      <td>512</td>\n      <td>new customers</td>\n    </tr>\n    <tr>\n      <th>141457</th>\n      <td>375214012</td>\n      <td>1</td>\n      <td>1</td>\n      <td>60.00</td>\n      <td>5</td>\n      <td>1</td>\n      <td>3</td>\n      <td>513</td>\n      <td>new customers</td>\n    </tr>\n    <tr>\n      <th>141458</th>\n      <td>375215012</td>\n      <td>1</td>\n      <td>1</td>\n      <td>16.99</td>\n      <td>5</td>\n      <td>1</td>\n      <td>1</td>\n      <td>511</td>\n      <td>new customers</td>\n    </tr>\n    <tr>\n      <th>141459</th>\n      <td>375216012</td>\n      <td>1</td>\n      <td>1</td>\n      <td>24.94</td>\n      <td>5</td>\n      <td>1</td>\n      <td>2</td>\n      <td>512</td>\n      <td>new customers</td>\n    </tr>\n    <tr>\n      <th>141460</th>\n      <td>375217012</td>\n      <td>1</td>\n      <td>1</td>\n      <td>9.99</td>\n      <td>5</td>\n      <td>1</td>\n      <td>1</td>\n      <td>511</td>\n      <td>new customers</td>\n    </tr>\n  </tbody>\n</table>\n<p>141461 rows × 9 columns</p>\n</div>"
     },
     "execution_count": 15,
     "metadata": {},
     "output_type": "execute_result"
    }
   ],
   "source": [
    "segt_map = {\n",
    "    r'[1-2][1-2]': 'hibernating',\n",
    "    r'[1-2][3-4]': 'at risk',\n",
    "    r'[1-2]5': 'can\\'t loose',\n",
    "    r'3[1-2]': 'about to sleep',\n",
    "    r'33': 'need attention',\n",
    "    r'[3-4][4-5]': 'loyal customers',\n",
    "    r'41': 'promising',\n",
    "    r'51': 'new customers',\n",
    "    r'[4-5][2-3]': 'potential loyalists',\n",
    "    r'5[4-5]': 'champions'\n",
    "}\n",
    "\n",
    "rfm_df['Segment'] = rfm_df['R'].map(str) + rfm_df['F'].map(str)\n",
    "rfm_df['Segment'] = rfm_df['Segment'].replace(segt_map, regex=True)\n",
    "rfm_df"
   ],
   "metadata": {
    "collapsed": false
   }
  },
  {
   "cell_type": "code",
   "execution_count": 18,
   "outputs": [],
   "source": [
    "rfm_df.to_csv('data/Customer_rfm.csv', index=False)"
   ],
   "metadata": {
    "collapsed": false
   }
  },
  {
   "cell_type": "code",
   "execution_count": null,
   "outputs": [],
   "source": [],
   "metadata": {
    "collapsed": false
   }
  }
 ],
 "metadata": {
  "kernelspec": {
   "display_name": "Python 3",
   "language": "python",
   "name": "python3"
  },
  "language_info": {
   "codemirror_mode": {
    "name": "ipython",
    "version": 2
   },
   "file_extension": ".py",
   "mimetype": "text/x-python",
   "name": "python",
   "nbconvert_exporter": "python",
   "pygments_lexer": "ipython2",
   "version": "2.7.6"
  }
 },
 "nbformat": 4,
 "nbformat_minor": 0
}
