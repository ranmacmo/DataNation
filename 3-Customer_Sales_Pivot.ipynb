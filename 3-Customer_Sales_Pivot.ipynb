{
 "cells": [
  {
   "cell_type": "code",
   "execution_count": 1,
   "metadata": {
    "collapsed": true
   },
   "outputs": [],
   "source": [
    "from sklearn.model_selection import train_test_split\n",
    "from sklearn.preprocessing import StandardScaler,OneHotEncoder\n",
    "import pandas as pd\n",
    "import numpy as np\n",
    "import matplotlib.pyplot as plt\n",
    "import io"
   ]
  },
  {
   "cell_type": "markdown",
   "source": [
    "## Load the customer sales dataset"
   ],
   "metadata": {
    "collapsed": false
   }
  },
  {
   "cell_type": "code",
   "execution_count": 2,
   "outputs": [
    {
     "data": {
      "text/plain": "        CustomerID BillPostalCode BillStateProvCode BillCountryCode  \\\n0            10012          49649                MI              US   \n1            10012          49649                MI              US   \n2            10012          49649                MI              US   \n3            10012          49649                MI              US   \n4            24012          68713                NE              US   \n...            ...            ...               ...             ...   \n238353   375213012          68701                NE              US   \n238354   375214012          70094                LA              US   \n238355   375215012          77990                TX              US   \n238356   375216012          42437                KY              US   \n238357   375217012          36116                AL              US   \n\n                      LOB   Market  ChannelOrderID   OrderDate  Quantity  \\\n0                 Salvage     eBay         4468548  2021-04-29         1   \n1                 Salvage     eBay         4468548  2021-04-29         1   \n2                 Salvage     eBay         4468639  2021-04-29         1   \n3                 Salvage     eBay         4471261  2021-04-30         1   \n4                 Salvage  Website         4758999  2021-09-07         1   \n...                   ...      ...             ...         ...       ...   \n238353            Salvage  Website         5623912  2023-01-25         1   \n238354            Salvage     eBay         5623899  2023-01-25         1   \n238355            Salvage     eBay         5623884  2023-01-25         1   \n238356  NOS-Rebuilt-Parts  Website         5623898  2023-01-25         1   \n238357            Salvage  Website         5623885  2023-01-25         1   \n\n        UnitPrice  Total          SKU  \\\n0           25.00  25.00       883562   \n1           45.00  45.00       983570   \n2           31.99  31.99      1219950   \n3           19.99  19.99      1054150   \n4           69.99  69.99      1302547   \n...           ...    ...          ...   \n238353      25.00  25.00       Custom   \n238354      60.00  60.00      1412157   \n238355      16.99  16.99      1485347   \n238356      24.94  24.94  PSN-3022897   \n238357       9.99   9.99      1573174   \n\n                                                    Title        Brand  \n0       Can-Am Commander 1000 XT 14 Fender Left Front ...       Can-Am  \n1       Can-Am Commander 800R XT 12 Fender Right Front...       Can-Am  \n2       Can-Am Commander 1000 XT 14 Fender Flare Left ...       Can-Am  \n3       Can-Am Commander 1000 XT 11 Lateral Panel Righ...       Can-Am  \n4       Polaris Sportsman 90 02 Footrest Left 0450616 ...      Polaris  \n...                                                   ...          ...  \n238353                                   1 tire from rack  Other-Brand  \n238354  Honda Foreman 400 FW 98 Recoil Starter 28400-H...        Honda  \n238355  Suzuki Vinson 500 03 Battery Positive Cable 33...       Suzuki  \n238356  Polaris General RZR ACE Ranger 900 1000 XP Tur...      Polaris  \n238357  Honda Recon 250 TM 02 Ignition Coil 30510-HN6-...        Honda  \n\n[238358 rows x 14 columns]",
      "text/html": "<div>\n<style scoped>\n    .dataframe tbody tr th:only-of-type {\n        vertical-align: middle;\n    }\n\n    .dataframe tbody tr th {\n        vertical-align: top;\n    }\n\n    .dataframe thead th {\n        text-align: right;\n    }\n</style>\n<table border=\"1\" class=\"dataframe\">\n  <thead>\n    <tr style=\"text-align: right;\">\n      <th></th>\n      <th>CustomerID</th>\n      <th>BillPostalCode</th>\n      <th>BillStateProvCode</th>\n      <th>BillCountryCode</th>\n      <th>LOB</th>\n      <th>Market</th>\n      <th>ChannelOrderID</th>\n      <th>OrderDate</th>\n      <th>Quantity</th>\n      <th>UnitPrice</th>\n      <th>Total</th>\n      <th>SKU</th>\n      <th>Title</th>\n      <th>Brand</th>\n    </tr>\n  </thead>\n  <tbody>\n    <tr>\n      <th>0</th>\n      <td>10012</td>\n      <td>49649</td>\n      <td>MI</td>\n      <td>US</td>\n      <td>Salvage</td>\n      <td>eBay</td>\n      <td>4468548</td>\n      <td>2021-04-29</td>\n      <td>1</td>\n      <td>25.00</td>\n      <td>25.00</td>\n      <td>883562</td>\n      <td>Can-Am Commander 1000 XT 14 Fender Left Front ...</td>\n      <td>Can-Am</td>\n    </tr>\n    <tr>\n      <th>1</th>\n      <td>10012</td>\n      <td>49649</td>\n      <td>MI</td>\n      <td>US</td>\n      <td>Salvage</td>\n      <td>eBay</td>\n      <td>4468548</td>\n      <td>2021-04-29</td>\n      <td>1</td>\n      <td>45.00</td>\n      <td>45.00</td>\n      <td>983570</td>\n      <td>Can-Am Commander 800R XT 12 Fender Right Front...</td>\n      <td>Can-Am</td>\n    </tr>\n    <tr>\n      <th>2</th>\n      <td>10012</td>\n      <td>49649</td>\n      <td>MI</td>\n      <td>US</td>\n      <td>Salvage</td>\n      <td>eBay</td>\n      <td>4468639</td>\n      <td>2021-04-29</td>\n      <td>1</td>\n      <td>31.99</td>\n      <td>31.99</td>\n      <td>1219950</td>\n      <td>Can-Am Commander 1000 XT 14 Fender Flare Left ...</td>\n      <td>Can-Am</td>\n    </tr>\n    <tr>\n      <th>3</th>\n      <td>10012</td>\n      <td>49649</td>\n      <td>MI</td>\n      <td>US</td>\n      <td>Salvage</td>\n      <td>eBay</td>\n      <td>4471261</td>\n      <td>2021-04-30</td>\n      <td>1</td>\n      <td>19.99</td>\n      <td>19.99</td>\n      <td>1054150</td>\n      <td>Can-Am Commander 1000 XT 11 Lateral Panel Righ...</td>\n      <td>Can-Am</td>\n    </tr>\n    <tr>\n      <th>4</th>\n      <td>24012</td>\n      <td>68713</td>\n      <td>NE</td>\n      <td>US</td>\n      <td>Salvage</td>\n      <td>Website</td>\n      <td>4758999</td>\n      <td>2021-09-07</td>\n      <td>1</td>\n      <td>69.99</td>\n      <td>69.99</td>\n      <td>1302547</td>\n      <td>Polaris Sportsman 90 02 Footrest Left 0450616 ...</td>\n      <td>Polaris</td>\n    </tr>\n    <tr>\n      <th>...</th>\n      <td>...</td>\n      <td>...</td>\n      <td>...</td>\n      <td>...</td>\n      <td>...</td>\n      <td>...</td>\n      <td>...</td>\n      <td>...</td>\n      <td>...</td>\n      <td>...</td>\n      <td>...</td>\n      <td>...</td>\n      <td>...</td>\n      <td>...</td>\n    </tr>\n    <tr>\n      <th>238353</th>\n      <td>375213012</td>\n      <td>68701</td>\n      <td>NE</td>\n      <td>US</td>\n      <td>Salvage</td>\n      <td>Website</td>\n      <td>5623912</td>\n      <td>2023-01-25</td>\n      <td>1</td>\n      <td>25.00</td>\n      <td>25.00</td>\n      <td>Custom</td>\n      <td>1 tire from rack</td>\n      <td>Other-Brand</td>\n    </tr>\n    <tr>\n      <th>238354</th>\n      <td>375214012</td>\n      <td>70094</td>\n      <td>LA</td>\n      <td>US</td>\n      <td>Salvage</td>\n      <td>eBay</td>\n      <td>5623899</td>\n      <td>2023-01-25</td>\n      <td>1</td>\n      <td>60.00</td>\n      <td>60.00</td>\n      <td>1412157</td>\n      <td>Honda Foreman 400 FW 98 Recoil Starter 28400-H...</td>\n      <td>Honda</td>\n    </tr>\n    <tr>\n      <th>238355</th>\n      <td>375215012</td>\n      <td>77990</td>\n      <td>TX</td>\n      <td>US</td>\n      <td>Salvage</td>\n      <td>eBay</td>\n      <td>5623884</td>\n      <td>2023-01-25</td>\n      <td>1</td>\n      <td>16.99</td>\n      <td>16.99</td>\n      <td>1485347</td>\n      <td>Suzuki Vinson 500 03 Battery Positive Cable 33...</td>\n      <td>Suzuki</td>\n    </tr>\n    <tr>\n      <th>238356</th>\n      <td>375216012</td>\n      <td>42437</td>\n      <td>KY</td>\n      <td>US</td>\n      <td>NOS-Rebuilt-Parts</td>\n      <td>Website</td>\n      <td>5623898</td>\n      <td>2023-01-25</td>\n      <td>1</td>\n      <td>24.94</td>\n      <td>24.94</td>\n      <td>PSN-3022897</td>\n      <td>Polaris General RZR ACE Ranger 900 1000 XP Tur...</td>\n      <td>Polaris</td>\n    </tr>\n    <tr>\n      <th>238357</th>\n      <td>375217012</td>\n      <td>36116</td>\n      <td>AL</td>\n      <td>US</td>\n      <td>Salvage</td>\n      <td>Website</td>\n      <td>5623885</td>\n      <td>2023-01-25</td>\n      <td>1</td>\n      <td>9.99</td>\n      <td>9.99</td>\n      <td>1573174</td>\n      <td>Honda Recon 250 TM 02 Ignition Coil 30510-HN6-...</td>\n      <td>Honda</td>\n    </tr>\n  </tbody>\n</table>\n<p>238358 rows × 14 columns</p>\n</div>"
     },
     "execution_count": 2,
     "metadata": {},
     "output_type": "execute_result"
    }
   ],
   "source": [
    "# Load the customer dataset\n",
    "file_path = \"data/Customer_sales.csv\"\n",
    "df_customer_sales = pd.read_csv(file_path,dtype={\"BillPostalCode\":\"string\"} )\n",
    "df_customer_sales"
   ],
   "metadata": {
    "collapsed": false
   }
  },
  {
   "cell_type": "markdown",
   "source": [
    "## Pivot and output brand totals by Customer"
   ],
   "metadata": {
    "collapsed": false
   }
  },
  {
   "cell_type": "code",
   "execution_count": 3,
   "outputs": [
    {
     "data": {
      "text/plain": "array(['Can-Am', 'Polaris', 'Honda', 'Yamaha', 'Kawasaki', 'Other-Brand',\n       'Suzuki', 'John Deere', 'Arctic Cat', 'Kubota', 'Bobcat'],\n      dtype=object)"
     },
     "execution_count": 3,
     "metadata": {},
     "output_type": "execute_result"
    }
   ],
   "source": [
    "df_customer_sales['Brand'].unique()"
   ],
   "metadata": {
    "collapsed": false
   }
  },
  {
   "cell_type": "code",
   "execution_count": 4,
   "outputs": [
    {
     "data": {
      "text/plain": "            ArticCat_Tot  Bobcat_Tot  Can-Am_Tot  Honda_Tot  John-Deere_Tot  \\\nCustomerID                                                                    \n10012                0.0         0.0      121.98       0.00            0.00   \n24012                0.0         0.0      590.97     139.99            0.00   \n36012                0.0         0.0        0.00       0.00            0.00   \n48012                0.0         0.0      499.93    1595.25           49.99   \n49012                0.0         0.0        0.00       0.00            0.00   \n...                  ...         ...         ...        ...             ...   \n375213012            0.0         0.0        0.00       0.00            0.00   \n375214012            0.0         0.0        0.00      60.00            0.00   \n375215012            0.0         0.0        0.00       0.00            0.00   \n375216012            0.0         0.0        0.00       0.00            0.00   \n375217012            0.0         0.0        0.00       9.99            0.00   \n\n            Kawasaki_Tot  Kubota_Tot  Other-Brand_Tot  Polaris_Tot  \\\nCustomerID                                                           \n10012               0.00         0.0             0.00         0.00   \n24012               0.00         0.0             0.00       402.68   \n36012             124.99         0.0            19.99       123.85   \n48012             669.89         0.0             0.00      2629.71   \n49012             655.94         0.0             0.00      1664.53   \n...                  ...         ...              ...          ...   \n375213012           0.00         0.0            25.00         0.00   \n375214012           0.00         0.0             0.00         0.00   \n375215012           0.00         0.0             0.00         0.00   \n375216012           0.00         0.0             0.00        24.94   \n375217012           0.00         0.0             0.00         0.00   \n\n            Suzuki_Tot  Yamaha_Tot  \nCustomerID                          \n10012             0.00        0.00  \n24012             0.00       18.93  \n36012             0.00        0.00  \n48012            44.99     1525.10  \n49012           199.99        0.00  \n...                ...         ...  \n375213012         0.00        0.00  \n375214012         0.00        0.00  \n375215012        16.99        0.00  \n375216012         0.00        0.00  \n375217012         0.00        0.00  \n\n[141461 rows x 11 columns]",
      "text/html": "<div>\n<style scoped>\n    .dataframe tbody tr th:only-of-type {\n        vertical-align: middle;\n    }\n\n    .dataframe tbody tr th {\n        vertical-align: top;\n    }\n\n    .dataframe thead th {\n        text-align: right;\n    }\n</style>\n<table border=\"1\" class=\"dataframe\">\n  <thead>\n    <tr style=\"text-align: right;\">\n      <th></th>\n      <th>ArticCat_Tot</th>\n      <th>Bobcat_Tot</th>\n      <th>Can-Am_Tot</th>\n      <th>Honda_Tot</th>\n      <th>John-Deere_Tot</th>\n      <th>Kawasaki_Tot</th>\n      <th>Kubota_Tot</th>\n      <th>Other-Brand_Tot</th>\n      <th>Polaris_Tot</th>\n      <th>Suzuki_Tot</th>\n      <th>Yamaha_Tot</th>\n    </tr>\n    <tr>\n      <th>CustomerID</th>\n      <th></th>\n      <th></th>\n      <th></th>\n      <th></th>\n      <th></th>\n      <th></th>\n      <th></th>\n      <th></th>\n      <th></th>\n      <th></th>\n      <th></th>\n    </tr>\n  </thead>\n  <tbody>\n    <tr>\n      <th>10012</th>\n      <td>0.0</td>\n      <td>0.0</td>\n      <td>121.98</td>\n      <td>0.00</td>\n      <td>0.00</td>\n      <td>0.00</td>\n      <td>0.0</td>\n      <td>0.00</td>\n      <td>0.00</td>\n      <td>0.00</td>\n      <td>0.00</td>\n    </tr>\n    <tr>\n      <th>24012</th>\n      <td>0.0</td>\n      <td>0.0</td>\n      <td>590.97</td>\n      <td>139.99</td>\n      <td>0.00</td>\n      <td>0.00</td>\n      <td>0.0</td>\n      <td>0.00</td>\n      <td>402.68</td>\n      <td>0.00</td>\n      <td>18.93</td>\n    </tr>\n    <tr>\n      <th>36012</th>\n      <td>0.0</td>\n      <td>0.0</td>\n      <td>0.00</td>\n      <td>0.00</td>\n      <td>0.00</td>\n      <td>124.99</td>\n      <td>0.0</td>\n      <td>19.99</td>\n      <td>123.85</td>\n      <td>0.00</td>\n      <td>0.00</td>\n    </tr>\n    <tr>\n      <th>48012</th>\n      <td>0.0</td>\n      <td>0.0</td>\n      <td>499.93</td>\n      <td>1595.25</td>\n      <td>49.99</td>\n      <td>669.89</td>\n      <td>0.0</td>\n      <td>0.00</td>\n      <td>2629.71</td>\n      <td>44.99</td>\n      <td>1525.10</td>\n    </tr>\n    <tr>\n      <th>49012</th>\n      <td>0.0</td>\n      <td>0.0</td>\n      <td>0.00</td>\n      <td>0.00</td>\n      <td>0.00</td>\n      <td>655.94</td>\n      <td>0.0</td>\n      <td>0.00</td>\n      <td>1664.53</td>\n      <td>199.99</td>\n      <td>0.00</td>\n    </tr>\n    <tr>\n      <th>...</th>\n      <td>...</td>\n      <td>...</td>\n      <td>...</td>\n      <td>...</td>\n      <td>...</td>\n      <td>...</td>\n      <td>...</td>\n      <td>...</td>\n      <td>...</td>\n      <td>...</td>\n      <td>...</td>\n    </tr>\n    <tr>\n      <th>375213012</th>\n      <td>0.0</td>\n      <td>0.0</td>\n      <td>0.00</td>\n      <td>0.00</td>\n      <td>0.00</td>\n      <td>0.00</td>\n      <td>0.0</td>\n      <td>25.00</td>\n      <td>0.00</td>\n      <td>0.00</td>\n      <td>0.00</td>\n    </tr>\n    <tr>\n      <th>375214012</th>\n      <td>0.0</td>\n      <td>0.0</td>\n      <td>0.00</td>\n      <td>60.00</td>\n      <td>0.00</td>\n      <td>0.00</td>\n      <td>0.0</td>\n      <td>0.00</td>\n      <td>0.00</td>\n      <td>0.00</td>\n      <td>0.00</td>\n    </tr>\n    <tr>\n      <th>375215012</th>\n      <td>0.0</td>\n      <td>0.0</td>\n      <td>0.00</td>\n      <td>0.00</td>\n      <td>0.00</td>\n      <td>0.00</td>\n      <td>0.0</td>\n      <td>0.00</td>\n      <td>0.00</td>\n      <td>16.99</td>\n      <td>0.00</td>\n    </tr>\n    <tr>\n      <th>375216012</th>\n      <td>0.0</td>\n      <td>0.0</td>\n      <td>0.00</td>\n      <td>0.00</td>\n      <td>0.00</td>\n      <td>0.00</td>\n      <td>0.0</td>\n      <td>0.00</td>\n      <td>24.94</td>\n      <td>0.00</td>\n      <td>0.00</td>\n    </tr>\n    <tr>\n      <th>375217012</th>\n      <td>0.0</td>\n      <td>0.0</td>\n      <td>0.00</td>\n      <td>9.99</td>\n      <td>0.00</td>\n      <td>0.00</td>\n      <td>0.0</td>\n      <td>0.00</td>\n      <td>0.00</td>\n      <td>0.00</td>\n      <td>0.00</td>\n    </tr>\n  </tbody>\n</table>\n<p>141461 rows × 11 columns</p>\n</div>"
     },
     "execution_count": 4,
     "metadata": {},
     "output_type": "execute_result"
    }
   ],
   "source": [
    "\n",
    "# Limit to the columns want to pivot\n",
    "df_customer_sales_brand_data = df_customer_sales[['CustomerID', 'Brand', 'Total']]\n",
    "\n",
    "# Group by customer and pivot column\n",
    "df_group_by_brand = df_customer_sales_brand_data.groupby(['CustomerID','Brand']).sum()\n",
    "\n",
    "# Unstack coluumns\n",
    "df_group_by_brand_pivot = df_group_by_brand.unstack()\n",
    "\n",
    "# Fill in nulls with zeros\n",
    "df_group_by_brand_pivot.fillna(0, inplace=True)\n",
    "df_group_by_brand_pivot.columns = df_group_by_brand_pivot.columns.to_flat_index()\n",
    "\n",
    "column_names = {('Total', 'Arctic Cat') :'ArticCat_Tot', ('Total', 'Bobcat'): \"Bobcat_Tot\",\n",
    "                ('Total', 'Can-Am'): 'Can-Am_Tot', ('Total', 'Honda') : 'Honda_Tot',\n",
    "                ('Total', 'John Deere') : 'John-Deere_Tot', ('Total', 'Kawasaki') : 'Kawasaki_Tot',\n",
    "                ('Total', 'Kubota') : 'Kubota_Tot', ('Total', 'Other-Brand') : 'Other-Brand_Tot',  ('Total', 'Polaris') : 'Polaris_Tot',\n",
    "                ('Total', 'Suzuki') : 'Suzuki_Tot', ('Total', 'Yamaha') : 'Yamaha_Tot'}\n",
    "\n",
    "df_group_by_brand_pivot = df_group_by_brand_pivot.rename(columns=column_names)\n",
    "\n",
    "df_group_by_brand_pivot"
   ],
   "metadata": {
    "collapsed": false
   }
  },
  {
   "cell_type": "code",
   "execution_count": 5,
   "outputs": [],
   "source": [
    "# Output to CSV file\n",
    "df_group_by_brand_pivot.to_csv('data/Customer_brands.csv')"
   ],
   "metadata": {
    "collapsed": false
   }
  },
  {
   "cell_type": "markdown",
   "source": [
    "## Pivot and output LOB totals by Customer"
   ],
   "metadata": {
    "collapsed": false
   }
  },
  {
   "cell_type": "code",
   "execution_count": 6,
   "outputs": [
    {
     "data": {
      "text/plain": "            LOB_Misc_Tot  LOB_NOS-Rebuilt-Part_Tot  LOB_Rebuilt-Engines-Tot  \\\nCustomerID                                                                    \n10012                0.0                      0.00                      0.0   \n24012                0.0                      0.00                      0.0   \n36012                0.0                     14.94                      0.0   \n48012                0.0                    119.98                      0.0   \n49012                0.0                     49.99                      0.0   \n...                  ...                       ...                      ...   \n375213012            0.0                      0.00                      0.0   \n375214012            0.0                      0.00                      0.0   \n375215012            0.0                      0.00                      0.0   \n375216012            0.0                     24.94                      0.0   \n375217012            0.0                      0.00                      0.0   \n\n            LOB_Salvage_Tot  \nCustomerID                   \n10012                121.98  \n24012               1152.57  \n36012                253.89  \n48012               6894.88  \n49012               2470.47  \n...                     ...  \n375213012             25.00  \n375214012             60.00  \n375215012             16.99  \n375216012              0.00  \n375217012              9.99  \n\n[141461 rows x 4 columns]",
      "text/html": "<div>\n<style scoped>\n    .dataframe tbody tr th:only-of-type {\n        vertical-align: middle;\n    }\n\n    .dataframe tbody tr th {\n        vertical-align: top;\n    }\n\n    .dataframe thead th {\n        text-align: right;\n    }\n</style>\n<table border=\"1\" class=\"dataframe\">\n  <thead>\n    <tr style=\"text-align: right;\">\n      <th></th>\n      <th>LOB_Misc_Tot</th>\n      <th>LOB_NOS-Rebuilt-Part_Tot</th>\n      <th>LOB_Rebuilt-Engines-Tot</th>\n      <th>LOB_Salvage_Tot</th>\n    </tr>\n    <tr>\n      <th>CustomerID</th>\n      <th></th>\n      <th></th>\n      <th></th>\n      <th></th>\n    </tr>\n  </thead>\n  <tbody>\n    <tr>\n      <th>10012</th>\n      <td>0.0</td>\n      <td>0.00</td>\n      <td>0.0</td>\n      <td>121.98</td>\n    </tr>\n    <tr>\n      <th>24012</th>\n      <td>0.0</td>\n      <td>0.00</td>\n      <td>0.0</td>\n      <td>1152.57</td>\n    </tr>\n    <tr>\n      <th>36012</th>\n      <td>0.0</td>\n      <td>14.94</td>\n      <td>0.0</td>\n      <td>253.89</td>\n    </tr>\n    <tr>\n      <th>48012</th>\n      <td>0.0</td>\n      <td>119.98</td>\n      <td>0.0</td>\n      <td>6894.88</td>\n    </tr>\n    <tr>\n      <th>49012</th>\n      <td>0.0</td>\n      <td>49.99</td>\n      <td>0.0</td>\n      <td>2470.47</td>\n    </tr>\n    <tr>\n      <th>...</th>\n      <td>...</td>\n      <td>...</td>\n      <td>...</td>\n      <td>...</td>\n    </tr>\n    <tr>\n      <th>375213012</th>\n      <td>0.0</td>\n      <td>0.00</td>\n      <td>0.0</td>\n      <td>25.00</td>\n    </tr>\n    <tr>\n      <th>375214012</th>\n      <td>0.0</td>\n      <td>0.00</td>\n      <td>0.0</td>\n      <td>60.00</td>\n    </tr>\n    <tr>\n      <th>375215012</th>\n      <td>0.0</td>\n      <td>0.00</td>\n      <td>0.0</td>\n      <td>16.99</td>\n    </tr>\n    <tr>\n      <th>375216012</th>\n      <td>0.0</td>\n      <td>24.94</td>\n      <td>0.0</td>\n      <td>0.00</td>\n    </tr>\n    <tr>\n      <th>375217012</th>\n      <td>0.0</td>\n      <td>0.00</td>\n      <td>0.0</td>\n      <td>9.99</td>\n    </tr>\n  </tbody>\n</table>\n<p>141461 rows × 4 columns</p>\n</div>"
     },
     "execution_count": 6,
     "metadata": {},
     "output_type": "execute_result"
    }
   ],
   "source": [
    "# Limit to the columns want to pivot\n",
    "df_customer_sales_lob_data = df_customer_sales[['CustomerID', 'LOB', 'Total']]\n",
    "\n",
    "# Group by customer and pivot column\n",
    "df_group_by_lob = df_customer_sales_lob_data.groupby(['CustomerID','LOB']).sum()\n",
    "\n",
    "# Unstack coluumns\n",
    "df_group_by_lob_pivot = df_group_by_lob.unstack()\n",
    "\n",
    "# Fill in nulls with zeros\n",
    "df_group_by_lob_pivot.fillna(0, inplace=True)\n",
    "\n",
    "\n",
    "df_group_by_lob_pivot.columns = df_group_by_lob_pivot.columns.to_flat_index()\n",
    "\n",
    "df_group_by_lob_pivot\n",
    "\n",
    "column_names = {('Total', 'Misc-LOB') :'LOB_Misc_Tot', ('Total', 'NOS-Rebuilt-Parts'): \"LOB_NOS-Rebuilt-Part_Tot\",\n",
    "               ('Total', 'Rebuilt-Engines'): 'LOB_Rebuilt-Engines-Tot', ('Total', 'Salvage') : 'LOB_Salvage_Tot'}\n",
    "\n",
    "df_group_by_lob_pivot = df_group_by_lob_pivot.rename(columns=column_names)\n",
    "\n",
    "df_group_by_lob_pivot"
   ],
   "metadata": {
    "collapsed": false
   }
  },
  {
   "cell_type": "code",
   "execution_count": 7,
   "outputs": [],
   "source": [
    "# Output to CSV file\n",
    "df_group_by_lob_pivot.to_csv('data/Customer_lob.csv')"
   ],
   "metadata": {
    "collapsed": false
   }
  },
  {
   "cell_type": "markdown",
   "source": [
    "## Pivot and output Market totals by Customer"
   ],
   "metadata": {
    "collapsed": false
   }
  },
  {
   "cell_type": "code",
   "execution_count": 8,
   "outputs": [
    {
     "data": {
      "text/plain": "            Mkt-Counter_Tot  Mkt-Other_Tot  Mkt-Website_Tot  Mkt-eBay_Tot\nCustomerID                                                               \n10012                   0.0            0.0             0.00        121.98\n24012                   0.0            0.0          1152.57          0.00\n36012                   0.0            0.0             0.00        268.83\n48012                   0.0            0.0             0.00       7014.86\n49012                   0.0            0.0          1496.84       1023.62\n...                     ...            ...              ...           ...\n375213012               0.0            0.0            25.00          0.00\n375214012               0.0            0.0             0.00         60.00\n375215012               0.0            0.0             0.00         16.99\n375216012               0.0            0.0            24.94          0.00\n375217012               0.0            0.0             9.99          0.00\n\n[141461 rows x 4 columns]",
      "text/html": "<div>\n<style scoped>\n    .dataframe tbody tr th:only-of-type {\n        vertical-align: middle;\n    }\n\n    .dataframe tbody tr th {\n        vertical-align: top;\n    }\n\n    .dataframe thead th {\n        text-align: right;\n    }\n</style>\n<table border=\"1\" class=\"dataframe\">\n  <thead>\n    <tr style=\"text-align: right;\">\n      <th></th>\n      <th>Mkt-Counter_Tot</th>\n      <th>Mkt-Other_Tot</th>\n      <th>Mkt-Website_Tot</th>\n      <th>Mkt-eBay_Tot</th>\n    </tr>\n    <tr>\n      <th>CustomerID</th>\n      <th></th>\n      <th></th>\n      <th></th>\n      <th></th>\n    </tr>\n  </thead>\n  <tbody>\n    <tr>\n      <th>10012</th>\n      <td>0.0</td>\n      <td>0.0</td>\n      <td>0.00</td>\n      <td>121.98</td>\n    </tr>\n    <tr>\n      <th>24012</th>\n      <td>0.0</td>\n      <td>0.0</td>\n      <td>1152.57</td>\n      <td>0.00</td>\n    </tr>\n    <tr>\n      <th>36012</th>\n      <td>0.0</td>\n      <td>0.0</td>\n      <td>0.00</td>\n      <td>268.83</td>\n    </tr>\n    <tr>\n      <th>48012</th>\n      <td>0.0</td>\n      <td>0.0</td>\n      <td>0.00</td>\n      <td>7014.86</td>\n    </tr>\n    <tr>\n      <th>49012</th>\n      <td>0.0</td>\n      <td>0.0</td>\n      <td>1496.84</td>\n      <td>1023.62</td>\n    </tr>\n    <tr>\n      <th>...</th>\n      <td>...</td>\n      <td>...</td>\n      <td>...</td>\n      <td>...</td>\n    </tr>\n    <tr>\n      <th>375213012</th>\n      <td>0.0</td>\n      <td>0.0</td>\n      <td>25.00</td>\n      <td>0.00</td>\n    </tr>\n    <tr>\n      <th>375214012</th>\n      <td>0.0</td>\n      <td>0.0</td>\n      <td>0.00</td>\n      <td>60.00</td>\n    </tr>\n    <tr>\n      <th>375215012</th>\n      <td>0.0</td>\n      <td>0.0</td>\n      <td>0.00</td>\n      <td>16.99</td>\n    </tr>\n    <tr>\n      <th>375216012</th>\n      <td>0.0</td>\n      <td>0.0</td>\n      <td>24.94</td>\n      <td>0.00</td>\n    </tr>\n    <tr>\n      <th>375217012</th>\n      <td>0.0</td>\n      <td>0.0</td>\n      <td>9.99</td>\n      <td>0.00</td>\n    </tr>\n  </tbody>\n</table>\n<p>141461 rows × 4 columns</p>\n</div>"
     },
     "execution_count": 8,
     "metadata": {},
     "output_type": "execute_result"
    }
   ],
   "source": [
    "# Limit to the columns want to pivot\n",
    "df_customer_sales_market_data = df_customer_sales[['CustomerID', 'Market', 'Total']]\n",
    "\n",
    "# Group by customer and pivot column\n",
    "df_group_by_market = df_customer_sales_market_data.groupby(['CustomerID','Market']).sum()\n",
    "\n",
    "# Unstack coluumns\n",
    "df_group_by_market_pivot = df_group_by_market.unstack()\n",
    "\n",
    "# Fill in nulls with zeros\n",
    "df_group_by_market_pivot.fillna(0, inplace=True)\n",
    "\n",
    "\n",
    "df_group_by_market_pivot.columns = df_group_by_market_pivot.columns.to_flat_index()\n",
    "\n",
    "df_group_by_market_pivot.columns\n",
    "\n",
    "column_names = {('Total', 'Counter') :'Mkt-Counter_Tot', ('Total', 'Other-Market'): \"Mkt-Other_Tot\",\n",
    "                ('Total', 'Website'): 'Mkt-Website_Tot', ('Total', 'eBay') : 'Mkt-eBay_Tot'}\n",
    "\n",
    "df_group_by_market_pivot = df_group_by_market_pivot.rename(columns=column_names)\n",
    "\n",
    "df_group_by_market_pivot"
   ],
   "metadata": {
    "collapsed": false
   }
  },
  {
   "cell_type": "code",
   "execution_count": 9,
   "outputs": [],
   "source": [
    "# Output to CSV file\n",
    "df_group_by_market_pivot.to_csv('data/Customer_market.csv')"
   ],
   "metadata": {
    "collapsed": false
   }
  },
  {
   "cell_type": "code",
   "execution_count": 9,
   "outputs": [],
   "source": [],
   "metadata": {
    "collapsed": false
   }
  }
 ],
 "metadata": {
  "kernelspec": {
   "display_name": "Python 3",
   "language": "python",
   "name": "python3"
  },
  "language_info": {
   "codemirror_mode": {
    "name": "ipython",
    "version": 2
   },
   "file_extension": ".py",
   "mimetype": "text/x-python",
   "name": "python",
   "nbconvert_exporter": "python",
   "pygments_lexer": "ipython2",
   "version": "2.7.6"
  }
 },
 "nbformat": 4,
 "nbformat_minor": 0
}
