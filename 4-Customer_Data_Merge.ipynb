{
 "cells": [
  {
   "cell_type": "code",
   "execution_count": 43,
   "metadata": {
    "collapsed": true
   },
   "outputs": [],
   "source": [
    "from sklearn.model_selection import train_test_split\n",
    "from sklearn.preprocessing import StandardScaler,OneHotEncoder\n",
    "import pandas as pd\n",
    "import numpy as np\n",
    "import matplotlib.pyplot as plt\n",
    "import io"
   ]
  },
  {
   "cell_type": "markdown",
   "source": [
    "## Load Brand CSV File and Merge to Customer Master"
   ],
   "metadata": {
    "collapsed": false
   }
  },
  {
   "cell_type": "code",
   "execution_count": 44,
   "outputs": [
    {
     "data": {
      "text/plain": "        CustomerID ZipCode State\n0            10012   49649    MI\n1            24012   68713    NE\n2            36012   54460    WI\n3            48012   91331    CA\n4            49012   52070    IA\n...            ...     ...   ...\n141456   375213012   68701    NE\n141457   375214012   70094    LA\n141458   375215012   77990    TX\n141459   375216012   42437    KY\n141460   375217012   36116    AL\n\n[141461 rows x 3 columns]",
      "text/html": "<div>\n<style scoped>\n    .dataframe tbody tr th:only-of-type {\n        vertical-align: middle;\n    }\n\n    .dataframe tbody tr th {\n        vertical-align: top;\n    }\n\n    .dataframe thead th {\n        text-align: right;\n    }\n</style>\n<table border=\"1\" class=\"dataframe\">\n  <thead>\n    <tr style=\"text-align: right;\">\n      <th></th>\n      <th>CustomerID</th>\n      <th>ZipCode</th>\n      <th>State</th>\n    </tr>\n  </thead>\n  <tbody>\n    <tr>\n      <th>0</th>\n      <td>10012</td>\n      <td>49649</td>\n      <td>MI</td>\n    </tr>\n    <tr>\n      <th>1</th>\n      <td>24012</td>\n      <td>68713</td>\n      <td>NE</td>\n    </tr>\n    <tr>\n      <th>2</th>\n      <td>36012</td>\n      <td>54460</td>\n      <td>WI</td>\n    </tr>\n    <tr>\n      <th>3</th>\n      <td>48012</td>\n      <td>91331</td>\n      <td>CA</td>\n    </tr>\n    <tr>\n      <th>4</th>\n      <td>49012</td>\n      <td>52070</td>\n      <td>IA</td>\n    </tr>\n    <tr>\n      <th>...</th>\n      <td>...</td>\n      <td>...</td>\n      <td>...</td>\n    </tr>\n    <tr>\n      <th>141456</th>\n      <td>375213012</td>\n      <td>68701</td>\n      <td>NE</td>\n    </tr>\n    <tr>\n      <th>141457</th>\n      <td>375214012</td>\n      <td>70094</td>\n      <td>LA</td>\n    </tr>\n    <tr>\n      <th>141458</th>\n      <td>375215012</td>\n      <td>77990</td>\n      <td>TX</td>\n    </tr>\n    <tr>\n      <th>141459</th>\n      <td>375216012</td>\n      <td>42437</td>\n      <td>KY</td>\n    </tr>\n    <tr>\n      <th>141460</th>\n      <td>375217012</td>\n      <td>36116</td>\n      <td>AL</td>\n    </tr>\n  </tbody>\n</table>\n<p>141461 rows × 3 columns</p>\n</div>"
     },
     "execution_count": 44,
     "metadata": {},
     "output_type": "execute_result"
    }
   ],
   "source": [
    "# Load the customer dataset\n",
    "file_path = \"data/Customers.csv\"\n",
    "df_customers = pd.read_csv(file_path,dtype={\"ZipCode\":\"string\"} )\n",
    "df_customers"
   ],
   "metadata": {
    "collapsed": false
   }
  },
  {
   "cell_type": "code",
   "execution_count": 45,
   "outputs": [
    {
     "data": {
      "text/plain": "        CustomerID  ArticCat_Tot  Bobcat_Tot  Can-Am_Tot  Honda_Tot  \\\n0            10012           0.0         0.0      121.98       0.00   \n1            24012           0.0         0.0      590.97     139.99   \n2            36012           0.0         0.0        0.00       0.00   \n3            48012           0.0         0.0      499.93    1595.25   \n4            49012           0.0         0.0        0.00       0.00   \n...            ...           ...         ...         ...        ...   \n141456   375213012           0.0         0.0        0.00       0.00   \n141457   375214012           0.0         0.0        0.00      60.00   \n141458   375215012           0.0         0.0        0.00       0.00   \n141459   375216012           0.0         0.0        0.00       0.00   \n141460   375217012           0.0         0.0        0.00       9.99   \n\n        John-Deere_Tot  Kawasaki_Tot  Kubota_Tot  Other-Brand_Tot  \\\n0                 0.00          0.00         0.0             0.00   \n1                 0.00          0.00         0.0             0.00   \n2                 0.00        124.99         0.0            19.99   \n3                49.99        669.89         0.0             0.00   \n4                 0.00        655.94         0.0             0.00   \n...                ...           ...         ...              ...   \n141456            0.00          0.00         0.0            25.00   \n141457            0.00          0.00         0.0             0.00   \n141458            0.00          0.00         0.0             0.00   \n141459            0.00          0.00         0.0             0.00   \n141460            0.00          0.00         0.0             0.00   \n\n        Polaris_Tot  Suzuki_Tot  Yamaha_Tot  \n0              0.00        0.00        0.00  \n1            402.68        0.00       18.93  \n2            123.85        0.00        0.00  \n3           2629.71       44.99     1525.10  \n4           1664.53      199.99        0.00  \n...             ...         ...         ...  \n141456         0.00        0.00        0.00  \n141457         0.00        0.00        0.00  \n141458         0.00       16.99        0.00  \n141459        24.94        0.00        0.00  \n141460         0.00        0.00        0.00  \n\n[141461 rows x 12 columns]",
      "text/html": "<div>\n<style scoped>\n    .dataframe tbody tr th:only-of-type {\n        vertical-align: middle;\n    }\n\n    .dataframe tbody tr th {\n        vertical-align: top;\n    }\n\n    .dataframe thead th {\n        text-align: right;\n    }\n</style>\n<table border=\"1\" class=\"dataframe\">\n  <thead>\n    <tr style=\"text-align: right;\">\n      <th></th>\n      <th>CustomerID</th>\n      <th>ArticCat_Tot</th>\n      <th>Bobcat_Tot</th>\n      <th>Can-Am_Tot</th>\n      <th>Honda_Tot</th>\n      <th>John-Deere_Tot</th>\n      <th>Kawasaki_Tot</th>\n      <th>Kubota_Tot</th>\n      <th>Other-Brand_Tot</th>\n      <th>Polaris_Tot</th>\n      <th>Suzuki_Tot</th>\n      <th>Yamaha_Tot</th>\n    </tr>\n  </thead>\n  <tbody>\n    <tr>\n      <th>0</th>\n      <td>10012</td>\n      <td>0.0</td>\n      <td>0.0</td>\n      <td>121.98</td>\n      <td>0.00</td>\n      <td>0.00</td>\n      <td>0.00</td>\n      <td>0.0</td>\n      <td>0.00</td>\n      <td>0.00</td>\n      <td>0.00</td>\n      <td>0.00</td>\n    </tr>\n    <tr>\n      <th>1</th>\n      <td>24012</td>\n      <td>0.0</td>\n      <td>0.0</td>\n      <td>590.97</td>\n      <td>139.99</td>\n      <td>0.00</td>\n      <td>0.00</td>\n      <td>0.0</td>\n      <td>0.00</td>\n      <td>402.68</td>\n      <td>0.00</td>\n      <td>18.93</td>\n    </tr>\n    <tr>\n      <th>2</th>\n      <td>36012</td>\n      <td>0.0</td>\n      <td>0.0</td>\n      <td>0.00</td>\n      <td>0.00</td>\n      <td>0.00</td>\n      <td>124.99</td>\n      <td>0.0</td>\n      <td>19.99</td>\n      <td>123.85</td>\n      <td>0.00</td>\n      <td>0.00</td>\n    </tr>\n    <tr>\n      <th>3</th>\n      <td>48012</td>\n      <td>0.0</td>\n      <td>0.0</td>\n      <td>499.93</td>\n      <td>1595.25</td>\n      <td>49.99</td>\n      <td>669.89</td>\n      <td>0.0</td>\n      <td>0.00</td>\n      <td>2629.71</td>\n      <td>44.99</td>\n      <td>1525.10</td>\n    </tr>\n    <tr>\n      <th>4</th>\n      <td>49012</td>\n      <td>0.0</td>\n      <td>0.0</td>\n      <td>0.00</td>\n      <td>0.00</td>\n      <td>0.00</td>\n      <td>655.94</td>\n      <td>0.0</td>\n      <td>0.00</td>\n      <td>1664.53</td>\n      <td>199.99</td>\n      <td>0.00</td>\n    </tr>\n    <tr>\n      <th>...</th>\n      <td>...</td>\n      <td>...</td>\n      <td>...</td>\n      <td>...</td>\n      <td>...</td>\n      <td>...</td>\n      <td>...</td>\n      <td>...</td>\n      <td>...</td>\n      <td>...</td>\n      <td>...</td>\n      <td>...</td>\n    </tr>\n    <tr>\n      <th>141456</th>\n      <td>375213012</td>\n      <td>0.0</td>\n      <td>0.0</td>\n      <td>0.00</td>\n      <td>0.00</td>\n      <td>0.00</td>\n      <td>0.00</td>\n      <td>0.0</td>\n      <td>25.00</td>\n      <td>0.00</td>\n      <td>0.00</td>\n      <td>0.00</td>\n    </tr>\n    <tr>\n      <th>141457</th>\n      <td>375214012</td>\n      <td>0.0</td>\n      <td>0.0</td>\n      <td>0.00</td>\n      <td>60.00</td>\n      <td>0.00</td>\n      <td>0.00</td>\n      <td>0.0</td>\n      <td>0.00</td>\n      <td>0.00</td>\n      <td>0.00</td>\n      <td>0.00</td>\n    </tr>\n    <tr>\n      <th>141458</th>\n      <td>375215012</td>\n      <td>0.0</td>\n      <td>0.0</td>\n      <td>0.00</td>\n      <td>0.00</td>\n      <td>0.00</td>\n      <td>0.00</td>\n      <td>0.0</td>\n      <td>0.00</td>\n      <td>0.00</td>\n      <td>16.99</td>\n      <td>0.00</td>\n    </tr>\n    <tr>\n      <th>141459</th>\n      <td>375216012</td>\n      <td>0.0</td>\n      <td>0.0</td>\n      <td>0.00</td>\n      <td>0.00</td>\n      <td>0.00</td>\n      <td>0.00</td>\n      <td>0.0</td>\n      <td>0.00</td>\n      <td>24.94</td>\n      <td>0.00</td>\n      <td>0.00</td>\n    </tr>\n    <tr>\n      <th>141460</th>\n      <td>375217012</td>\n      <td>0.0</td>\n      <td>0.0</td>\n      <td>0.00</td>\n      <td>9.99</td>\n      <td>0.00</td>\n      <td>0.00</td>\n      <td>0.0</td>\n      <td>0.00</td>\n      <td>0.00</td>\n      <td>0.00</td>\n      <td>0.00</td>\n    </tr>\n  </tbody>\n</table>\n<p>141461 rows × 12 columns</p>\n</div>"
     },
     "execution_count": 45,
     "metadata": {},
     "output_type": "execute_result"
    }
   ],
   "source": [
    "# Load the customer brand dataset\n",
    "file_path = \"data/Customer_brands.csv\"\n",
    "df_customer_brands = pd.read_csv(file_path)\n",
    "df_customer_brands"
   ],
   "metadata": {
    "collapsed": false
   }
  },
  {
   "cell_type": "code",
   "execution_count": 46,
   "outputs": [
    {
     "data": {
      "text/plain": "        CustomerID ZipCode State  ArticCat_Tot  Bobcat_Tot  Can-Am_Tot  \\\n0            10012   49649    MI           0.0         0.0      121.98   \n1            24012   68713    NE           0.0         0.0      590.97   \n2            36012   54460    WI           0.0         0.0        0.00   \n3            48012   91331    CA           0.0         0.0      499.93   \n4            49012   52070    IA           0.0         0.0        0.00   \n...            ...     ...   ...           ...         ...         ...   \n141456   375213012   68701    NE           0.0         0.0        0.00   \n141457   375214012   70094    LA           0.0         0.0        0.00   \n141458   375215012   77990    TX           0.0         0.0        0.00   \n141459   375216012   42437    KY           0.0         0.0        0.00   \n141460   375217012   36116    AL           0.0         0.0        0.00   \n\n        Honda_Tot  John-Deere_Tot  Kawasaki_Tot  Kubota_Tot  Other-Brand_Tot  \\\n0            0.00            0.00          0.00         0.0             0.00   \n1          139.99            0.00          0.00         0.0             0.00   \n2            0.00            0.00        124.99         0.0            19.99   \n3         1595.25           49.99        669.89         0.0             0.00   \n4            0.00            0.00        655.94         0.0             0.00   \n...           ...             ...           ...         ...              ...   \n141456       0.00            0.00          0.00         0.0            25.00   \n141457      60.00            0.00          0.00         0.0             0.00   \n141458       0.00            0.00          0.00         0.0             0.00   \n141459       0.00            0.00          0.00         0.0             0.00   \n141460       9.99            0.00          0.00         0.0             0.00   \n\n        Polaris_Tot  Suzuki_Tot  Yamaha_Tot  \n0              0.00        0.00        0.00  \n1            402.68        0.00       18.93  \n2            123.85        0.00        0.00  \n3           2629.71       44.99     1525.10  \n4           1664.53      199.99        0.00  \n...             ...         ...         ...  \n141456         0.00        0.00        0.00  \n141457         0.00        0.00        0.00  \n141458         0.00       16.99        0.00  \n141459        24.94        0.00        0.00  \n141460         0.00        0.00        0.00  \n\n[141461 rows x 14 columns]",
      "text/html": "<div>\n<style scoped>\n    .dataframe tbody tr th:only-of-type {\n        vertical-align: middle;\n    }\n\n    .dataframe tbody tr th {\n        vertical-align: top;\n    }\n\n    .dataframe thead th {\n        text-align: right;\n    }\n</style>\n<table border=\"1\" class=\"dataframe\">\n  <thead>\n    <tr style=\"text-align: right;\">\n      <th></th>\n      <th>CustomerID</th>\n      <th>ZipCode</th>\n      <th>State</th>\n      <th>ArticCat_Tot</th>\n      <th>Bobcat_Tot</th>\n      <th>Can-Am_Tot</th>\n      <th>Honda_Tot</th>\n      <th>John-Deere_Tot</th>\n      <th>Kawasaki_Tot</th>\n      <th>Kubota_Tot</th>\n      <th>Other-Brand_Tot</th>\n      <th>Polaris_Tot</th>\n      <th>Suzuki_Tot</th>\n      <th>Yamaha_Tot</th>\n    </tr>\n  </thead>\n  <tbody>\n    <tr>\n      <th>0</th>\n      <td>10012</td>\n      <td>49649</td>\n      <td>MI</td>\n      <td>0.0</td>\n      <td>0.0</td>\n      <td>121.98</td>\n      <td>0.00</td>\n      <td>0.00</td>\n      <td>0.00</td>\n      <td>0.0</td>\n      <td>0.00</td>\n      <td>0.00</td>\n      <td>0.00</td>\n      <td>0.00</td>\n    </tr>\n    <tr>\n      <th>1</th>\n      <td>24012</td>\n      <td>68713</td>\n      <td>NE</td>\n      <td>0.0</td>\n      <td>0.0</td>\n      <td>590.97</td>\n      <td>139.99</td>\n      <td>0.00</td>\n      <td>0.00</td>\n      <td>0.0</td>\n      <td>0.00</td>\n      <td>402.68</td>\n      <td>0.00</td>\n      <td>18.93</td>\n    </tr>\n    <tr>\n      <th>2</th>\n      <td>36012</td>\n      <td>54460</td>\n      <td>WI</td>\n      <td>0.0</td>\n      <td>0.0</td>\n      <td>0.00</td>\n      <td>0.00</td>\n      <td>0.00</td>\n      <td>124.99</td>\n      <td>0.0</td>\n      <td>19.99</td>\n      <td>123.85</td>\n      <td>0.00</td>\n      <td>0.00</td>\n    </tr>\n    <tr>\n      <th>3</th>\n      <td>48012</td>\n      <td>91331</td>\n      <td>CA</td>\n      <td>0.0</td>\n      <td>0.0</td>\n      <td>499.93</td>\n      <td>1595.25</td>\n      <td>49.99</td>\n      <td>669.89</td>\n      <td>0.0</td>\n      <td>0.00</td>\n      <td>2629.71</td>\n      <td>44.99</td>\n      <td>1525.10</td>\n    </tr>\n    <tr>\n      <th>4</th>\n      <td>49012</td>\n      <td>52070</td>\n      <td>IA</td>\n      <td>0.0</td>\n      <td>0.0</td>\n      <td>0.00</td>\n      <td>0.00</td>\n      <td>0.00</td>\n      <td>655.94</td>\n      <td>0.0</td>\n      <td>0.00</td>\n      <td>1664.53</td>\n      <td>199.99</td>\n      <td>0.00</td>\n    </tr>\n    <tr>\n      <th>...</th>\n      <td>...</td>\n      <td>...</td>\n      <td>...</td>\n      <td>...</td>\n      <td>...</td>\n      <td>...</td>\n      <td>...</td>\n      <td>...</td>\n      <td>...</td>\n      <td>...</td>\n      <td>...</td>\n      <td>...</td>\n      <td>...</td>\n      <td>...</td>\n    </tr>\n    <tr>\n      <th>141456</th>\n      <td>375213012</td>\n      <td>68701</td>\n      <td>NE</td>\n      <td>0.0</td>\n      <td>0.0</td>\n      <td>0.00</td>\n      <td>0.00</td>\n      <td>0.00</td>\n      <td>0.00</td>\n      <td>0.0</td>\n      <td>25.00</td>\n      <td>0.00</td>\n      <td>0.00</td>\n      <td>0.00</td>\n    </tr>\n    <tr>\n      <th>141457</th>\n      <td>375214012</td>\n      <td>70094</td>\n      <td>LA</td>\n      <td>0.0</td>\n      <td>0.0</td>\n      <td>0.00</td>\n      <td>60.00</td>\n      <td>0.00</td>\n      <td>0.00</td>\n      <td>0.0</td>\n      <td>0.00</td>\n      <td>0.00</td>\n      <td>0.00</td>\n      <td>0.00</td>\n    </tr>\n    <tr>\n      <th>141458</th>\n      <td>375215012</td>\n      <td>77990</td>\n      <td>TX</td>\n      <td>0.0</td>\n      <td>0.0</td>\n      <td>0.00</td>\n      <td>0.00</td>\n      <td>0.00</td>\n      <td>0.00</td>\n      <td>0.0</td>\n      <td>0.00</td>\n      <td>0.00</td>\n      <td>16.99</td>\n      <td>0.00</td>\n    </tr>\n    <tr>\n      <th>141459</th>\n      <td>375216012</td>\n      <td>42437</td>\n      <td>KY</td>\n      <td>0.0</td>\n      <td>0.0</td>\n      <td>0.00</td>\n      <td>0.00</td>\n      <td>0.00</td>\n      <td>0.00</td>\n      <td>0.0</td>\n      <td>0.00</td>\n      <td>24.94</td>\n      <td>0.00</td>\n      <td>0.00</td>\n    </tr>\n    <tr>\n      <th>141460</th>\n      <td>375217012</td>\n      <td>36116</td>\n      <td>AL</td>\n      <td>0.0</td>\n      <td>0.0</td>\n      <td>0.00</td>\n      <td>9.99</td>\n      <td>0.00</td>\n      <td>0.00</td>\n      <td>0.0</td>\n      <td>0.00</td>\n      <td>0.00</td>\n      <td>0.00</td>\n      <td>0.00</td>\n    </tr>\n  </tbody>\n</table>\n<p>141461 rows × 14 columns</p>\n</div>"
     },
     "execution_count": 46,
     "metadata": {},
     "output_type": "execute_result"
    }
   ],
   "source": [
    "df_customer_data  = pd.merge(df_customers, df_customer_brands, left_on='CustomerID', right_on='CustomerID')\n",
    "df_customer_data"
   ],
   "metadata": {
    "collapsed": false
   }
  },
  {
   "cell_type": "markdown",
   "source": [
    "## Load LOB CSV File and Merge to Customer Master"
   ],
   "metadata": {
    "collapsed": false
   }
  },
  {
   "cell_type": "code",
   "execution_count": 47,
   "outputs": [
    {
     "data": {
      "text/plain": "        CustomerID  LOB_Misc_Tot  LOB_NOS-Rebuilt-Part_Tot  \\\n0            10012           0.0                      0.00   \n1            24012           0.0                      0.00   \n2            36012           0.0                     14.94   \n3            48012           0.0                    119.98   \n4            49012           0.0                     49.99   \n...            ...           ...                       ...   \n141456   375213012           0.0                      0.00   \n141457   375214012           0.0                      0.00   \n141458   375215012           0.0                      0.00   \n141459   375216012           0.0                     24.94   \n141460   375217012           0.0                      0.00   \n\n        LOB_Rebuilt-Engines-Tot  LOB_Salvage_Tot  \n0                           0.0           121.98  \n1                           0.0          1152.57  \n2                           0.0           253.89  \n3                           0.0          6894.88  \n4                           0.0          2470.47  \n...                         ...              ...  \n141456                      0.0            25.00  \n141457                      0.0            60.00  \n141458                      0.0            16.99  \n141459                      0.0             0.00  \n141460                      0.0             9.99  \n\n[141461 rows x 5 columns]",
      "text/html": "<div>\n<style scoped>\n    .dataframe tbody tr th:only-of-type {\n        vertical-align: middle;\n    }\n\n    .dataframe tbody tr th {\n        vertical-align: top;\n    }\n\n    .dataframe thead th {\n        text-align: right;\n    }\n</style>\n<table border=\"1\" class=\"dataframe\">\n  <thead>\n    <tr style=\"text-align: right;\">\n      <th></th>\n      <th>CustomerID</th>\n      <th>LOB_Misc_Tot</th>\n      <th>LOB_NOS-Rebuilt-Part_Tot</th>\n      <th>LOB_Rebuilt-Engines-Tot</th>\n      <th>LOB_Salvage_Tot</th>\n    </tr>\n  </thead>\n  <tbody>\n    <tr>\n      <th>0</th>\n      <td>10012</td>\n      <td>0.0</td>\n      <td>0.00</td>\n      <td>0.0</td>\n      <td>121.98</td>\n    </tr>\n    <tr>\n      <th>1</th>\n      <td>24012</td>\n      <td>0.0</td>\n      <td>0.00</td>\n      <td>0.0</td>\n      <td>1152.57</td>\n    </tr>\n    <tr>\n      <th>2</th>\n      <td>36012</td>\n      <td>0.0</td>\n      <td>14.94</td>\n      <td>0.0</td>\n      <td>253.89</td>\n    </tr>\n    <tr>\n      <th>3</th>\n      <td>48012</td>\n      <td>0.0</td>\n      <td>119.98</td>\n      <td>0.0</td>\n      <td>6894.88</td>\n    </tr>\n    <tr>\n      <th>4</th>\n      <td>49012</td>\n      <td>0.0</td>\n      <td>49.99</td>\n      <td>0.0</td>\n      <td>2470.47</td>\n    </tr>\n    <tr>\n      <th>...</th>\n      <td>...</td>\n      <td>...</td>\n      <td>...</td>\n      <td>...</td>\n      <td>...</td>\n    </tr>\n    <tr>\n      <th>141456</th>\n      <td>375213012</td>\n      <td>0.0</td>\n      <td>0.00</td>\n      <td>0.0</td>\n      <td>25.00</td>\n    </tr>\n    <tr>\n      <th>141457</th>\n      <td>375214012</td>\n      <td>0.0</td>\n      <td>0.00</td>\n      <td>0.0</td>\n      <td>60.00</td>\n    </tr>\n    <tr>\n      <th>141458</th>\n      <td>375215012</td>\n      <td>0.0</td>\n      <td>0.00</td>\n      <td>0.0</td>\n      <td>16.99</td>\n    </tr>\n    <tr>\n      <th>141459</th>\n      <td>375216012</td>\n      <td>0.0</td>\n      <td>24.94</td>\n      <td>0.0</td>\n      <td>0.00</td>\n    </tr>\n    <tr>\n      <th>141460</th>\n      <td>375217012</td>\n      <td>0.0</td>\n      <td>0.00</td>\n      <td>0.0</td>\n      <td>9.99</td>\n    </tr>\n  </tbody>\n</table>\n<p>141461 rows × 5 columns</p>\n</div>"
     },
     "execution_count": 47,
     "metadata": {},
     "output_type": "execute_result"
    }
   ],
   "source": [
    "# Load the customer lob dataset\n",
    "file_path = \"data/Customer_lob.csv\"\n",
    "df_customer_lobs = pd.read_csv(file_path )\n",
    "df_customer_lobs"
   ],
   "metadata": {
    "collapsed": false
   }
  },
  {
   "cell_type": "code",
   "execution_count": 48,
   "outputs": [
    {
     "data": {
      "text/plain": "        CustomerID ZipCode State  ArticCat_Tot  Bobcat_Tot  Can-Am_Tot  \\\n0            10012   49649    MI           0.0         0.0      121.98   \n1            24012   68713    NE           0.0         0.0      590.97   \n2            36012   54460    WI           0.0         0.0        0.00   \n3            48012   91331    CA           0.0         0.0      499.93   \n4            49012   52070    IA           0.0         0.0        0.00   \n...            ...     ...   ...           ...         ...         ...   \n141456   375213012   68701    NE           0.0         0.0        0.00   \n141457   375214012   70094    LA           0.0         0.0        0.00   \n141458   375215012   77990    TX           0.0         0.0        0.00   \n141459   375216012   42437    KY           0.0         0.0        0.00   \n141460   375217012   36116    AL           0.0         0.0        0.00   \n\n        Honda_Tot  John-Deere_Tot  Kawasaki_Tot  Kubota_Tot  Other-Brand_Tot  \\\n0            0.00            0.00          0.00         0.0             0.00   \n1          139.99            0.00          0.00         0.0             0.00   \n2            0.00            0.00        124.99         0.0            19.99   \n3         1595.25           49.99        669.89         0.0             0.00   \n4            0.00            0.00        655.94         0.0             0.00   \n...           ...             ...           ...         ...              ...   \n141456       0.00            0.00          0.00         0.0            25.00   \n141457      60.00            0.00          0.00         0.0             0.00   \n141458       0.00            0.00          0.00         0.0             0.00   \n141459       0.00            0.00          0.00         0.0             0.00   \n141460       9.99            0.00          0.00         0.0             0.00   \n\n        Polaris_Tot  Suzuki_Tot  Yamaha_Tot  LOB_Misc_Tot  \\\n0              0.00        0.00        0.00           0.0   \n1            402.68        0.00       18.93           0.0   \n2            123.85        0.00        0.00           0.0   \n3           2629.71       44.99     1525.10           0.0   \n4           1664.53      199.99        0.00           0.0   \n...             ...         ...         ...           ...   \n141456         0.00        0.00        0.00           0.0   \n141457         0.00        0.00        0.00           0.0   \n141458         0.00       16.99        0.00           0.0   \n141459        24.94        0.00        0.00           0.0   \n141460         0.00        0.00        0.00           0.0   \n\n        LOB_NOS-Rebuilt-Part_Tot  LOB_Rebuilt-Engines-Tot  LOB_Salvage_Tot  \n0                           0.00                      0.0           121.98  \n1                           0.00                      0.0          1152.57  \n2                          14.94                      0.0           253.89  \n3                         119.98                      0.0          6894.88  \n4                          49.99                      0.0          2470.47  \n...                          ...                      ...              ...  \n141456                      0.00                      0.0            25.00  \n141457                      0.00                      0.0            60.00  \n141458                      0.00                      0.0            16.99  \n141459                     24.94                      0.0             0.00  \n141460                      0.00                      0.0             9.99  \n\n[141461 rows x 18 columns]",
      "text/html": "<div>\n<style scoped>\n    .dataframe tbody tr th:only-of-type {\n        vertical-align: middle;\n    }\n\n    .dataframe tbody tr th {\n        vertical-align: top;\n    }\n\n    .dataframe thead th {\n        text-align: right;\n    }\n</style>\n<table border=\"1\" class=\"dataframe\">\n  <thead>\n    <tr style=\"text-align: right;\">\n      <th></th>\n      <th>CustomerID</th>\n      <th>ZipCode</th>\n      <th>State</th>\n      <th>ArticCat_Tot</th>\n      <th>Bobcat_Tot</th>\n      <th>Can-Am_Tot</th>\n      <th>Honda_Tot</th>\n      <th>John-Deere_Tot</th>\n      <th>Kawasaki_Tot</th>\n      <th>Kubota_Tot</th>\n      <th>Other-Brand_Tot</th>\n      <th>Polaris_Tot</th>\n      <th>Suzuki_Tot</th>\n      <th>Yamaha_Tot</th>\n      <th>LOB_Misc_Tot</th>\n      <th>LOB_NOS-Rebuilt-Part_Tot</th>\n      <th>LOB_Rebuilt-Engines-Tot</th>\n      <th>LOB_Salvage_Tot</th>\n    </tr>\n  </thead>\n  <tbody>\n    <tr>\n      <th>0</th>\n      <td>10012</td>\n      <td>49649</td>\n      <td>MI</td>\n      <td>0.0</td>\n      <td>0.0</td>\n      <td>121.98</td>\n      <td>0.00</td>\n      <td>0.00</td>\n      <td>0.00</td>\n      <td>0.0</td>\n      <td>0.00</td>\n      <td>0.00</td>\n      <td>0.00</td>\n      <td>0.00</td>\n      <td>0.0</td>\n      <td>0.00</td>\n      <td>0.0</td>\n      <td>121.98</td>\n    </tr>\n    <tr>\n      <th>1</th>\n      <td>24012</td>\n      <td>68713</td>\n      <td>NE</td>\n      <td>0.0</td>\n      <td>0.0</td>\n      <td>590.97</td>\n      <td>139.99</td>\n      <td>0.00</td>\n      <td>0.00</td>\n      <td>0.0</td>\n      <td>0.00</td>\n      <td>402.68</td>\n      <td>0.00</td>\n      <td>18.93</td>\n      <td>0.0</td>\n      <td>0.00</td>\n      <td>0.0</td>\n      <td>1152.57</td>\n    </tr>\n    <tr>\n      <th>2</th>\n      <td>36012</td>\n      <td>54460</td>\n      <td>WI</td>\n      <td>0.0</td>\n      <td>0.0</td>\n      <td>0.00</td>\n      <td>0.00</td>\n      <td>0.00</td>\n      <td>124.99</td>\n      <td>0.0</td>\n      <td>19.99</td>\n      <td>123.85</td>\n      <td>0.00</td>\n      <td>0.00</td>\n      <td>0.0</td>\n      <td>14.94</td>\n      <td>0.0</td>\n      <td>253.89</td>\n    </tr>\n    <tr>\n      <th>3</th>\n      <td>48012</td>\n      <td>91331</td>\n      <td>CA</td>\n      <td>0.0</td>\n      <td>0.0</td>\n      <td>499.93</td>\n      <td>1595.25</td>\n      <td>49.99</td>\n      <td>669.89</td>\n      <td>0.0</td>\n      <td>0.00</td>\n      <td>2629.71</td>\n      <td>44.99</td>\n      <td>1525.10</td>\n      <td>0.0</td>\n      <td>119.98</td>\n      <td>0.0</td>\n      <td>6894.88</td>\n    </tr>\n    <tr>\n      <th>4</th>\n      <td>49012</td>\n      <td>52070</td>\n      <td>IA</td>\n      <td>0.0</td>\n      <td>0.0</td>\n      <td>0.00</td>\n      <td>0.00</td>\n      <td>0.00</td>\n      <td>655.94</td>\n      <td>0.0</td>\n      <td>0.00</td>\n      <td>1664.53</td>\n      <td>199.99</td>\n      <td>0.00</td>\n      <td>0.0</td>\n      <td>49.99</td>\n      <td>0.0</td>\n      <td>2470.47</td>\n    </tr>\n    <tr>\n      <th>...</th>\n      <td>...</td>\n      <td>...</td>\n      <td>...</td>\n      <td>...</td>\n      <td>...</td>\n      <td>...</td>\n      <td>...</td>\n      <td>...</td>\n      <td>...</td>\n      <td>...</td>\n      <td>...</td>\n      <td>...</td>\n      <td>...</td>\n      <td>...</td>\n      <td>...</td>\n      <td>...</td>\n      <td>...</td>\n      <td>...</td>\n    </tr>\n    <tr>\n      <th>141456</th>\n      <td>375213012</td>\n      <td>68701</td>\n      <td>NE</td>\n      <td>0.0</td>\n      <td>0.0</td>\n      <td>0.00</td>\n      <td>0.00</td>\n      <td>0.00</td>\n      <td>0.00</td>\n      <td>0.0</td>\n      <td>25.00</td>\n      <td>0.00</td>\n      <td>0.00</td>\n      <td>0.00</td>\n      <td>0.0</td>\n      <td>0.00</td>\n      <td>0.0</td>\n      <td>25.00</td>\n    </tr>\n    <tr>\n      <th>141457</th>\n      <td>375214012</td>\n      <td>70094</td>\n      <td>LA</td>\n      <td>0.0</td>\n      <td>0.0</td>\n      <td>0.00</td>\n      <td>60.00</td>\n      <td>0.00</td>\n      <td>0.00</td>\n      <td>0.0</td>\n      <td>0.00</td>\n      <td>0.00</td>\n      <td>0.00</td>\n      <td>0.00</td>\n      <td>0.0</td>\n      <td>0.00</td>\n      <td>0.0</td>\n      <td>60.00</td>\n    </tr>\n    <tr>\n      <th>141458</th>\n      <td>375215012</td>\n      <td>77990</td>\n      <td>TX</td>\n      <td>0.0</td>\n      <td>0.0</td>\n      <td>0.00</td>\n      <td>0.00</td>\n      <td>0.00</td>\n      <td>0.00</td>\n      <td>0.0</td>\n      <td>0.00</td>\n      <td>0.00</td>\n      <td>16.99</td>\n      <td>0.00</td>\n      <td>0.0</td>\n      <td>0.00</td>\n      <td>0.0</td>\n      <td>16.99</td>\n    </tr>\n    <tr>\n      <th>141459</th>\n      <td>375216012</td>\n      <td>42437</td>\n      <td>KY</td>\n      <td>0.0</td>\n      <td>0.0</td>\n      <td>0.00</td>\n      <td>0.00</td>\n      <td>0.00</td>\n      <td>0.00</td>\n      <td>0.0</td>\n      <td>0.00</td>\n      <td>24.94</td>\n      <td>0.00</td>\n      <td>0.00</td>\n      <td>0.0</td>\n      <td>24.94</td>\n      <td>0.0</td>\n      <td>0.00</td>\n    </tr>\n    <tr>\n      <th>141460</th>\n      <td>375217012</td>\n      <td>36116</td>\n      <td>AL</td>\n      <td>0.0</td>\n      <td>0.0</td>\n      <td>0.00</td>\n      <td>9.99</td>\n      <td>0.00</td>\n      <td>0.00</td>\n      <td>0.0</td>\n      <td>0.00</td>\n      <td>0.00</td>\n      <td>0.00</td>\n      <td>0.00</td>\n      <td>0.0</td>\n      <td>0.00</td>\n      <td>0.0</td>\n      <td>9.99</td>\n    </tr>\n  </tbody>\n</table>\n<p>141461 rows × 18 columns</p>\n</div>"
     },
     "execution_count": 48,
     "metadata": {},
     "output_type": "execute_result"
    }
   ],
   "source": [
    "df_customer_data  = pd.merge(df_customer_data, df_customer_lobs, left_on='CustomerID', right_on='CustomerID')\n",
    "df_customer_data"
   ],
   "metadata": {
    "collapsed": false
   }
  },
  {
   "cell_type": "markdown",
   "source": [
    "## Load Market CSV File and Merge to Customer Master"
   ],
   "metadata": {
    "collapsed": false
   }
  },
  {
   "cell_type": "code",
   "execution_count": null,
   "outputs": [],
   "source": [
    "# Load the customer lob dataset\n",
    "file_path = \"data/Customer_market.csv\"\n",
    "df_customer_market = pd.read_csv(file_path )\n",
    "df_customer_market"
   ],
   "metadata": {
    "collapsed": false
   }
  },
  {
   "cell_type": "code",
   "execution_count": 50,
   "outputs": [
    {
     "data": {
      "text/plain": "        CustomerID ZipCode State  ArticCat_Tot  Bobcat_Tot  Can-Am_Tot  \\\n0            10012   49649    MI           0.0         0.0      121.98   \n1            24012   68713    NE           0.0         0.0      590.97   \n2            36012   54460    WI           0.0         0.0        0.00   \n3            48012   91331    CA           0.0         0.0      499.93   \n4            49012   52070    IA           0.0         0.0        0.00   \n...            ...     ...   ...           ...         ...         ...   \n141456   375213012   68701    NE           0.0         0.0        0.00   \n141457   375214012   70094    LA           0.0         0.0        0.00   \n141458   375215012   77990    TX           0.0         0.0        0.00   \n141459   375216012   42437    KY           0.0         0.0        0.00   \n141460   375217012   36116    AL           0.0         0.0        0.00   \n\n        Honda_Tot  John-Deere_Tot  Kawasaki_Tot  Kubota_Tot  ...  Suzuki_Tot  \\\n0            0.00            0.00          0.00         0.0  ...        0.00   \n1          139.99            0.00          0.00         0.0  ...        0.00   \n2            0.00            0.00        124.99         0.0  ...        0.00   \n3         1595.25           49.99        669.89         0.0  ...       44.99   \n4            0.00            0.00        655.94         0.0  ...      199.99   \n...           ...             ...           ...         ...  ...         ...   \n141456       0.00            0.00          0.00         0.0  ...        0.00   \n141457      60.00            0.00          0.00         0.0  ...        0.00   \n141458       0.00            0.00          0.00         0.0  ...       16.99   \n141459       0.00            0.00          0.00         0.0  ...        0.00   \n141460       9.99            0.00          0.00         0.0  ...        0.00   \n\n        Yamaha_Tot  LOB_Misc_Tot  LOB_NOS-Rebuilt-Part_Tot  \\\n0             0.00           0.0                      0.00   \n1            18.93           0.0                      0.00   \n2             0.00           0.0                     14.94   \n3          1525.10           0.0                    119.98   \n4             0.00           0.0                     49.99   \n...            ...           ...                       ...   \n141456        0.00           0.0                      0.00   \n141457        0.00           0.0                      0.00   \n141458        0.00           0.0                      0.00   \n141459        0.00           0.0                     24.94   \n141460        0.00           0.0                      0.00   \n\n        LOB_Rebuilt-Engines-Tot  LOB_Salvage_Tot  Mkt-Counter_Tot  \\\n0                           0.0           121.98              0.0   \n1                           0.0          1152.57              0.0   \n2                           0.0           253.89              0.0   \n3                           0.0          6894.88              0.0   \n4                           0.0          2470.47              0.0   \n...                         ...              ...              ...   \n141456                      0.0            25.00              0.0   \n141457                      0.0            60.00              0.0   \n141458                      0.0            16.99              0.0   \n141459                      0.0             0.00              0.0   \n141460                      0.0             9.99              0.0   \n\n        Mkt-Other_Tot  Mkt-Website_Tot  Mkt-eBay_Tot  \n0                 0.0             0.00        121.98  \n1                 0.0          1152.57          0.00  \n2                 0.0             0.00        268.83  \n3                 0.0             0.00       7014.86  \n4                 0.0          1496.84       1023.62  \n...               ...              ...           ...  \n141456            0.0            25.00          0.00  \n141457            0.0             0.00         60.00  \n141458            0.0             0.00         16.99  \n141459            0.0            24.94          0.00  \n141460            0.0             9.99          0.00  \n\n[141461 rows x 22 columns]",
      "text/html": "<div>\n<style scoped>\n    .dataframe tbody tr th:only-of-type {\n        vertical-align: middle;\n    }\n\n    .dataframe tbody tr th {\n        vertical-align: top;\n    }\n\n    .dataframe thead th {\n        text-align: right;\n    }\n</style>\n<table border=\"1\" class=\"dataframe\">\n  <thead>\n    <tr style=\"text-align: right;\">\n      <th></th>\n      <th>CustomerID</th>\n      <th>ZipCode</th>\n      <th>State</th>\n      <th>ArticCat_Tot</th>\n      <th>Bobcat_Tot</th>\n      <th>Can-Am_Tot</th>\n      <th>Honda_Tot</th>\n      <th>John-Deere_Tot</th>\n      <th>Kawasaki_Tot</th>\n      <th>Kubota_Tot</th>\n      <th>...</th>\n      <th>Suzuki_Tot</th>\n      <th>Yamaha_Tot</th>\n      <th>LOB_Misc_Tot</th>\n      <th>LOB_NOS-Rebuilt-Part_Tot</th>\n      <th>LOB_Rebuilt-Engines-Tot</th>\n      <th>LOB_Salvage_Tot</th>\n      <th>Mkt-Counter_Tot</th>\n      <th>Mkt-Other_Tot</th>\n      <th>Mkt-Website_Tot</th>\n      <th>Mkt-eBay_Tot</th>\n    </tr>\n  </thead>\n  <tbody>\n    <tr>\n      <th>0</th>\n      <td>10012</td>\n      <td>49649</td>\n      <td>MI</td>\n      <td>0.0</td>\n      <td>0.0</td>\n      <td>121.98</td>\n      <td>0.00</td>\n      <td>0.00</td>\n      <td>0.00</td>\n      <td>0.0</td>\n      <td>...</td>\n      <td>0.00</td>\n      <td>0.00</td>\n      <td>0.0</td>\n      <td>0.00</td>\n      <td>0.0</td>\n      <td>121.98</td>\n      <td>0.0</td>\n      <td>0.0</td>\n      <td>0.00</td>\n      <td>121.98</td>\n    </tr>\n    <tr>\n      <th>1</th>\n      <td>24012</td>\n      <td>68713</td>\n      <td>NE</td>\n      <td>0.0</td>\n      <td>0.0</td>\n      <td>590.97</td>\n      <td>139.99</td>\n      <td>0.00</td>\n      <td>0.00</td>\n      <td>0.0</td>\n      <td>...</td>\n      <td>0.00</td>\n      <td>18.93</td>\n      <td>0.0</td>\n      <td>0.00</td>\n      <td>0.0</td>\n      <td>1152.57</td>\n      <td>0.0</td>\n      <td>0.0</td>\n      <td>1152.57</td>\n      <td>0.00</td>\n    </tr>\n    <tr>\n      <th>2</th>\n      <td>36012</td>\n      <td>54460</td>\n      <td>WI</td>\n      <td>0.0</td>\n      <td>0.0</td>\n      <td>0.00</td>\n      <td>0.00</td>\n      <td>0.00</td>\n      <td>124.99</td>\n      <td>0.0</td>\n      <td>...</td>\n      <td>0.00</td>\n      <td>0.00</td>\n      <td>0.0</td>\n      <td>14.94</td>\n      <td>0.0</td>\n      <td>253.89</td>\n      <td>0.0</td>\n      <td>0.0</td>\n      <td>0.00</td>\n      <td>268.83</td>\n    </tr>\n    <tr>\n      <th>3</th>\n      <td>48012</td>\n      <td>91331</td>\n      <td>CA</td>\n      <td>0.0</td>\n      <td>0.0</td>\n      <td>499.93</td>\n      <td>1595.25</td>\n      <td>49.99</td>\n      <td>669.89</td>\n      <td>0.0</td>\n      <td>...</td>\n      <td>44.99</td>\n      <td>1525.10</td>\n      <td>0.0</td>\n      <td>119.98</td>\n      <td>0.0</td>\n      <td>6894.88</td>\n      <td>0.0</td>\n      <td>0.0</td>\n      <td>0.00</td>\n      <td>7014.86</td>\n    </tr>\n    <tr>\n      <th>4</th>\n      <td>49012</td>\n      <td>52070</td>\n      <td>IA</td>\n      <td>0.0</td>\n      <td>0.0</td>\n      <td>0.00</td>\n      <td>0.00</td>\n      <td>0.00</td>\n      <td>655.94</td>\n      <td>0.0</td>\n      <td>...</td>\n      <td>199.99</td>\n      <td>0.00</td>\n      <td>0.0</td>\n      <td>49.99</td>\n      <td>0.0</td>\n      <td>2470.47</td>\n      <td>0.0</td>\n      <td>0.0</td>\n      <td>1496.84</td>\n      <td>1023.62</td>\n    </tr>\n    <tr>\n      <th>...</th>\n      <td>...</td>\n      <td>...</td>\n      <td>...</td>\n      <td>...</td>\n      <td>...</td>\n      <td>...</td>\n      <td>...</td>\n      <td>...</td>\n      <td>...</td>\n      <td>...</td>\n      <td>...</td>\n      <td>...</td>\n      <td>...</td>\n      <td>...</td>\n      <td>...</td>\n      <td>...</td>\n      <td>...</td>\n      <td>...</td>\n      <td>...</td>\n      <td>...</td>\n      <td>...</td>\n    </tr>\n    <tr>\n      <th>141456</th>\n      <td>375213012</td>\n      <td>68701</td>\n      <td>NE</td>\n      <td>0.0</td>\n      <td>0.0</td>\n      <td>0.00</td>\n      <td>0.00</td>\n      <td>0.00</td>\n      <td>0.00</td>\n      <td>0.0</td>\n      <td>...</td>\n      <td>0.00</td>\n      <td>0.00</td>\n      <td>0.0</td>\n      <td>0.00</td>\n      <td>0.0</td>\n      <td>25.00</td>\n      <td>0.0</td>\n      <td>0.0</td>\n      <td>25.00</td>\n      <td>0.00</td>\n    </tr>\n    <tr>\n      <th>141457</th>\n      <td>375214012</td>\n      <td>70094</td>\n      <td>LA</td>\n      <td>0.0</td>\n      <td>0.0</td>\n      <td>0.00</td>\n      <td>60.00</td>\n      <td>0.00</td>\n      <td>0.00</td>\n      <td>0.0</td>\n      <td>...</td>\n      <td>0.00</td>\n      <td>0.00</td>\n      <td>0.0</td>\n      <td>0.00</td>\n      <td>0.0</td>\n      <td>60.00</td>\n      <td>0.0</td>\n      <td>0.0</td>\n      <td>0.00</td>\n      <td>60.00</td>\n    </tr>\n    <tr>\n      <th>141458</th>\n      <td>375215012</td>\n      <td>77990</td>\n      <td>TX</td>\n      <td>0.0</td>\n      <td>0.0</td>\n      <td>0.00</td>\n      <td>0.00</td>\n      <td>0.00</td>\n      <td>0.00</td>\n      <td>0.0</td>\n      <td>...</td>\n      <td>16.99</td>\n      <td>0.00</td>\n      <td>0.0</td>\n      <td>0.00</td>\n      <td>0.0</td>\n      <td>16.99</td>\n      <td>0.0</td>\n      <td>0.0</td>\n      <td>0.00</td>\n      <td>16.99</td>\n    </tr>\n    <tr>\n      <th>141459</th>\n      <td>375216012</td>\n      <td>42437</td>\n      <td>KY</td>\n      <td>0.0</td>\n      <td>0.0</td>\n      <td>0.00</td>\n      <td>0.00</td>\n      <td>0.00</td>\n      <td>0.00</td>\n      <td>0.0</td>\n      <td>...</td>\n      <td>0.00</td>\n      <td>0.00</td>\n      <td>0.0</td>\n      <td>24.94</td>\n      <td>0.0</td>\n      <td>0.00</td>\n      <td>0.0</td>\n      <td>0.0</td>\n      <td>24.94</td>\n      <td>0.00</td>\n    </tr>\n    <tr>\n      <th>141460</th>\n      <td>375217012</td>\n      <td>36116</td>\n      <td>AL</td>\n      <td>0.0</td>\n      <td>0.0</td>\n      <td>0.00</td>\n      <td>9.99</td>\n      <td>0.00</td>\n      <td>0.00</td>\n      <td>0.0</td>\n      <td>...</td>\n      <td>0.00</td>\n      <td>0.00</td>\n      <td>0.0</td>\n      <td>0.00</td>\n      <td>0.0</td>\n      <td>9.99</td>\n      <td>0.0</td>\n      <td>0.0</td>\n      <td>9.99</td>\n      <td>0.00</td>\n    </tr>\n  </tbody>\n</table>\n<p>141461 rows × 22 columns</p>\n</div>"
     },
     "execution_count": 50,
     "metadata": {},
     "output_type": "execute_result"
    }
   ],
   "source": [
    "df_customer_data  = pd.merge(df_customer_data, df_customer_market, left_on='CustomerID', right_on='CustomerID')\n",
    "df_customer_data"
   ],
   "metadata": {
    "collapsed": false
   }
  },
  {
   "cell_type": "markdown",
   "source": [
    "## Load RFM CSV File and Merge to Customer Master"
   ],
   "metadata": {
    "collapsed": false
   }
  },
  {
   "cell_type": "code",
   "execution_count": 51,
   "outputs": [
    {
     "data": {
      "text/plain": "        CustomerID  Recency  Frequency  Monetary  R  F  M  RFM Score  \\\n0            10012      636          3    121.98  1  5  4        154   \n1            24012       50         11   1152.57  5  5  5        555   \n2            36012       48          7    268.83  5  5  5        555   \n3            48012       15         42   7014.86  5  5  5        555   \n4            49012       43         14   2460.47  5  5  5        555   \n...            ...      ...        ...       ... .. .. ..        ...   \n141456   375213012        1          1     25.00  5  1  2        512   \n141457   375214012        1          1     60.00  5  1  3        513   \n141458   375215012        1          1     16.99  5  1  1        511   \n141459   375216012        1          1     24.94  5  1  2        512   \n141460   375217012        1          1      9.99  5  1  1        511   \n\n              Segment  \n0         can't loose  \n1           champions  \n2           champions  \n3           champions  \n4           champions  \n...               ...  \n141456  new customers  \n141457  new customers  \n141458  new customers  \n141459  new customers  \n141460  new customers  \n\n[141461 rows x 9 columns]",
      "text/html": "<div>\n<style scoped>\n    .dataframe tbody tr th:only-of-type {\n        vertical-align: middle;\n    }\n\n    .dataframe tbody tr th {\n        vertical-align: top;\n    }\n\n    .dataframe thead th {\n        text-align: right;\n    }\n</style>\n<table border=\"1\" class=\"dataframe\">\n  <thead>\n    <tr style=\"text-align: right;\">\n      <th></th>\n      <th>CustomerID</th>\n      <th>Recency</th>\n      <th>Frequency</th>\n      <th>Monetary</th>\n      <th>R</th>\n      <th>F</th>\n      <th>M</th>\n      <th>RFM Score</th>\n      <th>Segment</th>\n    </tr>\n  </thead>\n  <tbody>\n    <tr>\n      <th>0</th>\n      <td>10012</td>\n      <td>636</td>\n      <td>3</td>\n      <td>121.98</td>\n      <td>1</td>\n      <td>5</td>\n      <td>4</td>\n      <td>154</td>\n      <td>can't loose</td>\n    </tr>\n    <tr>\n      <th>1</th>\n      <td>24012</td>\n      <td>50</td>\n      <td>11</td>\n      <td>1152.57</td>\n      <td>5</td>\n      <td>5</td>\n      <td>5</td>\n      <td>555</td>\n      <td>champions</td>\n    </tr>\n    <tr>\n      <th>2</th>\n      <td>36012</td>\n      <td>48</td>\n      <td>7</td>\n      <td>268.83</td>\n      <td>5</td>\n      <td>5</td>\n      <td>5</td>\n      <td>555</td>\n      <td>champions</td>\n    </tr>\n    <tr>\n      <th>3</th>\n      <td>48012</td>\n      <td>15</td>\n      <td>42</td>\n      <td>7014.86</td>\n      <td>5</td>\n      <td>5</td>\n      <td>5</td>\n      <td>555</td>\n      <td>champions</td>\n    </tr>\n    <tr>\n      <th>4</th>\n      <td>49012</td>\n      <td>43</td>\n      <td>14</td>\n      <td>2460.47</td>\n      <td>5</td>\n      <td>5</td>\n      <td>5</td>\n      <td>555</td>\n      <td>champions</td>\n    </tr>\n    <tr>\n      <th>...</th>\n      <td>...</td>\n      <td>...</td>\n      <td>...</td>\n      <td>...</td>\n      <td>...</td>\n      <td>...</td>\n      <td>...</td>\n      <td>...</td>\n      <td>...</td>\n    </tr>\n    <tr>\n      <th>141456</th>\n      <td>375213012</td>\n      <td>1</td>\n      <td>1</td>\n      <td>25.00</td>\n      <td>5</td>\n      <td>1</td>\n      <td>2</td>\n      <td>512</td>\n      <td>new customers</td>\n    </tr>\n    <tr>\n      <th>141457</th>\n      <td>375214012</td>\n      <td>1</td>\n      <td>1</td>\n      <td>60.00</td>\n      <td>5</td>\n      <td>1</td>\n      <td>3</td>\n      <td>513</td>\n      <td>new customers</td>\n    </tr>\n    <tr>\n      <th>141458</th>\n      <td>375215012</td>\n      <td>1</td>\n      <td>1</td>\n      <td>16.99</td>\n      <td>5</td>\n      <td>1</td>\n      <td>1</td>\n      <td>511</td>\n      <td>new customers</td>\n    </tr>\n    <tr>\n      <th>141459</th>\n      <td>375216012</td>\n      <td>1</td>\n      <td>1</td>\n      <td>24.94</td>\n      <td>5</td>\n      <td>1</td>\n      <td>2</td>\n      <td>512</td>\n      <td>new customers</td>\n    </tr>\n    <tr>\n      <th>141460</th>\n      <td>375217012</td>\n      <td>1</td>\n      <td>1</td>\n      <td>9.99</td>\n      <td>5</td>\n      <td>1</td>\n      <td>1</td>\n      <td>511</td>\n      <td>new customers</td>\n    </tr>\n  </tbody>\n</table>\n<p>141461 rows × 9 columns</p>\n</div>"
     },
     "execution_count": 51,
     "metadata": {},
     "output_type": "execute_result"
    }
   ],
   "source": [
    "# Load the customer lob dataset\n",
    "file_path = \"data/Customer_rfm.csv\"\n",
    "df_customer_rfm = pd.read_csv(file_path )\n",
    "df_customer_rfm"
   ],
   "metadata": {
    "collapsed": false
   }
  },
  {
   "cell_type": "code",
   "execution_count": 52,
   "outputs": [
    {
     "data": {
      "text/plain": "        CustomerID ZipCode State  ArticCat_Tot  Bobcat_Tot  Can-Am_Tot  \\\n0            10012   49649    MI           0.0         0.0      121.98   \n1            24012   68713    NE           0.0         0.0      590.97   \n2            36012   54460    WI           0.0         0.0        0.00   \n3            48012   91331    CA           0.0         0.0      499.93   \n4            49012   52070    IA           0.0         0.0        0.00   \n...            ...     ...   ...           ...         ...         ...   \n141456   375213012   68701    NE           0.0         0.0        0.00   \n141457   375214012   70094    LA           0.0         0.0        0.00   \n141458   375215012   77990    TX           0.0         0.0        0.00   \n141459   375216012   42437    KY           0.0         0.0        0.00   \n141460   375217012   36116    AL           0.0         0.0        0.00   \n\n        Honda_Tot  John-Deere_Tot  Kawasaki_Tot  Kubota_Tot  ...  \\\n0            0.00            0.00          0.00         0.0  ...   \n1          139.99            0.00          0.00         0.0  ...   \n2            0.00            0.00        124.99         0.0  ...   \n3         1595.25           49.99        669.89         0.0  ...   \n4            0.00            0.00        655.94         0.0  ...   \n...           ...             ...           ...         ...  ...   \n141456       0.00            0.00          0.00         0.0  ...   \n141457      60.00            0.00          0.00         0.0  ...   \n141458       0.00            0.00          0.00         0.0  ...   \n141459       0.00            0.00          0.00         0.0  ...   \n141460       9.99            0.00          0.00         0.0  ...   \n\n        Mkt-Website_Tot  Mkt-eBay_Tot  Recency  Frequency  Monetary  R  F  M  \\\n0                  0.00        121.98      636          3    121.98  1  5  4   \n1               1152.57          0.00       50         11   1152.57  5  5  5   \n2                  0.00        268.83       48          7    268.83  5  5  5   \n3                  0.00       7014.86       15         42   7014.86  5  5  5   \n4               1496.84       1023.62       43         14   2460.47  5  5  5   \n...                 ...           ...      ...        ...       ... .. .. ..   \n141456            25.00          0.00        1          1     25.00  5  1  2   \n141457             0.00         60.00        1          1     60.00  5  1  3   \n141458             0.00         16.99        1          1     16.99  5  1  1   \n141459            24.94          0.00        1          1     24.94  5  1  2   \n141460             9.99          0.00        1          1      9.99  5  1  1   \n\n        RFM Score        Segment  \n0             154    can't loose  \n1             555      champions  \n2             555      champions  \n3             555      champions  \n4             555      champions  \n...           ...            ...  \n141456        512  new customers  \n141457        513  new customers  \n141458        511  new customers  \n141459        512  new customers  \n141460        511  new customers  \n\n[141461 rows x 30 columns]",
      "text/html": "<div>\n<style scoped>\n    .dataframe tbody tr th:only-of-type {\n        vertical-align: middle;\n    }\n\n    .dataframe tbody tr th {\n        vertical-align: top;\n    }\n\n    .dataframe thead th {\n        text-align: right;\n    }\n</style>\n<table border=\"1\" class=\"dataframe\">\n  <thead>\n    <tr style=\"text-align: right;\">\n      <th></th>\n      <th>CustomerID</th>\n      <th>ZipCode</th>\n      <th>State</th>\n      <th>ArticCat_Tot</th>\n      <th>Bobcat_Tot</th>\n      <th>Can-Am_Tot</th>\n      <th>Honda_Tot</th>\n      <th>John-Deere_Tot</th>\n      <th>Kawasaki_Tot</th>\n      <th>Kubota_Tot</th>\n      <th>...</th>\n      <th>Mkt-Website_Tot</th>\n      <th>Mkt-eBay_Tot</th>\n      <th>Recency</th>\n      <th>Frequency</th>\n      <th>Monetary</th>\n      <th>R</th>\n      <th>F</th>\n      <th>M</th>\n      <th>RFM Score</th>\n      <th>Segment</th>\n    </tr>\n  </thead>\n  <tbody>\n    <tr>\n      <th>0</th>\n      <td>10012</td>\n      <td>49649</td>\n      <td>MI</td>\n      <td>0.0</td>\n      <td>0.0</td>\n      <td>121.98</td>\n      <td>0.00</td>\n      <td>0.00</td>\n      <td>0.00</td>\n      <td>0.0</td>\n      <td>...</td>\n      <td>0.00</td>\n      <td>121.98</td>\n      <td>636</td>\n      <td>3</td>\n      <td>121.98</td>\n      <td>1</td>\n      <td>5</td>\n      <td>4</td>\n      <td>154</td>\n      <td>can't loose</td>\n    </tr>\n    <tr>\n      <th>1</th>\n      <td>24012</td>\n      <td>68713</td>\n      <td>NE</td>\n      <td>0.0</td>\n      <td>0.0</td>\n      <td>590.97</td>\n      <td>139.99</td>\n      <td>0.00</td>\n      <td>0.00</td>\n      <td>0.0</td>\n      <td>...</td>\n      <td>1152.57</td>\n      <td>0.00</td>\n      <td>50</td>\n      <td>11</td>\n      <td>1152.57</td>\n      <td>5</td>\n      <td>5</td>\n      <td>5</td>\n      <td>555</td>\n      <td>champions</td>\n    </tr>\n    <tr>\n      <th>2</th>\n      <td>36012</td>\n      <td>54460</td>\n      <td>WI</td>\n      <td>0.0</td>\n      <td>0.0</td>\n      <td>0.00</td>\n      <td>0.00</td>\n      <td>0.00</td>\n      <td>124.99</td>\n      <td>0.0</td>\n      <td>...</td>\n      <td>0.00</td>\n      <td>268.83</td>\n      <td>48</td>\n      <td>7</td>\n      <td>268.83</td>\n      <td>5</td>\n      <td>5</td>\n      <td>5</td>\n      <td>555</td>\n      <td>champions</td>\n    </tr>\n    <tr>\n      <th>3</th>\n      <td>48012</td>\n      <td>91331</td>\n      <td>CA</td>\n      <td>0.0</td>\n      <td>0.0</td>\n      <td>499.93</td>\n      <td>1595.25</td>\n      <td>49.99</td>\n      <td>669.89</td>\n      <td>0.0</td>\n      <td>...</td>\n      <td>0.00</td>\n      <td>7014.86</td>\n      <td>15</td>\n      <td>42</td>\n      <td>7014.86</td>\n      <td>5</td>\n      <td>5</td>\n      <td>5</td>\n      <td>555</td>\n      <td>champions</td>\n    </tr>\n    <tr>\n      <th>4</th>\n      <td>49012</td>\n      <td>52070</td>\n      <td>IA</td>\n      <td>0.0</td>\n      <td>0.0</td>\n      <td>0.00</td>\n      <td>0.00</td>\n      <td>0.00</td>\n      <td>655.94</td>\n      <td>0.0</td>\n      <td>...</td>\n      <td>1496.84</td>\n      <td>1023.62</td>\n      <td>43</td>\n      <td>14</td>\n      <td>2460.47</td>\n      <td>5</td>\n      <td>5</td>\n      <td>5</td>\n      <td>555</td>\n      <td>champions</td>\n    </tr>\n    <tr>\n      <th>...</th>\n      <td>...</td>\n      <td>...</td>\n      <td>...</td>\n      <td>...</td>\n      <td>...</td>\n      <td>...</td>\n      <td>...</td>\n      <td>...</td>\n      <td>...</td>\n      <td>...</td>\n      <td>...</td>\n      <td>...</td>\n      <td>...</td>\n      <td>...</td>\n      <td>...</td>\n      <td>...</td>\n      <td>...</td>\n      <td>...</td>\n      <td>...</td>\n      <td>...</td>\n      <td>...</td>\n    </tr>\n    <tr>\n      <th>141456</th>\n      <td>375213012</td>\n      <td>68701</td>\n      <td>NE</td>\n      <td>0.0</td>\n      <td>0.0</td>\n      <td>0.00</td>\n      <td>0.00</td>\n      <td>0.00</td>\n      <td>0.00</td>\n      <td>0.0</td>\n      <td>...</td>\n      <td>25.00</td>\n      <td>0.00</td>\n      <td>1</td>\n      <td>1</td>\n      <td>25.00</td>\n      <td>5</td>\n      <td>1</td>\n      <td>2</td>\n      <td>512</td>\n      <td>new customers</td>\n    </tr>\n    <tr>\n      <th>141457</th>\n      <td>375214012</td>\n      <td>70094</td>\n      <td>LA</td>\n      <td>0.0</td>\n      <td>0.0</td>\n      <td>0.00</td>\n      <td>60.00</td>\n      <td>0.00</td>\n      <td>0.00</td>\n      <td>0.0</td>\n      <td>...</td>\n      <td>0.00</td>\n      <td>60.00</td>\n      <td>1</td>\n      <td>1</td>\n      <td>60.00</td>\n      <td>5</td>\n      <td>1</td>\n      <td>3</td>\n      <td>513</td>\n      <td>new customers</td>\n    </tr>\n    <tr>\n      <th>141458</th>\n      <td>375215012</td>\n      <td>77990</td>\n      <td>TX</td>\n      <td>0.0</td>\n      <td>0.0</td>\n      <td>0.00</td>\n      <td>0.00</td>\n      <td>0.00</td>\n      <td>0.00</td>\n      <td>0.0</td>\n      <td>...</td>\n      <td>0.00</td>\n      <td>16.99</td>\n      <td>1</td>\n      <td>1</td>\n      <td>16.99</td>\n      <td>5</td>\n      <td>1</td>\n      <td>1</td>\n      <td>511</td>\n      <td>new customers</td>\n    </tr>\n    <tr>\n      <th>141459</th>\n      <td>375216012</td>\n      <td>42437</td>\n      <td>KY</td>\n      <td>0.0</td>\n      <td>0.0</td>\n      <td>0.00</td>\n      <td>0.00</td>\n      <td>0.00</td>\n      <td>0.00</td>\n      <td>0.0</td>\n      <td>...</td>\n      <td>24.94</td>\n      <td>0.00</td>\n      <td>1</td>\n      <td>1</td>\n      <td>24.94</td>\n      <td>5</td>\n      <td>1</td>\n      <td>2</td>\n      <td>512</td>\n      <td>new customers</td>\n    </tr>\n    <tr>\n      <th>141460</th>\n      <td>375217012</td>\n      <td>36116</td>\n      <td>AL</td>\n      <td>0.0</td>\n      <td>0.0</td>\n      <td>0.00</td>\n      <td>9.99</td>\n      <td>0.00</td>\n      <td>0.00</td>\n      <td>0.0</td>\n      <td>...</td>\n      <td>9.99</td>\n      <td>0.00</td>\n      <td>1</td>\n      <td>1</td>\n      <td>9.99</td>\n      <td>5</td>\n      <td>1</td>\n      <td>1</td>\n      <td>511</td>\n      <td>new customers</td>\n    </tr>\n  </tbody>\n</table>\n<p>141461 rows × 30 columns</p>\n</div>"
     },
     "execution_count": 52,
     "metadata": {},
     "output_type": "execute_result"
    }
   ],
   "source": [
    "df_customer_data  = pd.merge(df_customer_data, df_customer_rfm, left_on='CustomerID', right_on='CustomerID')\n",
    "df_customer_data"
   ],
   "metadata": {
    "collapsed": false
   }
  },
  {
   "cell_type": "markdown",
   "source": [
    "## Write out Merge Customer Data File\n",
    "> Need to merge additional demographics for this file. This file contains a single row with roll-up data into columns per customer"
   ],
   "metadata": {
    "collapsed": false
   }
  },
  {
   "cell_type": "code",
   "execution_count": 53,
   "outputs": [],
   "source": [
    "df_customer_data.to_csv('data/Customer_data_merged.csv',index=False)"
   ],
   "metadata": {
    "collapsed": false
   }
  },
  {
   "cell_type": "code",
   "execution_count": null,
   "outputs": [],
   "source": [],
   "metadata": {
    "collapsed": false
   }
  },
  {
   "cell_type": "code",
   "execution_count": null,
   "outputs": [],
   "source": [],
   "metadata": {
    "collapsed": false
   }
  }
 ],
 "metadata": {
  "kernelspec": {
   "display_name": "Python 3",
   "language": "python",
   "name": "python3"
  },
  "language_info": {
   "codemirror_mode": {
    "name": "ipython",
    "version": 2
   },
   "file_extension": ".py",
   "mimetype": "text/x-python",
   "name": "python",
   "nbconvert_exporter": "python",
   "pygments_lexer": "ipython2",
   "version": "2.7.6"
  }
 },
 "nbformat": 4,
 "nbformat_minor": 0
}
