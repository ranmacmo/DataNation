{
 "cells": [
  {
   "cell_type": "code",
   "execution_count": 26,
   "metadata": {
    "collapsed": true
   },
   "outputs": [],
   "source": [
    "import pandas as pd\n",
    "from datetime import timedelta\n",
    "import numpy as np"
   ]
  },
  {
   "cell_type": "markdown",
   "source": [
    "# Read datasets in\n",
    "> Ensure that zipcdes are read as strings and not numeric"
   ],
   "metadata": {
    "collapsed": false
   }
  },
  {
   "cell_type": "code",
   "execution_count": 27,
   "outputs": [
    {
     "data": {
      "text/plain": "        CustomerID BillPostalCode BillStateProvCode BillCountryCode      LOB  \\\n0            10012          49649                MI              US  Salvage   \n1            10012          49649                MI              US  Salvage   \n2            10012          49649                MI              US  Salvage   \n3            10012          49649                MI              US  Salvage   \n4            24012          68713                NE              US  Salvage   \n...            ...            ...               ...             ...      ...   \n237096   374531012          70578                LA              US  Salvage   \n237097   374532012          54758                WI              US  Salvage   \n237098   374533012          77868                TX              US  Salvage   \n237099   374534012          47933                IN              US  Salvage   \n237100   374535012          61275                IL              US  Salvage   \n\n         Market  ChannelOrderID   OrderDate  Quantity  UnitPrice   Total  \\\n0          eBay         4468548  2021-04-29         1      25.00   25.00   \n1          eBay         4468548  2021-04-29         1      45.00   45.00   \n2          eBay         4468639  2021-04-29         1      31.99   31.99   \n3          eBay         4471261  2021-04-30         1      19.99   19.99   \n4       Website         4758999  2021-09-07         1      69.99   69.99   \n...         ...             ...         ...       ...        ...     ...   \n237096  Website         5616208  2023-01-20         1      19.95   19.95   \n237097  Website         5616192  2023-01-20         1      35.92   35.92   \n237098  Website         5616193  2023-01-20         1     807.45  807.45   \n237099     eBay         5616154  2023-01-20         1      54.98   54.98   \n237100     eBay         5615816  2023-01-20         1     219.99  219.99   \n\n                    SKU                                              Title  \\\n0                883562  Can-Am Commander 1000 XT 14 Fender Left Front ...   \n1                983570  Can-Am Commander 800R XT 12 Fender Right Front...   \n2               1219950  Can-Am Commander 1000 XT 14 Fender Flare Left ...   \n3               1054150  Can-Am Commander 1000 XT 11 Lateral Panel Righ...   \n4               1302547  Polaris Sportsman 90 02 Footrest Left 0450616 ...   \n...                 ...                                                ...   \n237096          1651845  Honda Rubicon 500 FPA 13 A Arm Left Front Uppe...   \n237097          1594302  Arctic Cat Prowler 700 HDX 12 Hub Front Left o...   \n237098          1541219  Can-Am Outlander 500 DPS 13 Transmission 42068...   \n237099  PSN-5439014-070  Polaris Ranger 1000 900 570 Diesel  Upper Dash...   \n237100          1307841       Polaris ATP 500 05 Box Bed 5435072-070 30801   \n\n             Brand  \n0           Can-Am  \n1           Can-Am  \n2           Can-Am  \n3           Can-Am  \n4          Polaris  \n...            ...  \n237096       Honda  \n237097  Arctic Cat  \n237098      Can-Am  \n237099     Polaris  \n237100     Polaris  \n\n[237101 rows x 14 columns]",
      "text/html": "<div>\n<style scoped>\n    .dataframe tbody tr th:only-of-type {\n        vertical-align: middle;\n    }\n\n    .dataframe tbody tr th {\n        vertical-align: top;\n    }\n\n    .dataframe thead th {\n        text-align: right;\n    }\n</style>\n<table border=\"1\" class=\"dataframe\">\n  <thead>\n    <tr style=\"text-align: right;\">\n      <th></th>\n      <th>CustomerID</th>\n      <th>BillPostalCode</th>\n      <th>BillStateProvCode</th>\n      <th>BillCountryCode</th>\n      <th>LOB</th>\n      <th>Market</th>\n      <th>ChannelOrderID</th>\n      <th>OrderDate</th>\n      <th>Quantity</th>\n      <th>UnitPrice</th>\n      <th>Total</th>\n      <th>SKU</th>\n      <th>Title</th>\n      <th>Brand</th>\n    </tr>\n  </thead>\n  <tbody>\n    <tr>\n      <th>0</th>\n      <td>10012</td>\n      <td>49649</td>\n      <td>MI</td>\n      <td>US</td>\n      <td>Salvage</td>\n      <td>eBay</td>\n      <td>4468548</td>\n      <td>2021-04-29</td>\n      <td>1</td>\n      <td>25.00</td>\n      <td>25.00</td>\n      <td>883562</td>\n      <td>Can-Am Commander 1000 XT 14 Fender Left Front ...</td>\n      <td>Can-Am</td>\n    </tr>\n    <tr>\n      <th>1</th>\n      <td>10012</td>\n      <td>49649</td>\n      <td>MI</td>\n      <td>US</td>\n      <td>Salvage</td>\n      <td>eBay</td>\n      <td>4468548</td>\n      <td>2021-04-29</td>\n      <td>1</td>\n      <td>45.00</td>\n      <td>45.00</td>\n      <td>983570</td>\n      <td>Can-Am Commander 800R XT 12 Fender Right Front...</td>\n      <td>Can-Am</td>\n    </tr>\n    <tr>\n      <th>2</th>\n      <td>10012</td>\n      <td>49649</td>\n      <td>MI</td>\n      <td>US</td>\n      <td>Salvage</td>\n      <td>eBay</td>\n      <td>4468639</td>\n      <td>2021-04-29</td>\n      <td>1</td>\n      <td>31.99</td>\n      <td>31.99</td>\n      <td>1219950</td>\n      <td>Can-Am Commander 1000 XT 14 Fender Flare Left ...</td>\n      <td>Can-Am</td>\n    </tr>\n    <tr>\n      <th>3</th>\n      <td>10012</td>\n      <td>49649</td>\n      <td>MI</td>\n      <td>US</td>\n      <td>Salvage</td>\n      <td>eBay</td>\n      <td>4471261</td>\n      <td>2021-04-30</td>\n      <td>1</td>\n      <td>19.99</td>\n      <td>19.99</td>\n      <td>1054150</td>\n      <td>Can-Am Commander 1000 XT 11 Lateral Panel Righ...</td>\n      <td>Can-Am</td>\n    </tr>\n    <tr>\n      <th>4</th>\n      <td>24012</td>\n      <td>68713</td>\n      <td>NE</td>\n      <td>US</td>\n      <td>Salvage</td>\n      <td>Website</td>\n      <td>4758999</td>\n      <td>2021-09-07</td>\n      <td>1</td>\n      <td>69.99</td>\n      <td>69.99</td>\n      <td>1302547</td>\n      <td>Polaris Sportsman 90 02 Footrest Left 0450616 ...</td>\n      <td>Polaris</td>\n    </tr>\n    <tr>\n      <th>...</th>\n      <td>...</td>\n      <td>...</td>\n      <td>...</td>\n      <td>...</td>\n      <td>...</td>\n      <td>...</td>\n      <td>...</td>\n      <td>...</td>\n      <td>...</td>\n      <td>...</td>\n      <td>...</td>\n      <td>...</td>\n      <td>...</td>\n      <td>...</td>\n    </tr>\n    <tr>\n      <th>237096</th>\n      <td>374531012</td>\n      <td>70578</td>\n      <td>LA</td>\n      <td>US</td>\n      <td>Salvage</td>\n      <td>Website</td>\n      <td>5616208</td>\n      <td>2023-01-20</td>\n      <td>1</td>\n      <td>19.95</td>\n      <td>19.95</td>\n      <td>1651845</td>\n      <td>Honda Rubicon 500 FPA 13 A Arm Left Front Uppe...</td>\n      <td>Honda</td>\n    </tr>\n    <tr>\n      <th>237097</th>\n      <td>374532012</td>\n      <td>54758</td>\n      <td>WI</td>\n      <td>US</td>\n      <td>Salvage</td>\n      <td>Website</td>\n      <td>5616192</td>\n      <td>2023-01-20</td>\n      <td>1</td>\n      <td>35.92</td>\n      <td>35.92</td>\n      <td>1594302</td>\n      <td>Arctic Cat Prowler 700 HDX 12 Hub Front Left o...</td>\n      <td>Arctic Cat</td>\n    </tr>\n    <tr>\n      <th>237098</th>\n      <td>374533012</td>\n      <td>77868</td>\n      <td>TX</td>\n      <td>US</td>\n      <td>Salvage</td>\n      <td>Website</td>\n      <td>5616193</td>\n      <td>2023-01-20</td>\n      <td>1</td>\n      <td>807.45</td>\n      <td>807.45</td>\n      <td>1541219</td>\n      <td>Can-Am Outlander 500 DPS 13 Transmission 42068...</td>\n      <td>Can-Am</td>\n    </tr>\n    <tr>\n      <th>237099</th>\n      <td>374534012</td>\n      <td>47933</td>\n      <td>IN</td>\n      <td>US</td>\n      <td>Salvage</td>\n      <td>eBay</td>\n      <td>5616154</td>\n      <td>2023-01-20</td>\n      <td>1</td>\n      <td>54.98</td>\n      <td>54.98</td>\n      <td>PSN-5439014-070</td>\n      <td>Polaris Ranger 1000 900 570 Diesel  Upper Dash...</td>\n      <td>Polaris</td>\n    </tr>\n    <tr>\n      <th>237100</th>\n      <td>374535012</td>\n      <td>61275</td>\n      <td>IL</td>\n      <td>US</td>\n      <td>Salvage</td>\n      <td>eBay</td>\n      <td>5615816</td>\n      <td>2023-01-20</td>\n      <td>1</td>\n      <td>219.99</td>\n      <td>219.99</td>\n      <td>1307841</td>\n      <td>Polaris ATP 500 05 Box Bed 5435072-070 30801</td>\n      <td>Polaris</td>\n    </tr>\n  </tbody>\n</table>\n<p>237101 rows × 14 columns</p>\n</div>"
     },
     "execution_count": 27,
     "metadata": {},
     "output_type": "execute_result"
    }
   ],
   "source": [
    "# Load the customer dataset\n",
    "file_path = \"data/Customer_sales.csv\"\n",
    "df_customer_sales = pd.read_csv(file_path,dtype={\"BillPostalCode\":\"string\"} )\n",
    "df_customer_sales"
   ],
   "metadata": {
    "collapsed": false
   }
  },
  {
   "cell_type": "code",
   "execution_count": 28,
   "outputs": [
    {
     "data": {
      "text/plain": "        ChannelOrderID   OrderDate  CustomerID   Total\n0              4196075  2020-12-31   240414012   39.99\n1              4196093  2020-12-31   240413012  250.00\n2              4196116  2020-12-31   240411012   19.99\n3              4196117  2020-12-31   229366012   49.98\n4              4196129  2020-12-31   240475012  129.99\n...                ...         ...         ...     ...\n204292         5616290  2023-01-20   374524012   49.99\n204293         5616291  2023-01-20   374522012  187.24\n204294         5616300  2023-01-20   374521012   38.99\n204295         5616301  2023-01-20   374520012   18.99\n204296         5616302  2023-01-20   226326012  198.99\n\n[204297 rows x 4 columns]",
      "text/html": "<div>\n<style scoped>\n    .dataframe tbody tr th:only-of-type {\n        vertical-align: middle;\n    }\n\n    .dataframe tbody tr th {\n        vertical-align: top;\n    }\n\n    .dataframe thead th {\n        text-align: right;\n    }\n</style>\n<table border=\"1\" class=\"dataframe\">\n  <thead>\n    <tr style=\"text-align: right;\">\n      <th></th>\n      <th>ChannelOrderID</th>\n      <th>OrderDate</th>\n      <th>CustomerID</th>\n      <th>Total</th>\n    </tr>\n  </thead>\n  <tbody>\n    <tr>\n      <th>0</th>\n      <td>4196075</td>\n      <td>2020-12-31</td>\n      <td>240414012</td>\n      <td>39.99</td>\n    </tr>\n    <tr>\n      <th>1</th>\n      <td>4196093</td>\n      <td>2020-12-31</td>\n      <td>240413012</td>\n      <td>250.00</td>\n    </tr>\n    <tr>\n      <th>2</th>\n      <td>4196116</td>\n      <td>2020-12-31</td>\n      <td>240411012</td>\n      <td>19.99</td>\n    </tr>\n    <tr>\n      <th>3</th>\n      <td>4196117</td>\n      <td>2020-12-31</td>\n      <td>229366012</td>\n      <td>49.98</td>\n    </tr>\n    <tr>\n      <th>4</th>\n      <td>4196129</td>\n      <td>2020-12-31</td>\n      <td>240475012</td>\n      <td>129.99</td>\n    </tr>\n    <tr>\n      <th>...</th>\n      <td>...</td>\n      <td>...</td>\n      <td>...</td>\n      <td>...</td>\n    </tr>\n    <tr>\n      <th>204292</th>\n      <td>5616290</td>\n      <td>2023-01-20</td>\n      <td>374524012</td>\n      <td>49.99</td>\n    </tr>\n    <tr>\n      <th>204293</th>\n      <td>5616291</td>\n      <td>2023-01-20</td>\n      <td>374522012</td>\n      <td>187.24</td>\n    </tr>\n    <tr>\n      <th>204294</th>\n      <td>5616300</td>\n      <td>2023-01-20</td>\n      <td>374521012</td>\n      <td>38.99</td>\n    </tr>\n    <tr>\n      <th>204295</th>\n      <td>5616301</td>\n      <td>2023-01-20</td>\n      <td>374520012</td>\n      <td>18.99</td>\n    </tr>\n    <tr>\n      <th>204296</th>\n      <td>5616302</td>\n      <td>2023-01-20</td>\n      <td>226326012</td>\n      <td>198.99</td>\n    </tr>\n  </tbody>\n</table>\n<p>204297 rows × 4 columns</p>\n</div>"
     },
     "execution_count": 28,
     "metadata": {},
     "output_type": "execute_result"
    }
   ],
   "source": [
    "# Group by order and customer - total sales\n",
    "Orders_df = df_customer_sales.groupby(['ChannelOrderID','OrderDate','CustomerID']).agg({'Total': lambda x:x.sum()}).reset_index()\n",
    "Orders_df"
   ],
   "metadata": {
    "collapsed": false
   }
  },
  {
   "cell_type": "code",
   "execution_count": 29,
   "outputs": [],
   "source": [
    "# Convert orderdate to datetime type so calculations can be done\n",
    "Orders_df['OrderDate'] = Orders_df['OrderDate'].astype('datetime64[ns]')"
   ],
   "metadata": {
    "collapsed": false
   }
  },
  {
   "cell_type": "code",
   "execution_count": 30,
   "outputs": [
    {
     "data": {
      "text/plain": "ChannelOrderID             int64\nOrderDate         datetime64[ns]\nCustomerID                 int64\nTotal                    float64\ndtype: object"
     },
     "execution_count": 30,
     "metadata": {},
     "output_type": "execute_result"
    }
   ],
   "source": [
    "Orders_df.dtypes"
   ],
   "metadata": {
    "collapsed": false
   }
  },
  {
   "cell_type": "code",
   "execution_count": 31,
   "outputs": [
    {
     "data": {
      "text/plain": "Timestamp('2023-01-21 00:00:00')"
     },
     "execution_count": 31,
     "metadata": {},
     "output_type": "execute_result"
    }
   ],
   "source": [
    "# Set variables for NOW and and period\n",
    "NOW = Orders_df['OrderDate'].max() + timedelta(days=1)\n",
    "NOW"
   ],
   "metadata": {
    "collapsed": false
   }
  },
  {
   "cell_type": "code",
   "execution_count": 32,
   "outputs": [],
   "source": [
    "# Data is for a two year period\n",
    "period = 730"
   ],
   "metadata": {
    "collapsed": false
   }
  },
  {
   "cell_type": "code",
   "execution_count": 33,
   "outputs": [],
   "source": [
    "# Add column for Days since order to aid with calcuation\n",
    "Orders_df['DaysSinceOrder'] = Orders_df['OrderDate'].apply(lambda  x: (NOW -x).days)"
   ],
   "metadata": {
    "collapsed": false
   }
  },
  {
   "cell_type": "code",
   "execution_count": 34,
   "outputs": [
    {
     "data": {
      "text/plain": "        CustomerID  Recency  Frequency\n0            10012      631          3\n1            24012       45         11\n2            36012       43          7\n3            48012       10         42\n4            49012       38         14\n...            ...      ...        ...\n140781   374531012        1          1\n140782   374532012        1          1\n140783   374533012        1          1\n140784   374534012        1          1\n140785   374535012        1          1\n\n[140786 rows x 3 columns]",
      "text/html": "<div>\n<style scoped>\n    .dataframe tbody tr th:only-of-type {\n        vertical-align: middle;\n    }\n\n    .dataframe tbody tr th {\n        vertical-align: top;\n    }\n\n    .dataframe thead th {\n        text-align: right;\n    }\n</style>\n<table border=\"1\" class=\"dataframe\">\n  <thead>\n    <tr style=\"text-align: right;\">\n      <th></th>\n      <th>CustomerID</th>\n      <th>Recency</th>\n      <th>Frequency</th>\n    </tr>\n  </thead>\n  <tbody>\n    <tr>\n      <th>0</th>\n      <td>10012</td>\n      <td>631</td>\n      <td>3</td>\n    </tr>\n    <tr>\n      <th>1</th>\n      <td>24012</td>\n      <td>45</td>\n      <td>11</td>\n    </tr>\n    <tr>\n      <th>2</th>\n      <td>36012</td>\n      <td>43</td>\n      <td>7</td>\n    </tr>\n    <tr>\n      <th>3</th>\n      <td>48012</td>\n      <td>10</td>\n      <td>42</td>\n    </tr>\n    <tr>\n      <th>4</th>\n      <td>49012</td>\n      <td>38</td>\n      <td>14</td>\n    </tr>\n    <tr>\n      <th>...</th>\n      <td>...</td>\n      <td>...</td>\n      <td>...</td>\n    </tr>\n    <tr>\n      <th>140781</th>\n      <td>374531012</td>\n      <td>1</td>\n      <td>1</td>\n    </tr>\n    <tr>\n      <th>140782</th>\n      <td>374532012</td>\n      <td>1</td>\n      <td>1</td>\n    </tr>\n    <tr>\n      <th>140783</th>\n      <td>374533012</td>\n      <td>1</td>\n      <td>1</td>\n    </tr>\n    <tr>\n      <th>140784</th>\n      <td>374534012</td>\n      <td>1</td>\n      <td>1</td>\n    </tr>\n    <tr>\n      <th>140785</th>\n      <td>374535012</td>\n      <td>1</td>\n      <td>1</td>\n    </tr>\n  </tbody>\n</table>\n<p>140786 rows × 3 columns</p>\n</div>"
     },
     "execution_count": 34,
     "metadata": {},
     "output_type": "execute_result"
    }
   ],
   "source": [
    "aggr = {\n",
    "    'DaysSinceOrder' : lambda x : x.min(),\n",
    "    'OrderDate' : lambda x: len([d for d in x if d>=NOW - timedelta(days=period)])\n",
    "}\n",
    "\n",
    "rfm_df = Orders_df.groupby('CustomerID').agg(aggr).reset_index()\n",
    "rfm_df.rename(columns={'DaysSinceOrder' : 'Recency', 'OrderDate' : 'Frequency'}, inplace=True)\n",
    "rfm_df"
   ],
   "metadata": {
    "collapsed": false
   }
  },
  {
   "cell_type": "code",
   "execution_count": 35,
   "outputs": [
    {
     "data": {
      "text/plain": "        CustomerID  Recency  Frequency  Monetary\n0            10012      631          3    121.98\n1            24012       45         11   1152.57\n2            36012       43          7    268.83\n3            48012       10         42   7014.86\n4            49012       38         14   2460.47\n...            ...      ...        ...       ...\n140781   374531012        1          1     43.94\n140782   374532012        1          1     35.92\n140783   374533012        1          1    807.45\n140784   374534012        1          1     54.98\n140785   374535012        1          1    219.99\n\n[140786 rows x 4 columns]",
      "text/html": "<div>\n<style scoped>\n    .dataframe tbody tr th:only-of-type {\n        vertical-align: middle;\n    }\n\n    .dataframe tbody tr th {\n        vertical-align: top;\n    }\n\n    .dataframe thead th {\n        text-align: right;\n    }\n</style>\n<table border=\"1\" class=\"dataframe\">\n  <thead>\n    <tr style=\"text-align: right;\">\n      <th></th>\n      <th>CustomerID</th>\n      <th>Recency</th>\n      <th>Frequency</th>\n      <th>Monetary</th>\n    </tr>\n  </thead>\n  <tbody>\n    <tr>\n      <th>0</th>\n      <td>10012</td>\n      <td>631</td>\n      <td>3</td>\n      <td>121.98</td>\n    </tr>\n    <tr>\n      <th>1</th>\n      <td>24012</td>\n      <td>45</td>\n      <td>11</td>\n      <td>1152.57</td>\n    </tr>\n    <tr>\n      <th>2</th>\n      <td>36012</td>\n      <td>43</td>\n      <td>7</td>\n      <td>268.83</td>\n    </tr>\n    <tr>\n      <th>3</th>\n      <td>48012</td>\n      <td>10</td>\n      <td>42</td>\n      <td>7014.86</td>\n    </tr>\n    <tr>\n      <th>4</th>\n      <td>49012</td>\n      <td>38</td>\n      <td>14</td>\n      <td>2460.47</td>\n    </tr>\n    <tr>\n      <th>...</th>\n      <td>...</td>\n      <td>...</td>\n      <td>...</td>\n      <td>...</td>\n    </tr>\n    <tr>\n      <th>140781</th>\n      <td>374531012</td>\n      <td>1</td>\n      <td>1</td>\n      <td>43.94</td>\n    </tr>\n    <tr>\n      <th>140782</th>\n      <td>374532012</td>\n      <td>1</td>\n      <td>1</td>\n      <td>35.92</td>\n    </tr>\n    <tr>\n      <th>140783</th>\n      <td>374533012</td>\n      <td>1</td>\n      <td>1</td>\n      <td>807.45</td>\n    </tr>\n    <tr>\n      <th>140784</th>\n      <td>374534012</td>\n      <td>1</td>\n      <td>1</td>\n      <td>54.98</td>\n    </tr>\n    <tr>\n      <th>140785</th>\n      <td>374535012</td>\n      <td>1</td>\n      <td>1</td>\n      <td>219.99</td>\n    </tr>\n  </tbody>\n</table>\n<p>140786 rows × 4 columns</p>\n</div>"
     },
     "execution_count": 35,
     "metadata": {},
     "output_type": "execute_result"
    }
   ],
   "source": [
    "# rfm_df['Monetary'] = rfm_df['CustomerID'].apply(lambda x: Orders_df[('CustomerID'] == x) & Orders_df\n",
    "# ['OrderDate'] >= NOW - timedelta(days=period)['Total'].sum())\n",
    "\n",
    "\n",
    "\n",
    "\n",
    "rfm_df['Monetary'] = rfm_df['CustomerID'].apply(lambda x: Orders_df[(Orders_df['CustomerID'] == x) &\n",
    "                                                           (Orders_df['OrderDate'] >= NOW - timedelta(days=period))]\n",
    "                                                           ['Total'].sum())\n",
    "\n",
    "rfm_df"
   ],
   "metadata": {
    "collapsed": false
   }
  },
  {
   "cell_type": "code",
   "execution_count": 36,
   "outputs": [
    {
     "data": {
      "text/plain": "{'Recency': {0.2: 141.0, 0.4: 282.0, 0.6: 445.0, 0.8: 594.0},\n 'Frequency': {0.2: 1.0, 0.4: 1.0, 0.6: 1.0, 0.8: 1.0},\n 'Monetary': {0.2: 18.99, 0.4: 37.98, 0.6: 72.99, 0.8: 174.97}}"
     },
     "execution_count": 36,
     "metadata": {},
     "output_type": "execute_result"
    }
   ],
   "source": [
    "quintiles = rfm_df[['Recency', 'Frequency', 'Monetary']].quantile([.2, .4, .6, .8]).to_dict()\n",
    "quintiles"
   ],
   "metadata": {
    "collapsed": false
   }
  },
  {
   "cell_type": "code",
   "execution_count": 37,
   "outputs": [],
   "source": [
    "def r_score(x):\n",
    "    if x <= quintiles['Recency'][.2]:\n",
    "        return 5\n",
    "    elif x <= quintiles['Recency'][.4]:\n",
    "        return 4\n",
    "    elif x <= quintiles['Recency'][.6]:\n",
    "        return 3\n",
    "    elif x <= quintiles['Recency'][.8]:\n",
    "        return 2\n",
    "    else:\n",
    "        return 1\n",
    "\n",
    "def fm_score(x, c):\n",
    "    if x <= quintiles[c][.2]:\n",
    "        return 1\n",
    "    elif x <= quintiles[c][.4]:\n",
    "        return 2\n",
    "    elif x <= quintiles[c][.6]:\n",
    "        return 3\n",
    "    elif x <= quintiles[c][.8]:\n",
    "        return 4\n",
    "    else:\n",
    "        return 5"
   ],
   "metadata": {
    "collapsed": false
   }
  },
  {
   "cell_type": "code",
   "execution_count": 38,
   "outputs": [
    {
     "data": {
      "text/plain": "        CustomerID  Recency  Frequency  Monetary  R  F  M\n0            10012      631          3    121.98  1  5  4\n1            24012       45         11   1152.57  5  5  5\n2            36012       43          7    268.83  5  5  5\n3            48012       10         42   7014.86  5  5  5\n4            49012       38         14   2460.47  5  5  5\n...            ...      ...        ...       ... .. .. ..\n140781   374531012        1          1     43.94  5  1  3\n140782   374532012        1          1     35.92  5  1  2\n140783   374533012        1          1    807.45  5  1  5\n140784   374534012        1          1     54.98  5  1  3\n140785   374535012        1          1    219.99  5  1  5\n\n[140786 rows x 7 columns]",
      "text/html": "<div>\n<style scoped>\n    .dataframe tbody tr th:only-of-type {\n        vertical-align: middle;\n    }\n\n    .dataframe tbody tr th {\n        vertical-align: top;\n    }\n\n    .dataframe thead th {\n        text-align: right;\n    }\n</style>\n<table border=\"1\" class=\"dataframe\">\n  <thead>\n    <tr style=\"text-align: right;\">\n      <th></th>\n      <th>CustomerID</th>\n      <th>Recency</th>\n      <th>Frequency</th>\n      <th>Monetary</th>\n      <th>R</th>\n      <th>F</th>\n      <th>M</th>\n    </tr>\n  </thead>\n  <tbody>\n    <tr>\n      <th>0</th>\n      <td>10012</td>\n      <td>631</td>\n      <td>3</td>\n      <td>121.98</td>\n      <td>1</td>\n      <td>5</td>\n      <td>4</td>\n    </tr>\n    <tr>\n      <th>1</th>\n      <td>24012</td>\n      <td>45</td>\n      <td>11</td>\n      <td>1152.57</td>\n      <td>5</td>\n      <td>5</td>\n      <td>5</td>\n    </tr>\n    <tr>\n      <th>2</th>\n      <td>36012</td>\n      <td>43</td>\n      <td>7</td>\n      <td>268.83</td>\n      <td>5</td>\n      <td>5</td>\n      <td>5</td>\n    </tr>\n    <tr>\n      <th>3</th>\n      <td>48012</td>\n      <td>10</td>\n      <td>42</td>\n      <td>7014.86</td>\n      <td>5</td>\n      <td>5</td>\n      <td>5</td>\n    </tr>\n    <tr>\n      <th>4</th>\n      <td>49012</td>\n      <td>38</td>\n      <td>14</td>\n      <td>2460.47</td>\n      <td>5</td>\n      <td>5</td>\n      <td>5</td>\n    </tr>\n    <tr>\n      <th>...</th>\n      <td>...</td>\n      <td>...</td>\n      <td>...</td>\n      <td>...</td>\n      <td>...</td>\n      <td>...</td>\n      <td>...</td>\n    </tr>\n    <tr>\n      <th>140781</th>\n      <td>374531012</td>\n      <td>1</td>\n      <td>1</td>\n      <td>43.94</td>\n      <td>5</td>\n      <td>1</td>\n      <td>3</td>\n    </tr>\n    <tr>\n      <th>140782</th>\n      <td>374532012</td>\n      <td>1</td>\n      <td>1</td>\n      <td>35.92</td>\n      <td>5</td>\n      <td>1</td>\n      <td>2</td>\n    </tr>\n    <tr>\n      <th>140783</th>\n      <td>374533012</td>\n      <td>1</td>\n      <td>1</td>\n      <td>807.45</td>\n      <td>5</td>\n      <td>1</td>\n      <td>5</td>\n    </tr>\n    <tr>\n      <th>140784</th>\n      <td>374534012</td>\n      <td>1</td>\n      <td>1</td>\n      <td>54.98</td>\n      <td>5</td>\n      <td>1</td>\n      <td>3</td>\n    </tr>\n    <tr>\n      <th>140785</th>\n      <td>374535012</td>\n      <td>1</td>\n      <td>1</td>\n      <td>219.99</td>\n      <td>5</td>\n      <td>1</td>\n      <td>5</td>\n    </tr>\n  </tbody>\n</table>\n<p>140786 rows × 7 columns</p>\n</div>"
     },
     "execution_count": 38,
     "metadata": {},
     "output_type": "execute_result"
    }
   ],
   "source": [
    "rfm_df['R'] = rfm_df['Recency'].apply(lambda x: r_score(x))\n",
    "rfm_df['F'] = rfm_df['Frequency'].apply(lambda x: fm_score(x, 'Frequency'))\n",
    "rfm_df['M'] = rfm_df['Monetary'].apply(lambda x: fm_score(x, 'Monetary'))\n",
    "\n",
    "rfm_df"
   ],
   "metadata": {
    "collapsed": false
   }
  },
  {
   "cell_type": "code",
   "execution_count": 39,
   "outputs": [
    {
     "data": {
      "text/plain": "   CustomerID  Recency  Frequency  Monetary  R  F  M RFM Score\n0       10012      631          3    121.98  1  5  4       154\n1       24012       45         11   1152.57  5  5  5       555\n2       36012       43          7    268.83  5  5  5       555\n3       48012       10         42   7014.86  5  5  5       555\n4       49012       38         14   2460.47  5  5  5       555",
      "text/html": "<div>\n<style scoped>\n    .dataframe tbody tr th:only-of-type {\n        vertical-align: middle;\n    }\n\n    .dataframe tbody tr th {\n        vertical-align: top;\n    }\n\n    .dataframe thead th {\n        text-align: right;\n    }\n</style>\n<table border=\"1\" class=\"dataframe\">\n  <thead>\n    <tr style=\"text-align: right;\">\n      <th></th>\n      <th>CustomerID</th>\n      <th>Recency</th>\n      <th>Frequency</th>\n      <th>Monetary</th>\n      <th>R</th>\n      <th>F</th>\n      <th>M</th>\n      <th>RFM Score</th>\n    </tr>\n  </thead>\n  <tbody>\n    <tr>\n      <th>0</th>\n      <td>10012</td>\n      <td>631</td>\n      <td>3</td>\n      <td>121.98</td>\n      <td>1</td>\n      <td>5</td>\n      <td>4</td>\n      <td>154</td>\n    </tr>\n    <tr>\n      <th>1</th>\n      <td>24012</td>\n      <td>45</td>\n      <td>11</td>\n      <td>1152.57</td>\n      <td>5</td>\n      <td>5</td>\n      <td>5</td>\n      <td>555</td>\n    </tr>\n    <tr>\n      <th>2</th>\n      <td>36012</td>\n      <td>43</td>\n      <td>7</td>\n      <td>268.83</td>\n      <td>5</td>\n      <td>5</td>\n      <td>5</td>\n      <td>555</td>\n    </tr>\n    <tr>\n      <th>3</th>\n      <td>48012</td>\n      <td>10</td>\n      <td>42</td>\n      <td>7014.86</td>\n      <td>5</td>\n      <td>5</td>\n      <td>5</td>\n      <td>555</td>\n    </tr>\n    <tr>\n      <th>4</th>\n      <td>49012</td>\n      <td>38</td>\n      <td>14</td>\n      <td>2460.47</td>\n      <td>5</td>\n      <td>5</td>\n      <td>5</td>\n      <td>555</td>\n    </tr>\n  </tbody>\n</table>\n</div>"
     },
     "execution_count": 39,
     "metadata": {},
     "output_type": "execute_result"
    }
   ],
   "source": [
    "rfm_df['RFM Score'] = rfm_df['R'].map(str) + rfm_df['F'].map(str) + rfm_df['M'].map(str)\n",
    "rfm_df.head()"
   ],
   "metadata": {
    "collapsed": false
   }
  },
  {
   "cell_type": "code",
   "execution_count": 40,
   "outputs": [
    {
     "data": {
      "text/plain": "        CustomerID  Recency  Frequency  Monetary  R  F  M RFM Score  \\\n0            10012      631          3    121.98  1  5  4       154   \n1            24012       45         11   1152.57  5  5  5       555   \n2            36012       43          7    268.83  5  5  5       555   \n3            48012       10         42   7014.86  5  5  5       555   \n4            49012       38         14   2460.47  5  5  5       555   \n...            ...      ...        ...       ... .. .. ..       ...   \n140781   374531012        1          1     43.94  5  1  3       513   \n140782   374532012        1          1     35.92  5  1  2       512   \n140783   374533012        1          1    807.45  5  1  5       515   \n140784   374534012        1          1     54.98  5  1  3       513   \n140785   374535012        1          1    219.99  5  1  5       515   \n\n              Segment  \n0         can't loose  \n1           champions  \n2           champions  \n3           champions  \n4           champions  \n...               ...  \n140781  new customers  \n140782  new customers  \n140783  new customers  \n140784  new customers  \n140785  new customers  \n\n[140786 rows x 9 columns]",
      "text/html": "<div>\n<style scoped>\n    .dataframe tbody tr th:only-of-type {\n        vertical-align: middle;\n    }\n\n    .dataframe tbody tr th {\n        vertical-align: top;\n    }\n\n    .dataframe thead th {\n        text-align: right;\n    }\n</style>\n<table border=\"1\" class=\"dataframe\">\n  <thead>\n    <tr style=\"text-align: right;\">\n      <th></th>\n      <th>CustomerID</th>\n      <th>Recency</th>\n      <th>Frequency</th>\n      <th>Monetary</th>\n      <th>R</th>\n      <th>F</th>\n      <th>M</th>\n      <th>RFM Score</th>\n      <th>Segment</th>\n    </tr>\n  </thead>\n  <tbody>\n    <tr>\n      <th>0</th>\n      <td>10012</td>\n      <td>631</td>\n      <td>3</td>\n      <td>121.98</td>\n      <td>1</td>\n      <td>5</td>\n      <td>4</td>\n      <td>154</td>\n      <td>can't loose</td>\n    </tr>\n    <tr>\n      <th>1</th>\n      <td>24012</td>\n      <td>45</td>\n      <td>11</td>\n      <td>1152.57</td>\n      <td>5</td>\n      <td>5</td>\n      <td>5</td>\n      <td>555</td>\n      <td>champions</td>\n    </tr>\n    <tr>\n      <th>2</th>\n      <td>36012</td>\n      <td>43</td>\n      <td>7</td>\n      <td>268.83</td>\n      <td>5</td>\n      <td>5</td>\n      <td>5</td>\n      <td>555</td>\n      <td>champions</td>\n    </tr>\n    <tr>\n      <th>3</th>\n      <td>48012</td>\n      <td>10</td>\n      <td>42</td>\n      <td>7014.86</td>\n      <td>5</td>\n      <td>5</td>\n      <td>5</td>\n      <td>555</td>\n      <td>champions</td>\n    </tr>\n    <tr>\n      <th>4</th>\n      <td>49012</td>\n      <td>38</td>\n      <td>14</td>\n      <td>2460.47</td>\n      <td>5</td>\n      <td>5</td>\n      <td>5</td>\n      <td>555</td>\n      <td>champions</td>\n    </tr>\n    <tr>\n      <th>...</th>\n      <td>...</td>\n      <td>...</td>\n      <td>...</td>\n      <td>...</td>\n      <td>...</td>\n      <td>...</td>\n      <td>...</td>\n      <td>...</td>\n      <td>...</td>\n    </tr>\n    <tr>\n      <th>140781</th>\n      <td>374531012</td>\n      <td>1</td>\n      <td>1</td>\n      <td>43.94</td>\n      <td>5</td>\n      <td>1</td>\n      <td>3</td>\n      <td>513</td>\n      <td>new customers</td>\n    </tr>\n    <tr>\n      <th>140782</th>\n      <td>374532012</td>\n      <td>1</td>\n      <td>1</td>\n      <td>35.92</td>\n      <td>5</td>\n      <td>1</td>\n      <td>2</td>\n      <td>512</td>\n      <td>new customers</td>\n    </tr>\n    <tr>\n      <th>140783</th>\n      <td>374533012</td>\n      <td>1</td>\n      <td>1</td>\n      <td>807.45</td>\n      <td>5</td>\n      <td>1</td>\n      <td>5</td>\n      <td>515</td>\n      <td>new customers</td>\n    </tr>\n    <tr>\n      <th>140784</th>\n      <td>374534012</td>\n      <td>1</td>\n      <td>1</td>\n      <td>54.98</td>\n      <td>5</td>\n      <td>1</td>\n      <td>3</td>\n      <td>513</td>\n      <td>new customers</td>\n    </tr>\n    <tr>\n      <th>140785</th>\n      <td>374535012</td>\n      <td>1</td>\n      <td>1</td>\n      <td>219.99</td>\n      <td>5</td>\n      <td>1</td>\n      <td>5</td>\n      <td>515</td>\n      <td>new customers</td>\n    </tr>\n  </tbody>\n</table>\n<p>140786 rows × 9 columns</p>\n</div>"
     },
     "execution_count": 40,
     "metadata": {},
     "output_type": "execute_result"
    }
   ],
   "source": [
    "segt_map = {\n",
    "    r'[1-2][1-2]': 'hibernating',\n",
    "    r'[1-2][3-4]': 'at risk',\n",
    "    r'[1-2]5': 'can\\'t loose',\n",
    "    r'3[1-2]': 'about to sleep',\n",
    "    r'33': 'need attention',\n",
    "    r'[3-4][4-5]': 'loyal customers',\n",
    "    r'41': 'promising',\n",
    "    r'51': 'new customers',\n",
    "    r'[4-5][2-3]': 'potential loyalists',\n",
    "    r'5[4-5]': 'champions'\n",
    "}\n",
    "\n",
    "rfm_df['Segment'] = rfm_df['R'].map(str) + rfm_df['F'].map(str)\n",
    "rfm_df['Segment'] = rfm_df['Segment'].replace(segt_map, regex=True)\n",
    "rfm_df"
   ],
   "metadata": {
    "collapsed": false
   }
  },
  {
   "cell_type": "code",
   "execution_count": 41,
   "outputs": [],
   "source": [
    "rfm_df.to_csv('data/rfm_data.csv')"
   ],
   "metadata": {
    "collapsed": false
   }
  }
 ],
 "metadata": {
  "kernelspec": {
   "display_name": "Python 3",
   "language": "python",
   "name": "python3"
  },
  "language_info": {
   "codemirror_mode": {
    "name": "ipython",
    "version": 2
   },
   "file_extension": ".py",
   "mimetype": "text/x-python",
   "name": "python",
   "nbconvert_exporter": "python",
   "pygments_lexer": "ipython2",
   "version": "2.7.6"
  }
 },
 "nbformat": 4,
 "nbformat_minor": 0
}
