{
 "cells": [
  {
   "cell_type": "code",
   "execution_count": 1,
   "metadata": {},
   "outputs": [],
   "source": [
    "from sklearn.model_selection import train_test_split\n",
    "from sklearn.preprocessing import StandardScaler,OneHotEncoder\n",
    "import pandas as pd\n",
    "import numpy as np\n",
    "import matplotlib.pyplot as plt\n",
    "import io"
   ]
  },
  {
   "cell_type": "code",
   "execution_count": 2,
   "metadata": {
    "scrolled": true
   },
   "outputs": [
    {
     "data": {
      "text/plain": "     zip       lat       lng         city state_id   state_name  zcta  \\\n0  00601  18.18004 -66.75218     Adjuntas       PR  Puerto Rico  True   \n1  00602  18.36073 -67.17517       Aguada       PR  Puerto Rico  True   \n2  00603  18.45439 -67.12202    Aguadilla       PR  Puerto Rico  True   \n3  00606  18.16724 -66.93828      Maricao       PR  Puerto Rico  True   \n4  00610  18.29032 -67.12243       Anasco       PR  Puerto Rico  True   \n5  00612  18.40699 -66.70803      Arecibo       PR  Puerto Rico  True   \n6  00616  18.41753 -66.66814     Bajadero       PR  Puerto Rico  True   \n7  00617  18.44124 -66.55917  Barceloneta       PR  Puerto Rico  True   \n8  00622  17.99174 -67.15248     Boqueron       PR  Puerto Rico  True   \n9  00623  18.08355 -67.15417    Cabo Rojo       PR  Puerto Rico  True   \n\n   parent_zcta  population  density  county_fips  county_name  \\\n0          NaN       17242    111.4        72001     Adjuntas   \n1          NaN       38442    523.5        72003       Aguada   \n2          NaN       48814    667.9        72005    Aguadilla   \n3          NaN        6437     60.4        72093      Maricao   \n4          NaN       27073    312.0        72011       Añasco   \n5          NaN       60303    382.8        72013      Arecibo   \n6          NaN       10765    368.9        72013      Arecibo   \n7          NaN       23974    625.0        72017  Barceloneta   \n8          NaN        6578    104.6        72023    Cabo Rojo   \n9          NaN       42427    437.8        72023    Cabo Rojo   \n\n                              county_weights             county_names_all  \\\n0               {'72001':99.43,'72141':0.57}              Adjuntas|Utuado   \n1                              {'72003':100}                       Aguada   \n2                              {'72005':100}                    Aguadilla   \n3  {'72093':94.88,'72121':1.35,'72153':3.78}  Maricao|Yauco|Sabana Grande   \n4               {'72003':0.55,'72011':99.45}                Añasco|Aguada   \n5               {'72013':99.89,'72017':0.11}          Arecibo|Barceloneta   \n6                              {'72013':100}                      Arecibo   \n7               {'72017':99.43,'72054':0.57}          Barceloneta|Florida   \n8                              {'72023':100}                    Cabo Rojo   \n9                              {'72023':100}                    Cabo Rojo   \n\n     county_fips_all  imprecise  military             timezone  \n0        72001|72141      False     False  America/Puerto_Rico  \n1              72003      False     False  America/Puerto_Rico  \n2              72005      False     False  America/Puerto_Rico  \n3  72093|72153|72121      False     False  America/Puerto_Rico  \n4        72011|72003      False     False  America/Puerto_Rico  \n5        72013|72017      False     False  America/Puerto_Rico  \n6              72013      False     False  America/Puerto_Rico  \n7        72017|72054      False     False  America/Puerto_Rico  \n8              72023      False     False  America/Puerto_Rico  \n9              72023      False     False  America/Puerto_Rico  ",
      "text/html": "<div>\n<style scoped>\n    .dataframe tbody tr th:only-of-type {\n        vertical-align: middle;\n    }\n\n    .dataframe tbody tr th {\n        vertical-align: top;\n    }\n\n    .dataframe thead th {\n        text-align: right;\n    }\n</style>\n<table border=\"1\" class=\"dataframe\">\n  <thead>\n    <tr style=\"text-align: right;\">\n      <th></th>\n      <th>zip</th>\n      <th>lat</th>\n      <th>lng</th>\n      <th>city</th>\n      <th>state_id</th>\n      <th>state_name</th>\n      <th>zcta</th>\n      <th>parent_zcta</th>\n      <th>population</th>\n      <th>density</th>\n      <th>county_fips</th>\n      <th>county_name</th>\n      <th>county_weights</th>\n      <th>county_names_all</th>\n      <th>county_fips_all</th>\n      <th>imprecise</th>\n      <th>military</th>\n      <th>timezone</th>\n    </tr>\n  </thead>\n  <tbody>\n    <tr>\n      <th>0</th>\n      <td>00601</td>\n      <td>18.18004</td>\n      <td>-66.75218</td>\n      <td>Adjuntas</td>\n      <td>PR</td>\n      <td>Puerto Rico</td>\n      <td>True</td>\n      <td>NaN</td>\n      <td>17242</td>\n      <td>111.4</td>\n      <td>72001</td>\n      <td>Adjuntas</td>\n      <td>{'72001':99.43,'72141':0.57}</td>\n      <td>Adjuntas|Utuado</td>\n      <td>72001|72141</td>\n      <td>False</td>\n      <td>False</td>\n      <td>America/Puerto_Rico</td>\n    </tr>\n    <tr>\n      <th>1</th>\n      <td>00602</td>\n      <td>18.36073</td>\n      <td>-67.17517</td>\n      <td>Aguada</td>\n      <td>PR</td>\n      <td>Puerto Rico</td>\n      <td>True</td>\n      <td>NaN</td>\n      <td>38442</td>\n      <td>523.5</td>\n      <td>72003</td>\n      <td>Aguada</td>\n      <td>{'72003':100}</td>\n      <td>Aguada</td>\n      <td>72003</td>\n      <td>False</td>\n      <td>False</td>\n      <td>America/Puerto_Rico</td>\n    </tr>\n    <tr>\n      <th>2</th>\n      <td>00603</td>\n      <td>18.45439</td>\n      <td>-67.12202</td>\n      <td>Aguadilla</td>\n      <td>PR</td>\n      <td>Puerto Rico</td>\n      <td>True</td>\n      <td>NaN</td>\n      <td>48814</td>\n      <td>667.9</td>\n      <td>72005</td>\n      <td>Aguadilla</td>\n      <td>{'72005':100}</td>\n      <td>Aguadilla</td>\n      <td>72005</td>\n      <td>False</td>\n      <td>False</td>\n      <td>America/Puerto_Rico</td>\n    </tr>\n    <tr>\n      <th>3</th>\n      <td>00606</td>\n      <td>18.16724</td>\n      <td>-66.93828</td>\n      <td>Maricao</td>\n      <td>PR</td>\n      <td>Puerto Rico</td>\n      <td>True</td>\n      <td>NaN</td>\n      <td>6437</td>\n      <td>60.4</td>\n      <td>72093</td>\n      <td>Maricao</td>\n      <td>{'72093':94.88,'72121':1.35,'72153':3.78}</td>\n      <td>Maricao|Yauco|Sabana Grande</td>\n      <td>72093|72153|72121</td>\n      <td>False</td>\n      <td>False</td>\n      <td>America/Puerto_Rico</td>\n    </tr>\n    <tr>\n      <th>4</th>\n      <td>00610</td>\n      <td>18.29032</td>\n      <td>-67.12243</td>\n      <td>Anasco</td>\n      <td>PR</td>\n      <td>Puerto Rico</td>\n      <td>True</td>\n      <td>NaN</td>\n      <td>27073</td>\n      <td>312.0</td>\n      <td>72011</td>\n      <td>Añasco</td>\n      <td>{'72003':0.55,'72011':99.45}</td>\n      <td>Añasco|Aguada</td>\n      <td>72011|72003</td>\n      <td>False</td>\n      <td>False</td>\n      <td>America/Puerto_Rico</td>\n    </tr>\n    <tr>\n      <th>5</th>\n      <td>00612</td>\n      <td>18.40699</td>\n      <td>-66.70803</td>\n      <td>Arecibo</td>\n      <td>PR</td>\n      <td>Puerto Rico</td>\n      <td>True</td>\n      <td>NaN</td>\n      <td>60303</td>\n      <td>382.8</td>\n      <td>72013</td>\n      <td>Arecibo</td>\n      <td>{'72013':99.89,'72017':0.11}</td>\n      <td>Arecibo|Barceloneta</td>\n      <td>72013|72017</td>\n      <td>False</td>\n      <td>False</td>\n      <td>America/Puerto_Rico</td>\n    </tr>\n    <tr>\n      <th>6</th>\n      <td>00616</td>\n      <td>18.41753</td>\n      <td>-66.66814</td>\n      <td>Bajadero</td>\n      <td>PR</td>\n      <td>Puerto Rico</td>\n      <td>True</td>\n      <td>NaN</td>\n      <td>10765</td>\n      <td>368.9</td>\n      <td>72013</td>\n      <td>Arecibo</td>\n      <td>{'72013':100}</td>\n      <td>Arecibo</td>\n      <td>72013</td>\n      <td>False</td>\n      <td>False</td>\n      <td>America/Puerto_Rico</td>\n    </tr>\n    <tr>\n      <th>7</th>\n      <td>00617</td>\n      <td>18.44124</td>\n      <td>-66.55917</td>\n      <td>Barceloneta</td>\n      <td>PR</td>\n      <td>Puerto Rico</td>\n      <td>True</td>\n      <td>NaN</td>\n      <td>23974</td>\n      <td>625.0</td>\n      <td>72017</td>\n      <td>Barceloneta</td>\n      <td>{'72017':99.43,'72054':0.57}</td>\n      <td>Barceloneta|Florida</td>\n      <td>72017|72054</td>\n      <td>False</td>\n      <td>False</td>\n      <td>America/Puerto_Rico</td>\n    </tr>\n    <tr>\n      <th>8</th>\n      <td>00622</td>\n      <td>17.99174</td>\n      <td>-67.15248</td>\n      <td>Boqueron</td>\n      <td>PR</td>\n      <td>Puerto Rico</td>\n      <td>True</td>\n      <td>NaN</td>\n      <td>6578</td>\n      <td>104.6</td>\n      <td>72023</td>\n      <td>Cabo Rojo</td>\n      <td>{'72023':100}</td>\n      <td>Cabo Rojo</td>\n      <td>72023</td>\n      <td>False</td>\n      <td>False</td>\n      <td>America/Puerto_Rico</td>\n    </tr>\n    <tr>\n      <th>9</th>\n      <td>00623</td>\n      <td>18.08355</td>\n      <td>-67.15417</td>\n      <td>Cabo Rojo</td>\n      <td>PR</td>\n      <td>Puerto Rico</td>\n      <td>True</td>\n      <td>NaN</td>\n      <td>42427</td>\n      <td>437.8</td>\n      <td>72023</td>\n      <td>Cabo Rojo</td>\n      <td>{'72023':100}</td>\n      <td>Cabo Rojo</td>\n      <td>72023</td>\n      <td>False</td>\n      <td>False</td>\n      <td>America/Puerto_Rico</td>\n    </tr>\n  </tbody>\n</table>\n</div>"
     },
     "execution_count": 2,
     "metadata": {},
     "output_type": "execute_result"
    }
   ],
   "source": [
    "# Load the zipcode dataset\n",
    "# Load zipcode dataset and ensure that zipcodes are read as strings\n",
    "file_path = \"data/USZip_info.csv\"\n",
    "zip_df = pd.read_csv(file_path,dtype={\"zip\":\"string\"})\n",
    "zip_df.head(10)"
   ]
  },
  {
   "cell_type": "code",
   "execution_count": 3,
   "metadata": {
    "scrolled": true
   },
   "outputs": [
    {
     "data": {
      "text/plain": "     zip       lat       lng         city state_id   state_name  zcta  \\\n0  00601  18.18004 -66.75218     Adjuntas       PR  Puerto Rico  True   \n1  00602  18.36073 -67.17517       Aguada       PR  Puerto Rico  True   \n2  00603  18.45439 -67.12202    Aguadilla       PR  Puerto Rico  True   \n3  00606  18.16724 -66.93828      Maricao       PR  Puerto Rico  True   \n4  00610  18.29032 -67.12243       Anasco       PR  Puerto Rico  True   \n5  00612  18.40699 -66.70803      Arecibo       PR  Puerto Rico  True   \n6  00616  18.41753 -66.66814     Bajadero       PR  Puerto Rico  True   \n7  00617  18.44124 -66.55917  Barceloneta       PR  Puerto Rico  True   \n8  00622  17.99174 -67.15248     Boqueron       PR  Puerto Rico  True   \n9  00623  18.08355 -67.15417    Cabo Rojo       PR  Puerto Rico  True   \n\n   population  density  county_fips  \n0       17242    111.4        72001  \n1       38442    523.5        72003  \n2       48814    667.9        72005  \n3        6437     60.4        72093  \n4       27073    312.0        72011  \n5       60303    382.8        72013  \n6       10765    368.9        72013  \n7       23974    625.0        72017  \n8        6578    104.6        72023  \n9       42427    437.8        72023  ",
      "text/html": "<div>\n<style scoped>\n    .dataframe tbody tr th:only-of-type {\n        vertical-align: middle;\n    }\n\n    .dataframe tbody tr th {\n        vertical-align: top;\n    }\n\n    .dataframe thead th {\n        text-align: right;\n    }\n</style>\n<table border=\"1\" class=\"dataframe\">\n  <thead>\n    <tr style=\"text-align: right;\">\n      <th></th>\n      <th>zip</th>\n      <th>lat</th>\n      <th>lng</th>\n      <th>city</th>\n      <th>state_id</th>\n      <th>state_name</th>\n      <th>zcta</th>\n      <th>population</th>\n      <th>density</th>\n      <th>county_fips</th>\n    </tr>\n  </thead>\n  <tbody>\n    <tr>\n      <th>0</th>\n      <td>00601</td>\n      <td>18.18004</td>\n      <td>-66.75218</td>\n      <td>Adjuntas</td>\n      <td>PR</td>\n      <td>Puerto Rico</td>\n      <td>True</td>\n      <td>17242</td>\n      <td>111.4</td>\n      <td>72001</td>\n    </tr>\n    <tr>\n      <th>1</th>\n      <td>00602</td>\n      <td>18.36073</td>\n      <td>-67.17517</td>\n      <td>Aguada</td>\n      <td>PR</td>\n      <td>Puerto Rico</td>\n      <td>True</td>\n      <td>38442</td>\n      <td>523.5</td>\n      <td>72003</td>\n    </tr>\n    <tr>\n      <th>2</th>\n      <td>00603</td>\n      <td>18.45439</td>\n      <td>-67.12202</td>\n      <td>Aguadilla</td>\n      <td>PR</td>\n      <td>Puerto Rico</td>\n      <td>True</td>\n      <td>48814</td>\n      <td>667.9</td>\n      <td>72005</td>\n    </tr>\n    <tr>\n      <th>3</th>\n      <td>00606</td>\n      <td>18.16724</td>\n      <td>-66.93828</td>\n      <td>Maricao</td>\n      <td>PR</td>\n      <td>Puerto Rico</td>\n      <td>True</td>\n      <td>6437</td>\n      <td>60.4</td>\n      <td>72093</td>\n    </tr>\n    <tr>\n      <th>4</th>\n      <td>00610</td>\n      <td>18.29032</td>\n      <td>-67.12243</td>\n      <td>Anasco</td>\n      <td>PR</td>\n      <td>Puerto Rico</td>\n      <td>True</td>\n      <td>27073</td>\n      <td>312.0</td>\n      <td>72011</td>\n    </tr>\n    <tr>\n      <th>5</th>\n      <td>00612</td>\n      <td>18.40699</td>\n      <td>-66.70803</td>\n      <td>Arecibo</td>\n      <td>PR</td>\n      <td>Puerto Rico</td>\n      <td>True</td>\n      <td>60303</td>\n      <td>382.8</td>\n      <td>72013</td>\n    </tr>\n    <tr>\n      <th>6</th>\n      <td>00616</td>\n      <td>18.41753</td>\n      <td>-66.66814</td>\n      <td>Bajadero</td>\n      <td>PR</td>\n      <td>Puerto Rico</td>\n      <td>True</td>\n      <td>10765</td>\n      <td>368.9</td>\n      <td>72013</td>\n    </tr>\n    <tr>\n      <th>7</th>\n      <td>00617</td>\n      <td>18.44124</td>\n      <td>-66.55917</td>\n      <td>Barceloneta</td>\n      <td>PR</td>\n      <td>Puerto Rico</td>\n      <td>True</td>\n      <td>23974</td>\n      <td>625.0</td>\n      <td>72017</td>\n    </tr>\n    <tr>\n      <th>8</th>\n      <td>00622</td>\n      <td>17.99174</td>\n      <td>-67.15248</td>\n      <td>Boqueron</td>\n      <td>PR</td>\n      <td>Puerto Rico</td>\n      <td>True</td>\n      <td>6578</td>\n      <td>104.6</td>\n      <td>72023</td>\n    </tr>\n    <tr>\n      <th>9</th>\n      <td>00623</td>\n      <td>18.08355</td>\n      <td>-67.15417</td>\n      <td>Cabo Rojo</td>\n      <td>PR</td>\n      <td>Puerto Rico</td>\n      <td>True</td>\n      <td>42427</td>\n      <td>437.8</td>\n      <td>72023</td>\n    </tr>\n  </tbody>\n</table>\n</div>"
     },
     "execution_count": 3,
     "metadata": {},
     "output_type": "execute_result"
    }
   ],
   "source": [
    "zipcode_df = zip_df[['zip', 'lat', 'lng', 'city', 'state_id', 'state_name', 'zcta', 'population', 'density', 'county_fips']]\n",
    "zipcode_df.head(10)"
   ]
  },
  {
   "cell_type": "code",
   "execution_count": 4,
   "metadata": {
    "scrolled": false
   },
   "outputs": [
    {
     "data": {
      "text/plain": "  ZipCode       lat       lng       city state_id   state_name  zcta  \\\n0   00601  18.18004 -66.75218   Adjuntas       PR  Puerto Rico  True   \n1   00602  18.36073 -67.17517     Aguada       PR  Puerto Rico  True   \n2   00603  18.45439 -67.12202  Aguadilla       PR  Puerto Rico  True   \n3   00606  18.16724 -66.93828    Maricao       PR  Puerto Rico  True   \n4   00610  18.29032 -67.12243     Anasco       PR  Puerto Rico  True   \n\n   population  density  county_fips  \n0       17242    111.4        72001  \n1       38442    523.5        72003  \n2       48814    667.9        72005  \n3        6437     60.4        72093  \n4       27073    312.0        72011  ",
      "text/html": "<div>\n<style scoped>\n    .dataframe tbody tr th:only-of-type {\n        vertical-align: middle;\n    }\n\n    .dataframe tbody tr th {\n        vertical-align: top;\n    }\n\n    .dataframe thead th {\n        text-align: right;\n    }\n</style>\n<table border=\"1\" class=\"dataframe\">\n  <thead>\n    <tr style=\"text-align: right;\">\n      <th></th>\n      <th>ZipCode</th>\n      <th>lat</th>\n      <th>lng</th>\n      <th>city</th>\n      <th>state_id</th>\n      <th>state_name</th>\n      <th>zcta</th>\n      <th>population</th>\n      <th>density</th>\n      <th>county_fips</th>\n    </tr>\n  </thead>\n  <tbody>\n    <tr>\n      <th>0</th>\n      <td>00601</td>\n      <td>18.18004</td>\n      <td>-66.75218</td>\n      <td>Adjuntas</td>\n      <td>PR</td>\n      <td>Puerto Rico</td>\n      <td>True</td>\n      <td>17242</td>\n      <td>111.4</td>\n      <td>72001</td>\n    </tr>\n    <tr>\n      <th>1</th>\n      <td>00602</td>\n      <td>18.36073</td>\n      <td>-67.17517</td>\n      <td>Aguada</td>\n      <td>PR</td>\n      <td>Puerto Rico</td>\n      <td>True</td>\n      <td>38442</td>\n      <td>523.5</td>\n      <td>72003</td>\n    </tr>\n    <tr>\n      <th>2</th>\n      <td>00603</td>\n      <td>18.45439</td>\n      <td>-67.12202</td>\n      <td>Aguadilla</td>\n      <td>PR</td>\n      <td>Puerto Rico</td>\n      <td>True</td>\n      <td>48814</td>\n      <td>667.9</td>\n      <td>72005</td>\n    </tr>\n    <tr>\n      <th>3</th>\n      <td>00606</td>\n      <td>18.16724</td>\n      <td>-66.93828</td>\n      <td>Maricao</td>\n      <td>PR</td>\n      <td>Puerto Rico</td>\n      <td>True</td>\n      <td>6437</td>\n      <td>60.4</td>\n      <td>72093</td>\n    </tr>\n    <tr>\n      <th>4</th>\n      <td>00610</td>\n      <td>18.29032</td>\n      <td>-67.12243</td>\n      <td>Anasco</td>\n      <td>PR</td>\n      <td>Puerto Rico</td>\n      <td>True</td>\n      <td>27073</td>\n      <td>312.0</td>\n      <td>72011</td>\n    </tr>\n  </tbody>\n</table>\n</div>"
     },
     "execution_count": 4,
     "metadata": {},
     "output_type": "execute_result"
    }
   ],
   "source": [
    "# Rename column titles\n",
    "zipcode_df = zipcode_df.rename(columns={'zip': 'ZipCode'})\n",
    "zipcode_df.head(5)"
   ]
  },
  {
   "cell_type": "code",
   "execution_count": 5,
   "metadata": {
    "scrolled": true
   },
   "outputs": [
    {
     "data": {
      "text/plain": "ZipCode         string\nlat            float64\nlng            float64\ncity            object\nstate_id        object\nstate_name      object\nzcta              bool\npopulation       int64\ndensity        float64\ncounty_fips      int64\ndtype: object"
     },
     "execution_count": 5,
     "metadata": {},
     "output_type": "execute_result"
    }
   ],
   "source": [
    "zipcode_df.dtypes"
   ]
  },
  {
   "cell_type": "code",
   "execution_count": 7,
   "metadata": {},
   "outputs": [],
   "source": [
    "zipcode_df.to_csv('data/zipcode_demo.csv',index=False)"
   ]
  },
  {
   "cell_type": "code",
   "execution_count": null,
   "outputs": [],
   "source": [],
   "metadata": {
    "collapsed": false
   }
  }
 ],
 "metadata": {
  "kernelspec": {
   "display_name": "Python 3 (ipykernel)",
   "language": "python",
   "name": "python3"
  },
  "language_info": {
   "codemirror_mode": {
    "name": "ipython",
    "version": 3
   },
   "file_extension": ".py",
   "mimetype": "text/x-python",
   "name": "python",
   "nbconvert_exporter": "python",
   "pygments_lexer": "ipython3",
   "version": "3.7.13"
  }
 },
 "nbformat": 4,
 "nbformat_minor": 1
}
